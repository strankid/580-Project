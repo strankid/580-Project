{
  "cells": [
    {
      "cell_type": "markdown",
      "id": "8c2c291a",
      "metadata": {
        "id": "8c2c291a"
      },
      "source": [
        "### Tasks\n",
        "* Implement Faiss - (create a util file using code given by gaurav and import here) \n",
        "* Implement Near Neighbor Sampling \n",
        "* plot the gradients for each batch (==1, should be high) and for the entire dataset(should be low) at different interesting epochs \n",
        "* Figure out how to calculate efficient per sample gradient \n"
      ]
    },
    {
      "cell_type": "code",
      "source": [
        "pip install faiss-cpu --no-cache"
      ],
      "metadata": {
        "colab": {
          "base_uri": "https://localhost:8080/"
        },
        "id": "fdpUrHxbuKMa",
        "outputId": "986a6f3e-ddc9-4147-b2fe-8b6d5827dbf5"
      },
      "id": "fdpUrHxbuKMa",
      "execution_count": 1,
      "outputs": [
        {
          "output_type": "stream",
          "name": "stdout",
          "text": [
            "Looking in indexes: https://pypi.org/simple, https://us-python.pkg.dev/colab-wheels/public/simple/\n",
            "Collecting faiss-cpu\n",
            "  Downloading faiss_cpu-1.7.2-cp37-cp37m-manylinux_2_17_x86_64.manylinux2014_x86_64.whl (8.6 MB)\n",
            "\u001b[K     |████████████████████████████████| 8.6 MB 12.8 MB/s \n",
            "\u001b[?25hInstalling collected packages: faiss-cpu\n",
            "Successfully installed faiss-cpu-1.7.2\n"
          ]
        }
      ]
    },
    {
      "cell_type": "code",
      "execution_count": 83,
      "id": "40d5323f",
      "metadata": {
        "id": "40d5323f"
      },
      "outputs": [],
      "source": [
        "import numpy as np\n",
        "import pandas as pd\n",
        "import seaborn as sns\n",
        "from tqdm.notebook import tqdm\n",
        "import matplotlib.pyplot as plt\n",
        "import random\n",
        "\n",
        "#replace with pytorch lightning\n",
        "import torch\n",
        "import torch.nn as nn\n",
        "import torch.optim as optim\n",
        "from torch.utils.data import Dataset, DataLoader, WeightedRandomSampler\n",
        "\n",
        "from sklearn.preprocessing import MinMaxScaler    \n",
        "from sklearn.model_selection import train_test_split\n",
        "from sklearn.metrics import confusion_matrix, classification_report\n",
        "from indx import *\n",
        "from query import *"
      ]
    },
    {
      "cell_type": "code",
      "source": [
        "print(torch.__version__)"
      ],
      "metadata": {
        "id": "TxUdFF_5mx9o",
        "outputId": "67c4383e-b817-4e03-cf61-5d0a66af2bc5",
        "colab": {
          "base_uri": "https://localhost:8080/"
        }
      },
      "id": "TxUdFF_5mx9o",
      "execution_count": null,
      "outputs": [
        {
          "output_type": "stream",
          "name": "stdout",
          "text": [
            "1.12.1+cu113\n"
          ]
        }
      ]
    },
    {
      "cell_type": "code",
      "execution_count": 84,
      "id": "492d34a9",
      "metadata": {
        "colab": {
          "base_uri": "https://localhost:8080/",
          "height": 265
        },
        "id": "492d34a9",
        "outputId": "a94a82ad-fabd-4513-c670-f24ca15a0110"
      },
      "outputs": [
        {
          "output_type": "execute_result",
          "data": {
            "text/plain": [
              "   fixed acidity  volatile acidity  citric acid  residual sugar  chlorides  \\\n",
              "0            7.4              0.70         0.00             1.9      0.076   \n",
              "1            7.8              0.88         0.00             2.6      0.098   \n",
              "2            7.8              0.76         0.04             2.3      0.092   \n",
              "3           11.2              0.28         0.56             1.9      0.075   \n",
              "4            7.4              0.70         0.00             1.9      0.076   \n",
              "\n",
              "   free sulfur dioxide  total sulfur dioxide  density    pH  sulphates  \\\n",
              "0                 11.0                  34.0   0.9978  3.51       0.56   \n",
              "1                 25.0                  67.0   0.9968  3.20       0.68   \n",
              "2                 15.0                  54.0   0.9970  3.26       0.65   \n",
              "3                 17.0                  60.0   0.9980  3.16       0.58   \n",
              "4                 11.0                  34.0   0.9978  3.51       0.56   \n",
              "\n",
              "   alcohol  quality  \n",
              "0      9.4        5  \n",
              "1      9.8        5  \n",
              "2      9.8        5  \n",
              "3      9.8        6  \n",
              "4      9.4        5  "
            ],
            "text/html": [
              "\n",
              "  <div id=\"df-c652a5f6-db15-4d68-8385-5106f8e75247\">\n",
              "    <div class=\"colab-df-container\">\n",
              "      <div>\n",
              "<style scoped>\n",
              "    .dataframe tbody tr th:only-of-type {\n",
              "        vertical-align: middle;\n",
              "    }\n",
              "\n",
              "    .dataframe tbody tr th {\n",
              "        vertical-align: top;\n",
              "    }\n",
              "\n",
              "    .dataframe thead th {\n",
              "        text-align: right;\n",
              "    }\n",
              "</style>\n",
              "<table border=\"1\" class=\"dataframe\">\n",
              "  <thead>\n",
              "    <tr style=\"text-align: right;\">\n",
              "      <th></th>\n",
              "      <th>fixed acidity</th>\n",
              "      <th>volatile acidity</th>\n",
              "      <th>citric acid</th>\n",
              "      <th>residual sugar</th>\n",
              "      <th>chlorides</th>\n",
              "      <th>free sulfur dioxide</th>\n",
              "      <th>total sulfur dioxide</th>\n",
              "      <th>density</th>\n",
              "      <th>pH</th>\n",
              "      <th>sulphates</th>\n",
              "      <th>alcohol</th>\n",
              "      <th>quality</th>\n",
              "    </tr>\n",
              "  </thead>\n",
              "  <tbody>\n",
              "    <tr>\n",
              "      <th>0</th>\n",
              "      <td>7.4</td>\n",
              "      <td>0.70</td>\n",
              "      <td>0.00</td>\n",
              "      <td>1.9</td>\n",
              "      <td>0.076</td>\n",
              "      <td>11.0</td>\n",
              "      <td>34.0</td>\n",
              "      <td>0.9978</td>\n",
              "      <td>3.51</td>\n",
              "      <td>0.56</td>\n",
              "      <td>9.4</td>\n",
              "      <td>5</td>\n",
              "    </tr>\n",
              "    <tr>\n",
              "      <th>1</th>\n",
              "      <td>7.8</td>\n",
              "      <td>0.88</td>\n",
              "      <td>0.00</td>\n",
              "      <td>2.6</td>\n",
              "      <td>0.098</td>\n",
              "      <td>25.0</td>\n",
              "      <td>67.0</td>\n",
              "      <td>0.9968</td>\n",
              "      <td>3.20</td>\n",
              "      <td>0.68</td>\n",
              "      <td>9.8</td>\n",
              "      <td>5</td>\n",
              "    </tr>\n",
              "    <tr>\n",
              "      <th>2</th>\n",
              "      <td>7.8</td>\n",
              "      <td>0.76</td>\n",
              "      <td>0.04</td>\n",
              "      <td>2.3</td>\n",
              "      <td>0.092</td>\n",
              "      <td>15.0</td>\n",
              "      <td>54.0</td>\n",
              "      <td>0.9970</td>\n",
              "      <td>3.26</td>\n",
              "      <td>0.65</td>\n",
              "      <td>9.8</td>\n",
              "      <td>5</td>\n",
              "    </tr>\n",
              "    <tr>\n",
              "      <th>3</th>\n",
              "      <td>11.2</td>\n",
              "      <td>0.28</td>\n",
              "      <td>0.56</td>\n",
              "      <td>1.9</td>\n",
              "      <td>0.075</td>\n",
              "      <td>17.0</td>\n",
              "      <td>60.0</td>\n",
              "      <td>0.9980</td>\n",
              "      <td>3.16</td>\n",
              "      <td>0.58</td>\n",
              "      <td>9.8</td>\n",
              "      <td>6</td>\n",
              "    </tr>\n",
              "    <tr>\n",
              "      <th>4</th>\n",
              "      <td>7.4</td>\n",
              "      <td>0.70</td>\n",
              "      <td>0.00</td>\n",
              "      <td>1.9</td>\n",
              "      <td>0.076</td>\n",
              "      <td>11.0</td>\n",
              "      <td>34.0</td>\n",
              "      <td>0.9978</td>\n",
              "      <td>3.51</td>\n",
              "      <td>0.56</td>\n",
              "      <td>9.4</td>\n",
              "      <td>5</td>\n",
              "    </tr>\n",
              "  </tbody>\n",
              "</table>\n",
              "</div>\n",
              "      <button class=\"colab-df-convert\" onclick=\"convertToInteractive('df-c652a5f6-db15-4d68-8385-5106f8e75247')\"\n",
              "              title=\"Convert this dataframe to an interactive table.\"\n",
              "              style=\"display:none;\">\n",
              "        \n",
              "  <svg xmlns=\"http://www.w3.org/2000/svg\" height=\"24px\"viewBox=\"0 0 24 24\"\n",
              "       width=\"24px\">\n",
              "    <path d=\"M0 0h24v24H0V0z\" fill=\"none\"/>\n",
              "    <path d=\"M18.56 5.44l.94 2.06.94-2.06 2.06-.94-2.06-.94-.94-2.06-.94 2.06-2.06.94zm-11 1L8.5 8.5l.94-2.06 2.06-.94-2.06-.94L8.5 2.5l-.94 2.06-2.06.94zm10 10l.94 2.06.94-2.06 2.06-.94-2.06-.94-.94-2.06-.94 2.06-2.06.94z\"/><path d=\"M17.41 7.96l-1.37-1.37c-.4-.4-.92-.59-1.43-.59-.52 0-1.04.2-1.43.59L10.3 9.45l-7.72 7.72c-.78.78-.78 2.05 0 2.83L4 21.41c.39.39.9.59 1.41.59.51 0 1.02-.2 1.41-.59l7.78-7.78 2.81-2.81c.8-.78.8-2.07 0-2.86zM5.41 20L4 18.59l7.72-7.72 1.47 1.35L5.41 20z\"/>\n",
              "  </svg>\n",
              "      </button>\n",
              "      \n",
              "  <style>\n",
              "    .colab-df-container {\n",
              "      display:flex;\n",
              "      flex-wrap:wrap;\n",
              "      gap: 12px;\n",
              "    }\n",
              "\n",
              "    .colab-df-convert {\n",
              "      background-color: #E8F0FE;\n",
              "      border: none;\n",
              "      border-radius: 50%;\n",
              "      cursor: pointer;\n",
              "      display: none;\n",
              "      fill: #1967D2;\n",
              "      height: 32px;\n",
              "      padding: 0 0 0 0;\n",
              "      width: 32px;\n",
              "    }\n",
              "\n",
              "    .colab-df-convert:hover {\n",
              "      background-color: #E2EBFA;\n",
              "      box-shadow: 0px 1px 2px rgba(60, 64, 67, 0.3), 0px 1px 3px 1px rgba(60, 64, 67, 0.15);\n",
              "      fill: #174EA6;\n",
              "    }\n",
              "\n",
              "    [theme=dark] .colab-df-convert {\n",
              "      background-color: #3B4455;\n",
              "      fill: #D2E3FC;\n",
              "    }\n",
              "\n",
              "    [theme=dark] .colab-df-convert:hover {\n",
              "      background-color: #434B5C;\n",
              "      box-shadow: 0px 1px 3px 1px rgba(0, 0, 0, 0.15);\n",
              "      filter: drop-shadow(0px 1px 2px rgba(0, 0, 0, 0.3));\n",
              "      fill: #FFFFFF;\n",
              "    }\n",
              "  </style>\n",
              "\n",
              "      <script>\n",
              "        const buttonEl =\n",
              "          document.querySelector('#df-c652a5f6-db15-4d68-8385-5106f8e75247 button.colab-df-convert');\n",
              "        buttonEl.style.display =\n",
              "          google.colab.kernel.accessAllowed ? 'block' : 'none';\n",
              "\n",
              "        async function convertToInteractive(key) {\n",
              "          const element = document.querySelector('#df-c652a5f6-db15-4d68-8385-5106f8e75247');\n",
              "          const dataTable =\n",
              "            await google.colab.kernel.invokeFunction('convertToInteractive',\n",
              "                                                     [key], {});\n",
              "          if (!dataTable) return;\n",
              "\n",
              "          const docLinkHtml = 'Like what you see? Visit the ' +\n",
              "            '<a target=\"_blank\" href=https://colab.research.google.com/notebooks/data_table.ipynb>data table notebook</a>'\n",
              "            + ' to learn more about interactive tables.';\n",
              "          element.innerHTML = '';\n",
              "          dataTable['output_type'] = 'display_data';\n",
              "          await google.colab.output.renderOutput(dataTable, element);\n",
              "          const docLink = document.createElement('div');\n",
              "          docLink.innerHTML = docLinkHtml;\n",
              "          element.appendChild(docLink);\n",
              "        }\n",
              "      </script>\n",
              "    </div>\n",
              "  </div>\n",
              "  "
            ]
          },
          "metadata": {},
          "execution_count": 84
        }
      ],
      "source": [
        "df = pd.read_csv(\"winequality-red.csv\")\n",
        "df.head()"
      ]
    },
    {
      "cell_type": "code",
      "execution_count": 85,
      "id": "cdcc7247",
      "metadata": {
        "id": "cdcc7247",
        "colab": {
          "base_uri": "https://localhost:8080/",
          "height": 296
        },
        "outputId": "9fbf039d-8e9b-4f9d-e161-a8ee5447c472"
      },
      "outputs": [
        {
          "output_type": "execute_result",
          "data": {
            "text/plain": [
              "<matplotlib.axes._subplots.AxesSubplot at 0x7f95dc470790>"
            ]
          },
          "metadata": {},
          "execution_count": 85
        },
        {
          "output_type": "display_data",
          "data": {
            "text/plain": [
              "<Figure size 432x288 with 1 Axes>"
            ],
            "image/png": "[encoded data removed]"
          },
          "metadata": {
            "needs_background": "light"
          }
        }
      ],
      "source": [
        "sns.countplot(x = 'quality', data=df)"
      ]
    },
    {
      "cell_type": "code",
      "source": [
        "# query(13,1599,2,False,\"vector_data.npy\",\"vector_data.npy\",\"COMP580_vector_data.npy\",5)"
      ],
      "metadata": {
        "id": "qhIWBvZip1mD"
      },
      "id": "qhIWBvZip1mD",
      "execution_count": null,
      "outputs": []
    },
    {
      "cell_type": "code",
      "execution_count": 86,
      "id": "58d75743",
      "metadata": {
        "id": "58d75743"
      },
      "outputs": [],
      "source": [
        "class2idx = {\n",
        "    3:0,\n",
        "    4:1,\n",
        "    5:2,\n",
        "    6:3,\n",
        "    7:4,\n",
        "    8:5\n",
        "}\n",
        "\n",
        "idx2class = {v: k for k, v in class2idx.items()}\n",
        "\n",
        "df['quality'].replace(class2idx, inplace=True)"
      ]
    },
    {
      "cell_type": "code",
      "execution_count": null,
      "id": "fa426cb0",
      "metadata": {
        "id": "fa426cb0"
      },
      "outputs": [],
      "source": [
        "## Create Hash tables for different classes start with one table, choose k\n"
      ]
    },
    {
      "cell_type": "code",
      "execution_count": 87,
      "id": "b523ccaa",
      "metadata": {
        "id": "b523ccaa"
      },
      "outputs": [],
      "source": [
        "X = df.iloc[:, 0:-1]\n",
        "y = df.iloc[:, -1]"
      ]
    },
    {
      "cell_type": "code",
      "execution_count": 88,
      "id": "a83d1de1",
      "metadata": {
        "id": "a83d1de1"
      },
      "outputs": [],
      "source": [
        "# Split into train+val and test\n",
        "X_trainval, X_test, y_trainval, y_test = train_test_split(X, y, test_size=0.2, stratify=y, random_state=69)\n",
        "\n",
        "# Split train into train-val\n",
        "X_train, X_val, y_train, y_val = train_test_split(X_trainval, y_trainval, test_size=0.1, stratify=y_trainval, random_state=21)"
      ]
    },
    {
      "cell_type": "code",
      "execution_count": 89,
      "id": "b43ca849",
      "metadata": {
        "id": "b43ca849"
      },
      "outputs": [],
      "source": [
        "scaler = MinMaxScaler()\n",
        "X_train = scaler.fit_transform(X_train)\n",
        "X_val = scaler.transform(X_val)\n",
        "X_test = scaler.transform(X_test)\n",
        "X_train, y_train = np.array(X_train), np.array(y_train)\n",
        "X_val, y_val = np.array(X_val), np.array(y_val)\n",
        "X_test, y_test = np.array(X_test), np.array(y_test)"
      ]
    },
    {
      "cell_type": "code",
      "source": [
        "TEMP=np.append(X_train,y_train[:,None],axis=1)\n",
        "TEMP = TEMP[TEMP[:, -1].argsort()]\n",
        "# print(np.unique(TEMP[:, -1], return_index=True)[1][:])\n",
        "TEMP=np.split(TEMP, np.unique(TEMP[:, -1], return_index=True)[1][0:])\n",
        "\n",
        "CLASSES=[]\n",
        "for i in range(6):\n",
        "  CLASSES.append(np.ascontiguousarray(TEMP[i+1]))\n",
        "# CLASS0=np.ascontiguousarray(TEMP[1])\n",
        "# CLASS1=np.ascontiguousarray(TEMP[2])\n",
        "# CLASS2=np.ascontiguousarray(TEMP[3])\n",
        "# CLASS3=np.ascontiguousarray(TEMP[4])\n",
        "# CLASS4=np.ascontiguousarray(TEMP[5])\n",
        "# CLASS5=np.ascontiguousarray(TEMP[6])\n",
        "\n",
        "\n",
        "print(CLASSES[5])"
      ],
      "metadata": {
        "colab": {
          "base_uri": "https://localhost:8080/"
        },
        "id": "nhvhE3rUvi4w",
        "outputId": "3c7273fc-df0f-4852-e0b2-1cebb290b0f8"
      },
      "id": "nhvhE3rUvi4w",
      "execution_count": 90,
      "outputs": [
        {
          "output_type": "stream",
          "name": "stdout",
          "text": [
            "[[0.05454545 0.25342466 0.03       0.06164384 0.05342237 0.40298507\n",
            "  0.28621908 0.05359765 0.5984252  0.29341317 0.86153846 5.        ]\n",
            " [0.7        0.13013699 0.72       0.0890411  0.10016694 0.07462687\n",
            "  0.08127208 0.63362702 0.11023622 0.29341317 0.21538462 5.        ]\n",
            " [0.27272727 0.15753425 0.46       0.18493151 0.11018364 0.20895522\n",
            "  0.10954064 0.530837   0.48031496 0.31736527 0.67692308 5.        ]\n",
            " [0.33636364 0.20547945 0.39       0.06164384 0.09348915 0.07462687\n",
            "  0.02120141 0.37371512 0.48031496 0.21556886 0.50769231 5.        ]\n",
            " [0.27272727 0.28767123 0.34       0.10958904 0.10684474 0.10447761\n",
            "  0.03886926 0.16740088 0.36220472 0.23353293 0.72307692 5.        ]\n",
            " [0.00909091 0.20547945 0.24       0.07534247 0.08013356 0.26865672\n",
            "  0.15547703 0.11967695 0.77165354 0.24550898 0.86153846 5.        ]\n",
            " [0.06363636 0.5        0.05       0.03424658 0.05509182 0.1641791\n",
            "  0.28975265 0.17107195 0.64566929 0.29341317 0.69230769 5.        ]\n",
            " [0.40909091 0.12328767 0.56       0.13013699 0.11352254 0.07462687\n",
            "  0.03886926 0.46475771 0.32283465 0.35329341 0.50769231 5.        ]\n",
            " [0.26363636 0.30821918 0.09       0.09589041 0.0884808  0.49253731\n",
            "  0.13780919 0.3010279  0.56692913 0.24550898 0.66153846 5.        ]\n",
            " [0.49090909 0.1369863  0.45       0.37671233 0.10183639 0.05970149\n",
            "  0.02473498 0.55286344 0.38582677 0.29341317 0.64615385 5.        ]\n",
            " [0.46363636 0.09589041 0.54       0.06849315 0.11853088 0.6119403\n",
            "  0.24028269 0.32599119 0.18897638 0.17964072 0.52307692 5.        ]\n",
            " [0.58181818 0.34246575 0.67       0.29452055 0.12353923 0.07462687\n",
            "  0.0459364  0.64096916 0.37795276 0.21556886 0.76923077 5.        ]\n",
            " [0.20909091 0.14383562 0.33       0.05479452 0.08180301 0.02985075\n",
            "  0.02473498 0.43538913 0.38582677 0.46107784 0.24615385 5.        ]\n",
            " [0.38181818 0.19178082 0.5        0.06164384 0.0984975  0.08955224\n",
            "  0.03533569 0.33406755 0.37007874 0.21556886 0.63076923 5.        ]]\n"
          ]
        }
      ]
    },
    {
      "cell_type": "code",
      "source": [
        "# TEMP=pd.DataFrame(X_train)\n",
        "# TEMP[\"Class\"]=pd.DataFrame(y_train)\n",
        "# TEMP=TEMP.groupby([\"Class\"])\n",
        "# CLASS0=TEMP.get_group(0).reset_index()\n",
        "# CLASS1=TEMP.get_group(1).reset_index()\n",
        "# CLASS2=TEMP.get_group(2).reset_index()\n",
        "# CLASS3=TEMP.get_group(3).reset_index()\n",
        "# CLASS4=TEMP.get_group(4).reset_index()\n",
        "# CLASS5=TEMP.get_group(5).reset_index()\n",
        "\n"
      ],
      "metadata": {
        "id": "FuutaJHRrH2K"
      },
      "id": "FuutaJHRrH2K",
      "execution_count": 37,
      "outputs": []
    },
    {
      "cell_type": "code",
      "source": [
        "\n",
        "index(CLASSES[0][:,:-1],\"IVF3,Flat\",\"CLASS0\")\n",
        "index(CLASSES[1][:,:-1],\"IVF3,Flat\",\"CLASS1\")\n",
        "index(CLASSES[2][:,:-1],\"IVF4,Flat\",\"CLASS2\")\n",
        "index(CLASSES[3][:,:-1],\"IVF5,Flat\",\"CLASS3\")\n",
        "index(CLASSES[4][:,:-1],\"IVF5,Flat\",\"CLASS4\")\n",
        "index(CLASSES[5][:,:-1],\"IVF6,Flat\",\"CLASS5\")\n"
      ],
      "metadata": {
        "colab": {
          "base_uri": "https://localhost:8080/"
        },
        "id": "hDVIUI_n0hO0",
        "outputId": "e5e7b6a3-7ded-4a2b-b1c6-6cb2ea18fc6b"
      },
      "id": "hDVIUI_n0hO0",
      "execution_count": 20,
      "outputs": [
        {
          "output_type": "stream",
          "name": "stdout",
          "text": [
            "<class 'numpy.float32'>\n",
            "traning\n",
            "adding\n",
            "ntotal after ivf:  7\n",
            "total train time:  0.0054738521575927734\n",
            "saving at  CLASS0\n",
            "total code time:  0.007448673248291016\n",
            "<class 'numpy.float32'>\n",
            "traning\n",
            "adding\n",
            "ntotal after ivf:  38\n",
            "total train time:  0.00650477409362793\n",
            "saving at  CLASS1\n",
            "total code time:  0.00673985481262207\n",
            "<class 'numpy.float32'>\n",
            "traning\n",
            "adding\n",
            "ntotal after ivf:  490\n",
            "total train time:  0.002801656723022461\n",
            "saving at  CLASS2\n",
            "total code time:  0.0030753612518310547\n",
            "<class 'numpy.float32'>\n",
            "traning\n",
            "adding\n",
            "ntotal after ivf:  459\n",
            "total train time:  0.012773513793945312\n",
            "saving at  CLASS3\n",
            "total code time:  0.01306295394897461\n",
            "<class 'numpy.float32'>\n",
            "traning\n",
            "adding\n",
            "ntotal after ivf:  143\n",
            "total train time:  0.00961446762084961\n",
            "saving at  CLASS4\n",
            "total code time:  0.009868383407592773\n",
            "<class 'numpy.float32'>\n",
            "traning\n",
            "adding\n",
            "ntotal after ivf:  14\n",
            "total train time:  0.003271341323852539\n",
            "saving at  CLASS5\n",
            "total code time:  0.003487110137939453\n"
          ]
        }
      ]
    },
    {
      "cell_type": "code",
      "source": [
        "# print(type(X_train))\n",
        "# l=X_train\n",
        "# l = np.ascontiguousarray(l)\n",
        "# np.save(\"vector_data\",l);"
      ],
      "metadata": {
        "id": "UDdIBD4KW7-C"
      },
      "id": "UDdIBD4KW7-C",
      "execution_count": 7,
      "outputs": []
    },
    {
      "cell_type": "code",
      "source": [
        "# index(l,\"IVF8,PQ1\")"
      ],
      "metadata": {
        "colab": {
          "base_uri": "https://localhost:8080/"
        },
        "id": "Mp9LsxN4XO7H",
        "outputId": "764ecd73-036c-4d69-e1f1-5c263547bd0a"
      },
      "id": "Mp9LsxN4XO7H",
      "execution_count": 8,
      "outputs": [
        {
          "output_type": "stream",
          "name": "stdout",
          "text": [
            "<class 'numpy.float32'>\n",
            "traning\n",
            "adding\n",
            "ntotal after ivf:  1151\n",
            "total train time:  11.814581155776978\n",
            "saving at  ./COMP580\n",
            "total code time:  11.817189931869507\n"
          ]
        }
      ]
    },
    {
      "cell_type": "code",
      "source": [
        "# query(11,7,2,False,CLASSES[0][:,:-1],CLASSES[0][:,:-1],\"CLASS0\",2)"
      ],
      "metadata": {
        "id": "G9L49_c-QJpE",
        "colab": {
          "base_uri": "https://localhost:8080/"
        },
        "outputId": "8441977f-2312-4ab9-aad8-97b694790afe"
      },
      "id": "G9L49_c-QJpE",
      "execution_count": 26,
      "outputs": [
        {
          "output_type": "execute_result",
          "data": {
            "text/plain": [
              "(array([[1.48492062, 1.32370675],\n",
              "        [1.26127994, 1.24448729]]), array([[5., 0.],\n",
              "        [6., 3.]]))"
            ]
          },
          "metadata": {},
          "execution_count": 26
        }
      ]
    },
    {
      "cell_type": "code",
      "source": [
        "# query(13,1599,3,False,l,l,\"COMP580\",5)"
      ],
      "metadata": {
        "colab": {
          "base_uri": "https://localhost:8080/"
        },
        "id": "572qdYrxNmRr",
        "outputId": "2731ba5b-31ba-4ec0-b39d-2b5f31bb36e0"
      },
      "id": "572qdYrxNmRr",
      "execution_count": 12,
      "outputs": [
        {
          "output_type": "execute_result",
          "data": {
            "text/plain": [
              "(array([[1.55487955, 1.55487955, 1.55487955, 1.54713345, 1.42624784],\n",
              "        [2.02503681, 2.02503681, 1.95495534, 1.95495534, 1.95495534],\n",
              "        [1.39362013, 1.33699226, 1.27552605, 1.27552605, 1.27552605]]),\n",
              " array([[ 847.,  996.,  754.,  668.,  267.],\n",
              "        [ 547., 1137.,  573.,  276.,  167.],\n",
              "        [ 879.,  330.,  777.,  100.,  832.]]))"
            ]
          },
          "metadata": {},
          "execution_count": 12
        }
      ]
    },
    {
      "cell_type": "code",
      "execution_count": 91,
      "id": "ffd4c62e",
      "metadata": {
        "id": "ffd4c62e"
      },
      "outputs": [],
      "source": [
        "def get_class_distribution(obj):\n",
        "    count_dict = {\n",
        "        \"rating_3\": 0,\n",
        "        \"rating_4\": 0,\n",
        "        \"rating_5\": 0,\n",
        "        \"rating_6\": 0,\n",
        "        \"rating_7\": 0,\n",
        "        \"rating_8\": 0,\n",
        "    }\n",
        "    \n",
        "    for i in obj:\n",
        "        if i == 0: \n",
        "            count_dict['rating_3'] += 1\n",
        "        elif i == 1: \n",
        "            count_dict['rating_4'] += 1\n",
        "        elif i == 2: \n",
        "            count_dict['rating_5'] += 1\n",
        "        elif i == 3: \n",
        "            count_dict['rating_6'] += 1\n",
        "        elif i == 4: \n",
        "            count_dict['rating_7'] += 1  \n",
        "        elif i == 5: \n",
        "            count_dict['rating_8'] += 1              \n",
        "        else:\n",
        "            print(\"Check classes.\")\n",
        "            \n",
        "    return count_dict"
      ]
    },
    {
      "cell_type": "code",
      "execution_count": 92,
      "id": "cf03d99d",
      "metadata": {
        "id": "cf03d99d",
        "colab": {
          "base_uri": "https://localhost:8080/",
          "height": 365
        },
        "outputId": "54970506-0b63-40a1-8ece-ef2fb47fa97c"
      },
      "outputs": [
        {
          "output_type": "execute_result",
          "data": {
            "text/plain": [
              "Text(0.5, 1.0, 'Class Distribution in Test Set')"
            ]
          },
          "metadata": {},
          "execution_count": 92
        },
        {
          "output_type": "display_data",
          "data": {
            "text/plain": [
              "<Figure size 1800x504 with 3 Axes>"
            ],
            "image/png": "[encoded data removed]"
          },
          "metadata": {
            "needs_background": "light"
          }
        }
      ],
      "source": [
        "fig, axes = plt.subplots(nrows=1, ncols=3, figsize=(25,7))\n",
        "# Train\n",
        "sns.barplot(data = pd.DataFrame.from_dict([get_class_distribution(y_train)]).melt(), x = \"variable\", y=\"value\", hue=\"variable\",  ax=axes[0]).set_title('Class Distribution in Train Set')\n",
        "# Validation\n",
        "sns.barplot(data = pd.DataFrame.from_dict([get_class_distribution(y_val)]).melt(), x = \"variable\", y=\"value\", hue=\"variable\",  ax=axes[1]).set_title('Class Distribution in Val Set')\n",
        "# Test\n",
        "sns.barplot(data = pd.DataFrame.from_dict([get_class_distribution(y_test)]).melt(), x = \"variable\", y=\"value\", hue=\"variable\",  ax=axes[2]).set_title('Class Distribution in Test Set')"
      ]
    },
    {
      "cell_type": "code",
      "execution_count": 93,
      "id": "b6b2dea1",
      "metadata": {
        "id": "b6b2dea1"
      },
      "outputs": [],
      "source": [
        "class ClassifierDataset(Dataset):\n",
        "    \n",
        "    def __init__(self, X_data, y_data):\n",
        "        self.X_data = X_data\n",
        "        self.y_data = y_data\n",
        "        \n",
        "    def __getitem__(self, index):\n",
        "        return self.X_data[index], self.y_data[index]\n",
        "        \n",
        "    def __len__ (self):\n",
        "        return len(self.X_data)\n",
        "\n",
        "\n",
        "train_dataset = ClassifierDataset(torch.from_numpy(X_train).float(), torch.from_numpy(y_train).long())\n",
        "val_dataset = ClassifierDataset(torch.from_numpy(X_val).float(), torch.from_numpy(y_val).long())\n",
        "test_dataset = ClassifierDataset(torch.from_numpy(X_test).float(), torch.from_numpy(y_test).long())"
      ]
    },
    {
      "cell_type": "code",
      "execution_count": 94,
      "id": "afd44212",
      "metadata": {
        "id": "afd44212"
      },
      "outputs": [],
      "source": [
        "target_list = []\n",
        "for _, t in train_dataset:\n",
        "    target_list.append(t)\n",
        "    \n",
        "target_list = torch.tensor(target_list)"
      ]
    },
    {
      "cell_type": "code",
      "execution_count": 95,
      "id": "768c743e",
      "metadata": {
        "id": "768c743e",
        "colab": {
          "base_uri": "https://localhost:8080/"
        },
        "outputId": "31ca3e2b-c8eb-4770-82cd-9b0627e4c9c1"
      },
      "outputs": [
        {
          "output_type": "stream",
          "name": "stdout",
          "text": [
            "tensor([0.1429, 0.0263, 0.0020, 0.0022, 0.0070, 0.0714])\n"
          ]
        }
      ],
      "source": [
        "class_count = [i for i in get_class_distribution(y_train).values()]\n",
        "class_weights = 1./torch.tensor(class_count, dtype=torch.float) \n",
        "print(class_weights)"
      ]
    },
    {
      "cell_type": "code",
      "execution_count": 96,
      "id": "1bc9efc9",
      "metadata": {
        "id": "1bc9efc9"
      },
      "outputs": [],
      "source": [
        "class_weights_all = class_weights[target_list]"
      ]
    },
    {
      "cell_type": "code",
      "execution_count": null,
      "id": "66e16909",
      "metadata": {
        "id": "66e16909"
      },
      "outputs": [],
      "source": [
        "## insert weighted sampler with your own sampler"
      ]
    },
    {
      "cell_type": "code",
      "execution_count": 97,
      "id": "7cff76c3",
      "metadata": {
        "id": "7cff76c3"
      },
      "outputs": [],
      "source": [
        "weighted_sampler = WeightedRandomSampler(\n",
        "    weights=class_weights_all,\n",
        "    num_samples=len(class_weights_all),\n",
        "    replacement=True\n",
        ")"
      ]
    },
    {
      "cell_type": "code",
      "execution_count": 134,
      "id": "fa8a3cda",
      "metadata": {
        "id": "fa8a3cda"
      },
      "outputs": [],
      "source": [
        "EPOCHS = 6\n",
        "BATCH_SIZE = 23\n",
        "LEARNING_RATE = 0.0007\n",
        "NUM_FEATURES = len(X.columns)\n",
        "NUM_CLASSES = 6"
      ]
    },
    {
      "cell_type": "code",
      "execution_count": 99,
      "id": "2c6824cc",
      "metadata": {
        "id": "2c6824cc"
      },
      "outputs": [],
      "source": [
        "train_loader = DataLoader(dataset=train_dataset,\n",
        "                          batch_size=BATCH_SIZE,\n",
        "                          sampler=weighted_sampler)\n",
        "val_loader = DataLoader(dataset=val_dataset, batch_size=1)\n",
        "test_loader = DataLoader(dataset=test_dataset, batch_size=1)"
      ]
    },
    {
      "cell_type": "code",
      "execution_count": 100,
      "id": "e5221ef0",
      "metadata": {
        "id": "e5221ef0"
      },
      "outputs": [],
      "source": [
        "class MulticlassClassification(nn.Module):\n",
        "    def __init__(self, num_feature, num_class):\n",
        "        super(MulticlassClassification, self).__init__()\n",
        "        \n",
        "        self.layer_1 = nn.Linear(num_feature, 512)\n",
        "        self.layer_2 = nn.Linear(512, 128)\n",
        "        self.layer_3 = nn.Linear(128, 64)\n",
        "        self.layer_out = nn.Linear(64, num_class) \n",
        "        \n",
        "        self.relu = nn.ReLU()\n",
        "        self.dropout = nn.Dropout(p=0.2)\n",
        "        self.batchnorm1 = nn.BatchNorm1d(512)\n",
        "        self.batchnorm2 = nn.BatchNorm1d(128)\n",
        "        self.batchnorm3 = nn.BatchNorm1d(64)\n",
        "        \n",
        "    def forward(self, x):\n",
        "        x = self.layer_1(x)\n",
        "        x = self.batchnorm1(x)\n",
        "        x = self.relu(x)\n",
        "        \n",
        "        x = self.layer_2(x)\n",
        "        x = self.batchnorm2(x)\n",
        "        x = self.relu(x)\n",
        "        x = self.dropout(x)\n",
        "        \n",
        "        x = self.layer_3(x)\n",
        "        x = self.batchnorm3(x)\n",
        "        x = self.relu(x)\n",
        "        x = self.dropout(x)\n",
        "        \n",
        "        x = self.layer_out(x)\n",
        "        \n",
        "        return x"
      ]
    },
    {
      "cell_type": "code",
      "execution_count": 41,
      "id": "2f3b545d",
      "metadata": {
        "id": "2f3b545d",
        "colab": {
          "base_uri": "https://localhost:8080/"
        },
        "outputId": "b5a6c0ad-6074-441f-b216-274619336605"
      },
      "outputs": [
        {
          "output_type": "stream",
          "name": "stdout",
          "text": [
            "cpu\n"
          ]
        }
      ],
      "source": [
        "device = torch.device(\"cuda:0\" if torch.cuda.is_available() else \"cpu\")\n",
        "print(device)"
      ]
    },
    {
      "cell_type": "code",
      "execution_count": 101,
      "id": "d43a900e",
      "metadata": {
        "id": "d43a900e",
        "colab": {
          "base_uri": "https://localhost:8080/"
        },
        "outputId": "4c21f37b-28b6-446a-84f2-d122d05d45da"
      },
      "outputs": [
        {
          "output_type": "stream",
          "name": "stdout",
          "text": [
            "MulticlassClassification(\n",
            "  (layer_1): Linear(in_features=11, out_features=512, bias=True)\n",
            "  (layer_2): Linear(in_features=512, out_features=128, bias=True)\n",
            "  (layer_3): Linear(in_features=128, out_features=64, bias=True)\n",
            "  (layer_out): Linear(in_features=64, out_features=6, bias=True)\n",
            "  (relu): ReLU()\n",
            "  (dropout): Dropout(p=0.2, inplace=False)\n",
            "  (batchnorm1): BatchNorm1d(512, eps=1e-05, momentum=0.1, affine=True, track_running_stats=True)\n",
            "  (batchnorm2): BatchNorm1d(128, eps=1e-05, momentum=0.1, affine=True, track_running_stats=True)\n",
            "  (batchnorm3): BatchNorm1d(64, eps=1e-05, momentum=0.1, affine=True, track_running_stats=True)\n",
            ")\n"
          ]
        }
      ],
      "source": [
        "model = MulticlassClassification(num_feature = NUM_FEATURES, num_class=NUM_CLASSES)\n",
        "model.to(device)\n",
        "\n",
        "criterion = nn.CrossEntropyLoss(weight=class_weights.to(device))\n",
        "optimizer = optim.Adam(model.parameters(), lr=LEARNING_RATE)\n",
        "print(model)"
      ]
    },
    {
      "cell_type": "code",
      "execution_count": 102,
      "id": "7921c369",
      "metadata": {
        "id": "7921c369"
      },
      "outputs": [],
      "source": [
        "def multi_acc(y_pred, y_test):\n",
        "    y_pred_softmax = torch.log_softmax(y_pred, dim = 1)\n",
        "    _, y_pred_tags = torch.max(y_pred_softmax, dim = 1)    \n",
        "    \n",
        "    correct_pred = (y_pred_tags == y_test).float()\n",
        "    acc = correct_pred.sum() / len(correct_pred)\n",
        "    \n",
        "    acc = torch.round(acc * 100)\n",
        "    \n",
        "    return acc"
      ]
    },
    {
      "cell_type": "code",
      "execution_count": 103,
      "id": "d8e8026d",
      "metadata": {
        "id": "d8e8026d"
      },
      "outputs": [],
      "source": [
        "accuracy_stats = {\n",
        "    'train': [],\n",
        "    \"val\": []\n",
        "}\n",
        "loss_stats = {\n",
        "    'train': [],\n",
        "    \"val\": []\n",
        "}"
      ]
    },
    {
      "cell_type": "code",
      "source": [
        "Max_step=1000"
      ],
      "metadata": {
        "id": "r5pw2NbmclBq"
      },
      "id": "r5pw2NbmclBq",
      "execution_count": 135,
      "outputs": []
    },
    {
      "cell_type": "code",
      "source": [
        "# !pip install -Uqq ipdb\n",
        "# import ipdb"
      ],
      "metadata": {
        "id": "8sHSKPwlduI7"
      },
      "id": "8sHSKPwlduI7",
      "execution_count": 105,
      "outputs": []
    },
    {
      "cell_type": "code",
      "source": [
        "# %pdb on"
      ],
      "metadata": {
        "colab": {
          "base_uri": "https://localhost:8080/"
        },
        "id": "Tom2klMyeKyF",
        "outputId": "3c88e6b0-1bb8-46d4-8388-95773ff314de"
      },
      "id": "Tom2klMyeKyF",
      "execution_count": null,
      "outputs": [
        {
          "output_type": "stream",
          "name": "stdout",
          "text": [
            "Automatic pdb calling has been turned ON\n"
          ]
        }
      ]
    },
    {
      "cell_type": "code",
      "source": [
        "# idx=np.empty((len(X_train),1))\n",
        "# for i in range(len(idx)):\n",
        "#   idx[i]= int(i)\n",
        "# # idx=np.arange(0,1150,1)\n",
        "# print(X_train[0])\n",
        "# X_train=np.append(X_train, idx, axis=1)\n",
        "# # print(len(X_train[0]))"
      ],
      "metadata": {
        "colab": {
          "base_uri": "https://localhost:8080/"
        },
        "id": "0P_b015agASy",
        "outputId": "37b396cd-7ec8-40de-eb74-5735d4c5f49c"
      },
      "id": "0P_b015agASy",
      "execution_count": null,
      "outputs": [
        {
          "output_type": "stream",
          "name": "stdout",
          "text": [
            "[0.30909091 0.14383562 0.42       0.09589041 0.09682805 0.11940299\n",
            " 0.04946996 0.30763583 0.50393701 0.26347305 0.66153846]\n"
          ]
        }
      ]
    },
    {
      "cell_type": "code",
      "source": [
        "X_train_LSH=X_train[0:BATCH_SIZE,:]\n",
        "y_train_LSH=y_train[0:BATCH_SIZE]\n",
        "# print(y_train_LSH.dtype)"
      ],
      "metadata": {
        "id": "j93HBOycr9Xz"
      },
      "id": "j93HBOycr9Xz",
      "execution_count": 138,
      "outputs": []
    },
    {
      "cell_type": "code",
      "execution_count": 141,
      "id": "f21622a1",
      "metadata": {
        "id": "f21622a1",
        "colab": {
          "base_uri": "https://localhost:8080/",
          "height": 168,
          "referenced_widgets": [
            "b1e56318aeda4dcf870dbc5a3313588e",
            "8d1a4166b5954ddc99fe14fac26e371a",
            "50164ef76105467faabc34a2675c9996",
            "ef25e5c9aa594149bc5913f9b5e8ee27",
            "99755ee7b2a24a5983d5249f825ab152",
            "2a86fc7fb5b54bf0840012280b93be91",
            "3c84b76f7af64e8fb230e9726fcf1111",
            "89c5e3c5be7343dba1b1a34aef5463de",
            "b62a38197afa4987b8dfb05326c8e662",
            "0370434d585142fbbb0cc2256e3a8cb6",
            "b833a4350cb24a85aed272d85d69e34a"
          ]
        },
        "outputId": "6c3e9f44-b094-4d53-ff1d-c94b9f9d38fa"
      },
      "outputs": [
        {
          "output_type": "stream",
          "name": "stdout",
          "text": [
            "Begin training.\n"
          ]
        },
        {
          "output_type": "display_data",
          "data": {
            "text/plain": [
              "  0%|          | 0/6 [00:00<?, ?it/s]"
            ],
            "application/vnd.jupyter.widget-view+json": {
              "version_major": 2,
              "version_minor": 0,
              "model_id": "b1e56318aeda4dcf870dbc5a3313588e"
            }
          },
          "metadata": {}
        },
        {
          "output_type": "stream",
          "name": "stdout",
          "text": [
            "Epoch 001: | Train Loss: 0.00013 | Val Loss: 16846146.44922 | Train Acc: 1960.784| Val Acc: 12.500\n",
            "Epoch 002: | Train Loss: 0.00007 | Val Loss: 17150397.59375 | Train Acc: 1960.784| Val Acc: 12.500\n",
            "Epoch 003: | Train Loss: 0.00004 | Val Loss: 17088325.11719 | Train Acc: 1960.784| Val Acc: 12.500\n",
            "Epoch 004: | Train Loss: 0.00003 | Val Loss: 17661339.21875 | Train Acc: 1960.784| Val Acc: 12.500\n",
            "Epoch 005: | Train Loss: 0.00001 | Val Loss: 17499338.08984 | Train Acc: 1960.784| Val Acc: 12.500\n",
            "Epoch 006: | Train Loss: 0.00001 | Val Loss: 17813363.87891 | Train Acc: 1960.784| Val Acc: 12.500\n"
          ]
        }
      ],
      "source": [
        "print(\"Begin training.\")\n",
        "for e in tqdm(range(1, EPOCHS+1)):\n",
        "    \n",
        "    # TRAINING\n",
        "    # step=0\n",
        "    train_epoch_loss = 0\n",
        "    train_epoch_acc = 0\n",
        "    model.train()\n",
        "    step=0\n",
        "    while(step<Max_step):\n",
        "      X_train_batch= torch.from_numpy(X_train_LSH)\n",
        "      # X_train_batch.to(torch.float64)\n",
        "      y_train_batch=torch.from_numpy(y_train_LSH)\n",
        "      # y_train_batch.to(torch.float64)\n",
        "      # print(type(X_train_batch))\n",
        "    # for X_train_batch, y_train_batch in train_loader:\n",
        "    #     X_train_batch, y_train_batch = X_train_batch.to(device), y_train_batch.to(device)\n",
        "      optimizer.zero_grad()\n",
        "      # print(y_train_LSH.dtype)\n",
        "      y_train_pred = model(X_train_batch.float())\n",
        "      train_loss = criterion(y_train_pred, y_train_batch)\n",
        "      \n",
        "      #FOR GETTING INDIVIDUAL LOSSES\n",
        "      with torch.no_grad():\n",
        "        Y_TRAIN=nn.functional.one_hot(y_train_batch,num_classes=6);\n",
        "        Y_PRED=nn.Softmax(dim=1)\n",
        "        # print(y_train_pred.size())\n",
        "        # print(Y_TRAIN)\n",
        "        LOSS=torch.sum(-Y_TRAIN*torch.log(Y_PRED(y_train_pred)),1)\n",
        "        LOSS=torch.reshape(LOSS,(-1,1))\n",
        "        LOSS=LOSS.numpy();\n",
        "        LOSS=np.append(LOSS, X_train_LSH, axis=1)\n",
        "        LOSS=np.append(LOSS, y_train_LSH[:,None], axis=1)\n",
        "        idx=LOSS[:, 0].argsort()\n",
        "        \n",
        "        T=[]\n",
        "        for i in range(NUM_CLASSES):\n",
        "            T.append([]);\n",
        "        #TOP K LOSSES\n",
        "        for i in range(10):\n",
        "          # print(int(LOSS[idx[i]][-1]))\n",
        "          T[int(LOSS[idx[i]][-1])].append(LOSS[idx[i]][1:-1])\n",
        "        \n",
        "        #QUERYING FROM FAISS AND ACCUMULATING\n",
        "        tempbatch=[]\n",
        "        for i in range(6):\n",
        "          _,BUCKET=query(CLASSES[i].shape[1],CLASSES[i].shape[0],len(T[i]),False,np.array(T[i]),np.array(T[i]),f'CLASS{i}',1)\n",
        "          for j in range(len(BUCKET)):\n",
        "            # print(BUCKET)\n",
        "            tempbatch.append(CLASSES[i][int(BUCKET[j])])\n",
        "        \n",
        "        ##CREATING NEW BATCH BY SAMPLING\n",
        "        t=[random.choice(tempbatch) for _ in range(BATCH_SIZE)]\n",
        "        t=np.array(t);\n",
        "        X_train_LSH=t[:,:-1]\n",
        "        y_train_LSH=t[:,-1].astype(np.int64)\n",
        "\n",
        "        # raise Exception(\"Loss\")\n",
        "        # print(train_loss)\n",
        "      ##############################\n",
        "\n",
        "      train_acc = multi_acc(y_train_pred, y_train_batch)\n",
        "      # print(train_loss)\n",
        "      train_loss.backward()\n",
        "      optimizer.step()\n",
        "      \n",
        "      train_epoch_loss += train_loss.item()\n",
        "      train_epoch_acc += train_acc.item()\n",
        "      step+=1\n",
        "        ##CREATE THE NEW BATCHES AND UPDATE X_TRAIN_BATCH,Y_TRAIN_BATCH\n",
        "        \n",
        "    # VALIDATION    \n",
        "    with torch.no_grad():\n",
        "        \n",
        "        val_epoch_loss = 0\n",
        "        val_epoch_acc = 0\n",
        "        \n",
        "        model.eval()\n",
        "        for X_val_batch, y_val_batch in val_loader:\n",
        "            X_val_batch, y_val_batch = X_val_batch.to(device), y_val_batch.to(device)\n",
        "            \n",
        "            y_val_pred = model(X_val_batch)\n",
        "                        \n",
        "            val_loss = criterion(y_val_pred, y_val_batch)\n",
        "            val_acc = multi_acc(y_val_pred, y_val_batch)\n",
        "            \n",
        "            val_epoch_loss += val_loss.item()\n",
        "            val_epoch_acc += val_acc.item()\n",
        "    loss_stats['train'].append(train_epoch_loss/len(train_loader))\n",
        "    loss_stats['val'].append(val_epoch_loss/len(val_loader))\n",
        "    accuracy_stats['train'].append(train_epoch_acc/len(train_loader))\n",
        "    accuracy_stats['val'].append(val_epoch_acc/len(val_loader))\n",
        "                              \n",
        "    \n",
        "    print(f'Epoch {e+0:03}: | Train Loss: {train_epoch_loss/len(train_loader):.5f} | Val Loss: {val_epoch_loss/len(val_loader):.5f} | Train Acc: {train_epoch_acc/len(train_loader):.3f}| Val Acc: {val_epoch_acc/len(val_loader):.3f}')\n"
      ]
    },
    {
      "cell_type": "code",
      "source": [
        "%pdb off"
      ],
      "metadata": {
        "id": "MwGyXvWreNUt"
      },
      "id": "MwGyXvWreNUt",
      "execution_count": null,
      "outputs": []
    },
    {
      "cell_type": "code",
      "execution_count": 140,
      "id": "61455bea",
      "metadata": {
        "id": "61455bea",
        "colab": {
          "base_uri": "https://localhost:8080/",
          "height": 441
        },
        "outputId": "8516a764-ccfe-4b13-8f23-0a507325f441"
      },
      "outputs": [
        {
          "output_type": "execute_result",
          "data": {
            "text/plain": [
              "Text(0.5, 1.0, 'Train-Val Loss/Epoch')"
            ]
          },
          "metadata": {},
          "execution_count": 140
        },
        {
          "output_type": "display_data",
          "data": {
            "text/plain": [
              "<Figure size 1440x504 with 2 Axes>"
            ],
            "image/png": "[encoded data removed]"
          },
          "metadata": {
            "needs_background": "light"
          }
        }
      ],
      "source": [
        "# Create dataframes\n",
        "train_val_acc_df = pd.DataFrame.from_dict(accuracy_stats).reset_index().melt(id_vars=['index']).rename(columns={\"index\":\"epochs\"})\n",
        "train_val_loss_df = pd.DataFrame.from_dict(loss_stats).reset_index().melt(id_vars=['index']).rename(columns={\"index\":\"epochs\"})\n",
        "# Plot the dataframes\n",
        "fig, axes = plt.subplots(nrows=1, ncols=2, figsize=(20,7))\n",
        "sns.lineplot(data=train_val_acc_df, x = \"epochs\", y=\"value\", hue=\"variable\",  ax=axes[0]).set_title('Train-Val Accuracy/Epoch')\n",
        "sns.lineplot(data=train_val_loss_df, x = \"epochs\", y=\"value\", hue=\"variable\", ax=axes[1]).set_title('Train-Val Loss/Epoch')"
      ]
    },
    {
      "cell_type": "code",
      "execution_count": null,
      "id": "9b605ea3",
      "metadata": {
        "id": "9b605ea3"
      },
      "outputs": [],
      "source": [
        "y_pred_list = []\n",
        "with torch.no_grad():\n",
        "    model.eval()\n",
        "    for X_batch, _ in test_loader:\n",
        "        X_batch = X_batch.to(device)\n",
        "        y_test_pred = model(X_batch)\n",
        "        _, y_pred_tags = torch.max(y_test_pred, dim = 1)\n",
        "        y_pred_list.append(y_pred_tags.cpu().numpy())\n",
        "y_pred_list = [a.squeeze().tolist() for a in y_pred_list]"
      ]
    },
    {
      "cell_type": "code",
      "execution_count": null,
      "id": "e27adb9b",
      "metadata": {
        "id": "e27adb9b"
      },
      "outputs": [],
      "source": [
        "confusion_matrix_df = pd.DataFrame(confusion_matrix(y_test, y_pred_list)).rename(columns=idx2class, index=idx2class)\n",
        "\n",
        "sns.heatmap(confusion_matrix_df, annot=True)"
      ]
    },
    {
      "cell_type": "code",
      "execution_count": null,
      "id": "c711664d",
      "metadata": {
        "id": "c711664d"
      },
      "outputs": [],
      "source": [
        "print(classification_report(y_test, y_pred_list))"
      ]
    },
    {
      "cell_type": "code",
      "execution_count": null,
      "id": "c7b41138",
      "metadata": {
        "id": "c7b41138"
      },
      "outputs": [],
      "source": []
    }
  ],
  "metadata": {
    "kernelspec": {
      "display_name": "Python 3 (ipykernel)",
      "language": "python",
      "name": "python3"
    },
    "language_info": {
      "codemirror_mode": {
        "name": "ipython",
        "version": 3
      },
      "file_extension": ".py",
      "mimetype": "text/x-python",
      "name": "python",
      "nbconvert_exporter": "python",
      "pygments_lexer": "ipython3",
      "version": "3.9.13"
    },
    "colab": {
      "provenance": [],
      "collapsed_sections": []
    },
    "widgets": {
      "application/vnd.jupyter.widget-state+json": {
        "b1e56318aeda4dcf870dbc5a3313588e": {
          "model_module": "@jupyter-widgets/controls",
          "model_name": "HBoxModel",
          "model_module_version": "1.5.0",
          "state": {
            "_dom_classes": [],
            "_model_module": "@jupyter-widgets/controls",
            "_model_module_version": "1.5.0",
            "_model_name": "HBoxModel",
            "_view_count": null,
            "_view_module": "@jupyter-widgets/controls",
            "_view_module_version": "1.5.0",
            "_view_name": "HBoxView",
            "box_style": "",
            "children": [
              "IPY_MODEL_8d1a4166b5954ddc99fe14fac26e371a",
              "IPY_MODEL_50164ef76105467faabc34a2675c9996",
              "IPY_MODEL_ef25e5c9aa594149bc5913f9b5e8ee27"
            ],
            "layout": "IPY_MODEL_99755ee7b2a24a5983d5249f825ab152"
          }
        },
        "8d1a4166b5954ddc99fe14fac26e371a": {
          "model_module": "@jupyter-widgets/controls",
          "model_name": "HTMLModel",
          "model_module_version": "1.5.0",
          "state": {
            "_dom_classes": [],
            "_model_module": "@jupyter-widgets/controls",
            "_model_module_version": "1.5.0",
            "_model_name": "HTMLModel",
            "_view_count": null,
            "_view_module": "@jupyter-widgets/controls",
            "_view_module_version": "1.5.0",
            "_view_name": "HTMLView",
            "description": "",
            "description_tooltip": null,
            "layout": "IPY_MODEL_2a86fc7fb5b54bf0840012280b93be91",
            "placeholder": "​",
            "style": "IPY_MODEL_3c84b76f7af64e8fb230e9726fcf1111",
            "value": "100%"
          }
        },
        "50164ef76105467faabc34a2675c9996": {
          "model_module": "@jupyter-widgets/controls",
          "model_name": "FloatProgressModel",
          "model_module_version": "1.5.0",
          "state": {
            "_dom_classes": [],
            "_model_module": "@jupyter-widgets/controls",
            "_model_module_version": "1.5.0",
            "_model_name": "FloatProgressModel",
            "_view_count": null,
            "_view_module": "@jupyter-widgets/controls",
            "_view_module_version": "1.5.0",
            "_view_name": "ProgressView",
            "bar_style": "success",
            "description": "",
            "description_tooltip": null,
            "layout": "IPY_MODEL_89c5e3c5be7343dba1b1a34aef5463de",
            "max": 6,
            "min": 0,
            "orientation": "horizontal",
            "style": "IPY_MODEL_b62a38197afa4987b8dfb05326c8e662",
            "value": 6
          }
        },
        "ef25e5c9aa594149bc5913f9b5e8ee27": {
          "model_module": "@jupyter-widgets/controls",
          "model_name": "HTMLModel",
          "model_module_version": "1.5.0",
          "state": {
            "_dom_classes": [],
            "_model_module": "@jupyter-widgets/controls",
            "_model_module_version": "1.5.0",
            "_model_name": "HTMLModel",
            "_view_count": null,
            "_view_module": "@jupyter-widgets/controls",
            "_view_module_version": "1.5.0",
            "_view_name": "HTMLView",
            "description": "",
            "description_tooltip": null,
            "layout": "IPY_MODEL_0370434d585142fbbb0cc2256e3a8cb6",
            "placeholder": "​",
            "style": "IPY_MODEL_b833a4350cb24a85aed272d85d69e34a",
            "value": " 6/6 [00:24&lt;00:00,  4.08s/it]"
          }
        },
        "99755ee7b2a24a5983d5249f825ab152": {
          "model_module": "@jupyter-widgets/base",
          "model_name": "LayoutModel",
          "model_module_version": "1.2.0",
          "state": {
            "_model_module": "@jupyter-widgets/base",
            "_model_module_version": "1.2.0",
            "_model_name": "LayoutModel",
            "_view_count": null,
            "_view_module": "@jupyter-widgets/base",
            "_view_module_version": "1.2.0",
            "_view_name": "LayoutView",
            "align_content": null,
            "align_items": null,
            "align_self": null,
            "border": null,
            "bottom": null,
            "display": null,
            "flex": null,
            "flex_flow": null,
            "grid_area": null,
            "grid_auto_columns": null,
            "grid_auto_flow": null,
            "grid_auto_rows": null,
            "grid_column": null,
            "grid_gap": null,
            "grid_row": null,
            "grid_template_areas": null,
            "grid_template_columns": null,
            "grid_template_rows": null,
            "height": null,
            "justify_content": null,
            "justify_items": null,
            "left": null,
            "margin": null,
            "max_height": null,
            "max_width": null,
            "min_height": null,
            "min_width": null,
            "object_fit": null,
            "object_position": null,
            "order": null,
            "overflow": null,
            "overflow_x": null,
            "overflow_y": null,
            "padding": null,
            "right": null,
            "top": null,
            "visibility": null,
            "width": null
          }
        },
        "2a86fc7fb5b54bf0840012280b93be91": {
          "model_module": "@jupyter-widgets/base",
          "model_name": "LayoutModel",
          "model_module_version": "1.2.0",
          "state": {
            "_model_module": "@jupyter-widgets/base",
            "_model_module_version": "1.2.0",
            "_model_name": "LayoutModel",
            "_view_count": null,
            "_view_module": "@jupyter-widgets/base",
            "_view_module_version": "1.2.0",
            "_view_name": "LayoutView",
            "align_content": null,
            "align_items": null,
            "align_self": null,
            "border": null,
            "bottom": null,
            "display": null,
            "flex": null,
            "flex_flow": null,
            "grid_area": null,
            "grid_auto_columns": null,
            "grid_auto_flow": null,
            "grid_auto_rows": null,
            "grid_column": null,
            "grid_gap": null,
            "grid_row": null,
            "grid_template_areas": null,
            "grid_template_columns": null,
            "grid_template_rows": null,
            "height": null,
            "justify_content": null,
            "justify_items": null,
            "left": null,
            "margin": null,
            "max_height": null,
            "max_width": null,
            "min_height": null,
            "min_width": null,
            "object_fit": null,
            "object_position": null,
            "order": null,
            "overflow": null,
            "overflow_x": null,
            "overflow_y": null,
            "padding": null,
            "right": null,
            "top": null,
            "visibility": null,
            "width": null
          }
        },
        "3c84b76f7af64e8fb230e9726fcf1111": {
          "model_module": "@jupyter-widgets/controls",
          "model_name": "DescriptionStyleModel",
          "model_module_version": "1.5.0",
          "state": {
            "_model_module": "@jupyter-widgets/controls",
            "_model_module_version": "1.5.0",
            "_model_name": "DescriptionStyleModel",
            "_view_count": null,
            "_view_module": "@jupyter-widgets/base",
            "_view_module_version": "1.2.0",
            "_view_name": "StyleView",
            "description_width": ""
          }
        },
        "89c5e3c5be7343dba1b1a34aef5463de": {
          "model_module": "@jupyter-widgets/base",
          "model_name": "LayoutModel",
          "model_module_version": "1.2.0",
          "state": {
            "_model_module": "@jupyter-widgets/base",
            "_model_module_version": "1.2.0",
            "_model_name": "LayoutModel",
            "_view_count": null,
            "_view_module": "@jupyter-widgets/base",
            "_view_module_version": "1.2.0",
            "_view_name": "LayoutView",
            "align_content": null,
            "align_items": null,
            "align_self": null,
            "border": null,
            "bottom": null,
            "display": null,
            "flex": null,
            "flex_flow": null,
            "grid_area": null,
            "grid_auto_columns": null,
            "grid_auto_flow": null,
            "grid_auto_rows": null,
            "grid_column": null,
            "grid_gap": null,
            "grid_row": null,
            "grid_template_areas": null,
            "grid_template_columns": null,
            "grid_template_rows": null,
            "height": null,
            "justify_content": null,
            "justify_items": null,
            "left": null,
            "margin": null,
            "max_height": null,
            "max_width": null,
            "min_height": null,
            "min_width": null,
            "object_fit": null,
            "object_position": null,
            "order": null,
            "overflow": null,
            "overflow_x": null,
            "overflow_y": null,
            "padding": null,
            "right": null,
            "top": null,
            "visibility": null,
            "width": null
          }
        },
        "b62a38197afa4987b8dfb05326c8e662": {
          "model_module": "@jupyter-widgets/controls",
          "model_name": "ProgressStyleModel",
          "model_module_version": "1.5.0",
          "state": {
            "_model_module": "@jupyter-widgets/controls",
            "_model_module_version": "1.5.0",
            "_model_name": "ProgressStyleModel",
            "_view_count": null,
            "_view_module": "@jupyter-widgets/base",
            "_view_module_version": "1.2.0",
            "_view_name": "StyleView",
            "bar_color": null,
            "description_width": ""
          }
        },
        "0370434d585142fbbb0cc2256e3a8cb6": {
          "model_module": "@jupyter-widgets/base",
          "model_name": "LayoutModel",
          "model_module_version": "1.2.0",
          "state": {
            "_model_module": "@jupyter-widgets/base",
            "_model_module_version": "1.2.0",
            "_model_name": "LayoutModel",
            "_view_count": null,
            "_view_module": "@jupyter-widgets/base",
            "_view_module_version": "1.2.0",
            "_view_name": "LayoutView",
            "align_content": null,
            "align_items": null,
            "align_self": null,
            "border": null,
            "bottom": null,
            "display": null,
            "flex": null,
            "flex_flow": null,
            "grid_area": null,
            "grid_auto_columns": null,
            "grid_auto_flow": null,
            "grid_auto_rows": null,
            "grid_column": null,
            "grid_gap": null,
            "grid_row": null,
            "grid_template_areas": null,
            "grid_template_columns": null,
            "grid_template_rows": null,
            "height": null,
            "justify_content": null,
            "justify_items": null,
            "left": null,
            "margin": null,
            "max_height": null,
            "max_width": null,
            "min_height": null,
            "min_width": null,
            "object_fit": null,
            "object_position": null,
            "order": null,
            "overflow": null,
            "overflow_x": null,
            "overflow_y": null,
            "padding": null,
            "right": null,
            "top": null,
            "visibility": null,
            "width": null
          }
        },
        "b833a4350cb24a85aed272d85d69e34a": {
          "model_module": "@jupyter-widgets/controls",
          "model_name": "DescriptionStyleModel",
          "model_module_version": "1.5.0",
          "state": {
            "_model_module": "@jupyter-widgets/controls",
            "_model_module_version": "1.5.0",
            "_model_name": "DescriptionStyleModel",
            "_view_count": null,
            "_view_module": "@jupyter-widgets/base",
            "_view_module_version": "1.2.0",
            "_view_name": "StyleView",
            "description_width": ""
          }
        }
      }
    }
  },
  "nbformat": 4,
  "nbformat_minor": 5
}