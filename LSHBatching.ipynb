{
 "cells": [
  {
   "cell_type": "markdown",
   "id": "8c2c291a",
   "metadata": {
    "id": "8c2c291a"
   },
   "source": [
    "### Tasks\n",
    "* Implement Faiss - (create a util file using code given by gaurav and import here) \n",
    "* Implement Near Neighbor Sampling \n",
    "* plot the gradients for each batch (==1, should be high) and for the entire dataset(should be low) at different interesting epochs \n",
    "* Figure out how to calculate efficient per sample gradient \n"
   ]
  },
  {
   "cell_type": "code",
   "execution_count": 177,
   "id": "40d5323f",
   "metadata": {
    "id": "40d5323f"
   },
   "outputs": [],
   "source": [
    "import numpy as np\n",
    "import pandas as pd\n",
    "import seaborn as sns\n",
    "from tqdm.notebook import tqdm\n",
    "import matplotlib.pyplot as plt\n",
    "import random\n",
    "import time\n",
    "\n",
    "#replace with pytorch lightning\n",
    "import torch\n",
    "import torch.nn as nn\n",
    "import torch.optim as optim\n",
    "\n",
    "from torch.utils.data import Dataset, DataLoader, WeightedRandomSampler\n",
    "\n",
    "from sklearn.preprocessing import MinMaxScaler    \n",
    "from sklearn.model_selection import train_test_split\n",
    "from sklearn.metrics import confusion_matrix, classification_report\n",
    "from sklearn.utils import shuffle\n",
    "\n",
    "from indx import *\n",
    "from query import *"
   ]
  },
  {
   "cell_type": "code",
   "execution_count": 2,
   "id": "TxUdFF_5mx9o",
   "metadata": {
    "colab": {
     "base_uri": "https://localhost:8080/"
    },
    "id": "TxUdFF_5mx9o",
    "outputId": "7b858eb3-cc34-4b8f-9dc8-131cae642e78"
   },
   "outputs": [
    {
     "name": "stdout",
     "output_type": "stream",
     "text": [
      "1.12.1+cu116\n"
     ]
    }
   ],
   "source": [
    "print(torch.__version__)"
   ]
  },
  {
   "cell_type": "code",
   "execution_count": 3,
   "id": "568f1b75",
   "metadata": {
    "colab": {
     "base_uri": "https://localhost:8080/"
    },
    "id": "568f1b75",
    "outputId": "a4f50e7d-579d-436e-b750-9598b94801b9"
   },
   "outputs": [
    {
     "name": "stdout",
     "output_type": "stream",
     "text": [
      "cpu\n"
     ]
    }
   ],
   "source": [
    "device = torch.device(\"cpu\")\n",
    "device = torch.device(device)\n",
    "print(device)"
   ]
  },
  {
   "cell_type": "code",
   "execution_count": 4,
   "id": "492d34a9",
   "metadata": {
    "colab": {
     "base_uri": "https://localhost:8080/",
     "height": 297
    },
    "id": "492d34a9",
    "outputId": "5631b9ee-169d-4e11-ea07-ba9125ac5b6a"
   },
   "outputs": [
    {
     "data": {
      "text/html": [
       "<div>\n",
       "<style scoped>\n",
       "    .dataframe tbody tr th:only-of-type {\n",
       "        vertical-align: middle;\n",
       "    }\n",
       "\n",
       "    .dataframe tbody tr th {\n",
       "        vertical-align: top;\n",
       "    }\n",
       "\n",
       "    .dataframe thead th {\n",
       "        text-align: right;\n",
       "    }\n",
       "</style>\n",
       "<table border=\"1\" class=\"dataframe\">\n",
       "  <thead>\n",
       "    <tr style=\"text-align: right;\">\n",
       "      <th></th>\n",
       "      <th>0</th>\n",
       "      <th>1</th>\n",
       "      <th>2</th>\n",
       "      <th>3</th>\n",
       "      <th>4</th>\n",
       "      <th>5</th>\n",
       "      <th>6</th>\n",
       "      <th>7</th>\n",
       "      <th>8</th>\n",
       "      <th>9</th>\n",
       "      <th>...</th>\n",
       "      <th>19</th>\n",
       "      <th>20</th>\n",
       "      <th>21</th>\n",
       "      <th>22</th>\n",
       "      <th>23</th>\n",
       "      <th>24</th>\n",
       "      <th>25</th>\n",
       "      <th>26</th>\n",
       "      <th>27</th>\n",
       "      <th>28</th>\n",
       "    </tr>\n",
       "  </thead>\n",
       "  <tbody>\n",
       "    <tr>\n",
       "      <th>0</th>\n",
       "      <td>1.0</td>\n",
       "      <td>0.869293</td>\n",
       "      <td>-0.635082</td>\n",
       "      <td>0.225690</td>\n",
       "      <td>0.327470</td>\n",
       "      <td>-0.689993</td>\n",
       "      <td>0.754202</td>\n",
       "      <td>-0.248573</td>\n",
       "      <td>-1.092064</td>\n",
       "      <td>0.000000</td>\n",
       "      <td>...</td>\n",
       "      <td>-0.010455</td>\n",
       "      <td>-0.045767</td>\n",
       "      <td>3.101961</td>\n",
       "      <td>1.353760</td>\n",
       "      <td>0.979563</td>\n",
       "      <td>0.978076</td>\n",
       "      <td>0.920005</td>\n",
       "      <td>0.721657</td>\n",
       "      <td>0.988751</td>\n",
       "      <td>0.876678</td>\n",
       "    </tr>\n",
       "    <tr>\n",
       "      <th>1</th>\n",
       "      <td>1.0</td>\n",
       "      <td>0.907542</td>\n",
       "      <td>0.329147</td>\n",
       "      <td>0.359412</td>\n",
       "      <td>1.497970</td>\n",
       "      <td>-0.313010</td>\n",
       "      <td>1.095531</td>\n",
       "      <td>-0.557525</td>\n",
       "      <td>-1.588230</td>\n",
       "      <td>2.173076</td>\n",
       "      <td>...</td>\n",
       "      <td>-1.138930</td>\n",
       "      <td>-0.000819</td>\n",
       "      <td>0.000000</td>\n",
       "      <td>0.302220</td>\n",
       "      <td>0.833048</td>\n",
       "      <td>0.985700</td>\n",
       "      <td>0.978098</td>\n",
       "      <td>0.779732</td>\n",
       "      <td>0.992356</td>\n",
       "      <td>0.798343</td>\n",
       "    </tr>\n",
       "    <tr>\n",
       "      <th>2</th>\n",
       "      <td>1.0</td>\n",
       "      <td>0.798835</td>\n",
       "      <td>1.470639</td>\n",
       "      <td>-1.635975</td>\n",
       "      <td>0.453773</td>\n",
       "      <td>0.425629</td>\n",
       "      <td>1.104875</td>\n",
       "      <td>1.282322</td>\n",
       "      <td>1.381664</td>\n",
       "      <td>0.000000</td>\n",
       "      <td>...</td>\n",
       "      <td>1.128848</td>\n",
       "      <td>0.900461</td>\n",
       "      <td>0.000000</td>\n",
       "      <td>0.909753</td>\n",
       "      <td>1.108330</td>\n",
       "      <td>0.985692</td>\n",
       "      <td>0.951331</td>\n",
       "      <td>0.803252</td>\n",
       "      <td>0.865924</td>\n",
       "      <td>0.780118</td>\n",
       "    </tr>\n",
       "    <tr>\n",
       "      <th>3</th>\n",
       "      <td>0.0</td>\n",
       "      <td>1.344385</td>\n",
       "      <td>-0.876626</td>\n",
       "      <td>0.935913</td>\n",
       "      <td>1.992050</td>\n",
       "      <td>0.882454</td>\n",
       "      <td>1.786066</td>\n",
       "      <td>-1.646778</td>\n",
       "      <td>-0.942383</td>\n",
       "      <td>0.000000</td>\n",
       "      <td>...</td>\n",
       "      <td>-0.678379</td>\n",
       "      <td>-1.360356</td>\n",
       "      <td>0.000000</td>\n",
       "      <td>0.946652</td>\n",
       "      <td>1.028704</td>\n",
       "      <td>0.998656</td>\n",
       "      <td>0.728281</td>\n",
       "      <td>0.869200</td>\n",
       "      <td>1.026736</td>\n",
       "      <td>0.957904</td>\n",
       "    </tr>\n",
       "    <tr>\n",
       "      <th>4</th>\n",
       "      <td>1.0</td>\n",
       "      <td>1.105009</td>\n",
       "      <td>0.321356</td>\n",
       "      <td>1.522401</td>\n",
       "      <td>0.882808</td>\n",
       "      <td>-1.205349</td>\n",
       "      <td>0.681466</td>\n",
       "      <td>-1.070464</td>\n",
       "      <td>-0.921871</td>\n",
       "      <td>0.000000</td>\n",
       "      <td>...</td>\n",
       "      <td>-0.373566</td>\n",
       "      <td>0.113041</td>\n",
       "      <td>0.000000</td>\n",
       "      <td>0.755856</td>\n",
       "      <td>1.361057</td>\n",
       "      <td>0.986610</td>\n",
       "      <td>0.838085</td>\n",
       "      <td>1.133295</td>\n",
       "      <td>0.872245</td>\n",
       "      <td>0.808487</td>\n",
       "    </tr>\n",
       "  </tbody>\n",
       "</table>\n",
       "<p>5 rows × 29 columns</p>\n",
       "</div>"
      ],
      "text/plain": [
       "    0         1         2         3         4         5         6         7   \\\n",
       "0  1.0  0.869293 -0.635082  0.225690  0.327470 -0.689993  0.754202 -0.248573   \n",
       "1  1.0  0.907542  0.329147  0.359412  1.497970 -0.313010  1.095531 -0.557525   \n",
       "2  1.0  0.798835  1.470639 -1.635975  0.453773  0.425629  1.104875  1.282322   \n",
       "3  0.0  1.344385 -0.876626  0.935913  1.992050  0.882454  1.786066 -1.646778   \n",
       "4  1.0  1.105009  0.321356  1.522401  0.882808 -1.205349  0.681466 -1.070464   \n",
       "\n",
       "         8         9   ...        19        20        21        22        23  \\\n",
       "0 -1.092064  0.000000  ... -0.010455 -0.045767  3.101961  1.353760  0.979563   \n",
       "1 -1.588230  2.173076  ... -1.138930 -0.000819  0.000000  0.302220  0.833048   \n",
       "2  1.381664  0.000000  ...  1.128848  0.900461  0.000000  0.909753  1.108330   \n",
       "3 -0.942383  0.000000  ... -0.678379 -1.360356  0.000000  0.946652  1.028704   \n",
       "4 -0.921871  0.000000  ... -0.373566  0.113041  0.000000  0.755856  1.361057   \n",
       "\n",
       "         24        25        26        27        28  \n",
       "0  0.978076  0.920005  0.721657  0.988751  0.876678  \n",
       "1  0.985700  0.978098  0.779732  0.992356  0.798343  \n",
       "2  0.985692  0.951331  0.803252  0.865924  0.780118  \n",
       "3  0.998656  0.728281  0.869200  1.026736  0.957904  \n",
       "4  0.986610  0.838085  1.133295  0.872245  0.808487  \n",
       "\n",
       "[5 rows x 29 columns]"
      ]
     },
     "execution_count": 4,
     "metadata": {},
     "output_type": "execute_result"
    }
   ],
   "source": [
    "df=pd.read_csv(\"HIGGS.csv\",header=None)\n",
    "df.head()"
   ]
  },
  {
   "cell_type": "code",
   "execution_count": 5,
   "id": "01e14e48",
   "metadata": {},
   "outputs": [],
   "source": [
    "#subsample\n",
    "df = df[:600000]"
   ]
  },
  {
   "cell_type": "code",
   "execution_count": 6,
   "id": "c0da379c",
   "metadata": {},
   "outputs": [
    {
     "name": "stdout",
     "output_type": "stream",
     "text": [
      "17400000\n"
     ]
    }
   ],
   "source": [
    "print(df.size)"
   ]
  },
  {
   "cell_type": "code",
   "execution_count": 7,
   "id": "cdcc7247",
   "metadata": {
    "colab": {
     "base_uri": "https://localhost:8080/",
     "height": 307
    },
    "id": "cdcc7247",
    "outputId": "d2d3e8e0-e685-4869-c858-07e42e528ac0"
   },
   "outputs": [
    {
     "data": {
      "text/plain": [
       "<AxesSubplot:xlabel='0', ylabel='count'>"
      ]
     },
     "execution_count": 7,
     "metadata": {},
     "output_type": "execute_result"
    },
    {
     "data": {
      "image/png": "[encoded data removed]",
      "text/plain": [
       "<Figure size 432x288 with 1 Axes>"
      ]
     },
     "metadata": {
      "needs_background": "light"
     },
     "output_type": "display_data"
    }
   ],
   "source": [
    "sns.countplot(x = 0, data=df)"
   ]
  },
  {
   "cell_type": "code",
   "execution_count": 8,
   "id": "b523ccaa",
   "metadata": {
    "id": "b523ccaa"
   },
   "outputs": [],
   "source": [
    "X = df.iloc[:, 1:]\n",
    "y = df.iloc[:, 0]"
   ]
  },
  {
   "cell_type": "code",
   "execution_count": 186,
   "id": "fa8a3cda",
   "metadata": {
    "id": "fa8a3cda"
   },
   "outputs": [],
   "source": [
    "EPOCHS = 50\n",
    "BATCH_SIZE = 24\n",
    "LEARNING_RATE = 0.0007\n",
    "NUM_FEATURES = len(X.columns)\n",
    "NUM_CLASSES = 2\n",
    "K=5\n",
    "MAX_STEPS=10000\n",
    "FLAG=True"
   ]
  },
  {
   "cell_type": "code",
   "execution_count": 11,
   "id": "a83d1de1",
   "metadata": {
    "id": "a83d1de1"
   },
   "outputs": [],
   "source": [
    "# Split into train+val and test\n",
    "X_trainval, X_test, y_trainval, y_test = train_test_split(X, y, test_size=0.2, stratify=y, random_state=69)\n",
    "\n",
    "# Split train into train-val\n",
    "X_train, X_val, y_train, y_val = train_test_split(X_trainval, y_trainval, test_size=0.1, stratify=y_trainval, random_state=21)"
   ]
  },
  {
   "cell_type": "code",
   "execution_count": 12,
   "id": "b43ca849",
   "metadata": {
    "id": "b43ca849"
   },
   "outputs": [],
   "source": [
    "scaler = MinMaxScaler()\n",
    "X_train = scaler.fit_transform(X_train)\n",
    "X_val = scaler.transform(X_val)\n",
    "X_test = scaler.transform(X_test)\n",
    "X_train, y_train = np.array(X_train), np.array(y_train)\n",
    "X_val, y_val = np.array(X_val), np.array(y_val)\n",
    "X_test, y_test = np.array(X_test), np.array(y_test)"
   ]
  },
  {
   "cell_type": "code",
   "execution_count": 14,
   "id": "nhvhE3rUvi4w",
   "metadata": {
    "id": "nhvhE3rUvi4w"
   },
   "outputs": [
    {
     "name": "stdout",
     "output_type": "stream",
     "text": [
      "<class 'numpy.float32'>\n",
      "traning\n",
      "adding\n",
      "ntotal after ivf:  203348\n",
      "total train time:  17.482747793197632\n",
      "saving at  CLASS0\n",
      "total code time:  17.50075101852417\n",
      "<class 'numpy.float32'>\n",
      "traning\n",
      "adding\n",
      "ntotal after ivf:  228652\n",
      "total train time:  17.84121298789978\n",
      "saving at  CLASS1\n",
      "total code time:  17.859216690063477\n"
     ]
    }
   ],
   "source": [
    "#split training data into two subarrays based on class\n",
    "X_train_class=[]\n",
    "for i in range(NUM_CLASSES):\n",
    "    X_train_class.append(np.ascontiguousarray(X_train[y_train == i]))\n",
    "    \n",
    "#Create Faiss index for each class\n",
    "index(X_train_class[0],\"IVF4096,PQ14\",\"CLASS0\")\n",
    "index(X_train_class[1],\"IVF4096,PQ14\",\"CLASS1\")\n"
   ]
  },
  {
   "cell_type": "code",
   "execution_count": 15,
   "id": "ffd4c62e",
   "metadata": {
    "id": "ffd4c62e"
   },
   "outputs": [],
   "source": [
    "def get_class_distribution(obj):\n",
    "    count_dict = {\n",
    "        \"class_0\": 0,\n",
    "        \"class_1\": 0,\n",
    "    }\n",
    "    \n",
    "    for i in obj:\n",
    "        if i == 0: \n",
    "            count_dict['class_0'] += 1\n",
    "        elif i == 1: \n",
    "            count_dict['class_1'] += 1           \n",
    "        else:\n",
    "            print(\"Check classes.\")\n",
    "            \n",
    "    return count_dict"
   ]
  },
  {
   "cell_type": "code",
   "execution_count": 16,
   "id": "cf03d99d",
   "metadata": {
    "colab": {
     "base_uri": "https://localhost:8080/",
     "height": 365
    },
    "id": "cf03d99d",
    "outputId": "0bf23b71-21b4-42bd-8dc2-4e34dea641e4"
   },
   "outputs": [
    {
     "data": {
      "text/plain": [
       "Text(0.5, 1.0, 'Class Distribution in Test Set')"
      ]
     },
     "execution_count": 16,
     "metadata": {},
     "output_type": "execute_result"
    },
    {
     "data": {
      "image/png": "[encoded data removed]",
      "text/plain": [
       "<Figure size 1800x504 with 3 Axes>"
      ]
     },
     "metadata": {
      "needs_background": "light"
     },
     "output_type": "display_data"
    }
   ],
   "source": [
    "fig, axes = plt.subplots(nrows=1, ncols=3, figsize=(25,7))\n",
    "# Train\n",
    "sns.barplot(data = pd.DataFrame.from_dict([get_class_distribution(y_train)]).melt(), x = \"variable\", y=\"value\", hue=\"variable\",  ax=axes[0]).set_title('Class Distribution in Train Set')\n",
    "# Validation\n",
    "sns.barplot(data = pd.DataFrame.from_dict([get_class_distribution(y_val)]).melt(), x = \"variable\", y=\"value\", hue=\"variable\",  ax=axes[1]).set_title('Class Distribution in Val Set')\n",
    "# Test\n",
    "sns.barplot(data = pd.DataFrame.from_dict([get_class_distribution(y_test)]).melt(), x = \"variable\", y=\"value\", hue=\"variable\",  ax=axes[2]).set_title('Class Distribution in Test Set')"
   ]
  },
  {
   "cell_type": "code",
   "execution_count": 17,
   "id": "b6b2dea1",
   "metadata": {
    "id": "b6b2dea1"
   },
   "outputs": [],
   "source": [
    "class ClassifierDataset(Dataset):\n",
    "    \n",
    "    def __init__(self, X_data, y_data):\n",
    "        self.X_data = X_data\n",
    "        self.y_data = y_data\n",
    "        \n",
    "    def __getitem__(self, index):\n",
    "        return self.X_data[index], self.y_data[index]\n",
    "        \n",
    "    def __len__ (self):\n",
    "        return len(self.X_data)\n",
    "\n",
    "\n",
    "train_dataset = ClassifierDataset(torch.from_numpy(X_train).float(), torch.from_numpy(y_train).long())\n",
    "val_dataset = ClassifierDataset(torch.from_numpy(X_val).float(), torch.from_numpy(y_val).long())\n",
    "test_dataset = ClassifierDataset(torch.from_numpy(X_test).float(), torch.from_numpy(y_test).long())"
   ]
  },
  {
   "cell_type": "code",
   "execution_count": 18,
   "id": "afd44212",
   "metadata": {
    "id": "afd44212"
   },
   "outputs": [],
   "source": [
    "target_list = []\n",
    "for _, t in train_dataset:\n",
    "    target_list.append(t)\n",
    "    \n",
    "target_list = torch.tensor(target_list)"
   ]
  },
  {
   "cell_type": "code",
   "execution_count": 19,
   "id": "768c743e",
   "metadata": {
    "colab": {
     "base_uri": "https://localhost:8080/"
    },
    "id": "768c743e",
    "outputId": "767a8ca3-ebba-4320-eeff-90c3216eb38b"
   },
   "outputs": [
    {
     "name": "stdout",
     "output_type": "stream",
     "text": [
      "tensor([4.9177e-06, 4.3735e-06])\n"
     ]
    }
   ],
   "source": [
    "class_count = [i for i in get_class_distribution(y_train).values()]\n",
    "class_weights = 1./torch.tensor(class_count, dtype=torch.float) \n",
    "print(class_weights)"
   ]
  },
  {
   "cell_type": "code",
   "execution_count": 20,
   "id": "1bc9efc9",
   "metadata": {
    "id": "1bc9efc9"
   },
   "outputs": [],
   "source": [
    "class_weights_all = class_weights[target_list]"
   ]
  },
  {
   "cell_type": "code",
   "execution_count": 21,
   "id": "7cff76c3",
   "metadata": {
    "id": "7cff76c3"
   },
   "outputs": [],
   "source": [
    "weighted_sampler = WeightedRandomSampler(\n",
    "    weights=class_weights_all,\n",
    "    num_samples=len(class_weights_all),\n",
    "    replacement=True\n",
    ")"
   ]
  },
  {
   "cell_type": "code",
   "execution_count": 22,
   "id": "2c6824cc",
   "metadata": {
    "id": "2c6824cc"
   },
   "outputs": [],
   "source": [
    "train_loader = DataLoader(dataset=train_dataset,\n",
    "                          batch_size=BATCH_SIZE,\n",
    "                          sampler=weighted_sampler)\n",
    "val_loader = DataLoader(dataset=val_dataset, batch_size=1)\n",
    "test_loader = DataLoader(dataset=test_dataset, batch_size=1)"
   ]
  },
  {
   "cell_type": "code",
   "execution_count": 23,
   "id": "e5221ef0",
   "metadata": {
    "id": "e5221ef0"
   },
   "outputs": [],
   "source": [
    "class MulticlassClassification(nn.Module):\n",
    "    def __init__(self, num_feature, num_class):\n",
    "        super(MulticlassClassification, self).__init__()\n",
    "        \n",
    "        self.layer_1 = nn.Linear(num_feature, 512)\n",
    "        self.layer_2 = nn.Linear(512, 128)\n",
    "        self.layer_3 = nn.Linear(128, 64)\n",
    "        self.layer_out = nn.Linear(64, num_class) \n",
    "        \n",
    "        self.relu = nn.ReLU()\n",
    "        self.dropout = nn.Dropout(p=0.2)\n",
    "        self.batchnorm1 = nn.BatchNorm1d(512)\n",
    "        self.batchnorm2 = nn.BatchNorm1d(128)\n",
    "        self.batchnorm3 = nn.BatchNorm1d(64)\n",
    "        \n",
    "    def forward(self, x):\n",
    "        x = self.layer_1(x)\n",
    "        x = self.batchnorm1(x)\n",
    "        x = self.relu(x)\n",
    "        \n",
    "        x = self.layer_2(x)\n",
    "        x = self.batchnorm2(x)\n",
    "        x = self.relu(x)\n",
    "        x = self.dropout(x)\n",
    "        \n",
    "        x = self.layer_3(x)\n",
    "        x = self.batchnorm3(x)\n",
    "        x = self.relu(x)\n",
    "        x = self.dropout(x)\n",
    "        \n",
    "        x = self.layer_out(x)\n",
    "        \n",
    "        return x"
   ]
  },
  {
   "cell_type": "code",
   "execution_count": 136,
   "id": "aa2e7135",
   "metadata": {},
   "outputs": [],
   "source": [
    "import torch\n",
    "from torch import autograd\n",
    "from torch import nn\n",
    "\n",
    "\n",
    "class CrossEntropyLoss(nn.Module):\n",
    "    \"\"\"\n",
    "    This criterion (`CrossEntropyLoss`) combines `LogSoftMax` and `NLLLoss` in one single class.\n",
    "    \n",
    "    NOTE: Computes per-element losses for a mini-batch (instead of the average loss over the entire mini-batch).\n",
    "    \"\"\"\n",
    "    log_softmax = nn.LogSoftmax()\n",
    "\n",
    "    def __init__(self):\n",
    "        super().__init__()\n",
    "        \n",
    "    def forward(self, x, target):\n",
    "        log_softmax =  x - x.exp().sum(-1).log().unsqueeze(-1)\n",
    "        loss = -log_softmax[range(target.shape[0]), target]\n",
    "\n",
    "        return loss.mean(), loss.argsort()"
   ]
  },
  {
   "cell_type": "code",
   "execution_count": 137,
   "id": "d43a900e",
   "metadata": {
    "colab": {
     "base_uri": "https://localhost:8080/"
    },
    "id": "d43a900e",
    "outputId": "bf276d23-640e-4aaa-f39c-e58d44c32dd0"
   },
   "outputs": [
    {
     "name": "stdout",
     "output_type": "stream",
     "text": [
      "MulticlassClassification(\n",
      "  (layer_1): Linear(in_features=28, out_features=512, bias=True)\n",
      "  (layer_2): Linear(in_features=512, out_features=128, bias=True)\n",
      "  (layer_3): Linear(in_features=128, out_features=64, bias=True)\n",
      "  (layer_out): Linear(in_features=64, out_features=2, bias=True)\n",
      "  (relu): ReLU()\n",
      "  (dropout): Dropout(p=0.2, inplace=False)\n",
      "  (batchnorm1): BatchNorm1d(512, eps=1e-05, momentum=0.1, affine=True, track_running_stats=True)\n",
      "  (batchnorm2): BatchNorm1d(128, eps=1e-05, momentum=0.1, affine=True, track_running_stats=True)\n",
      "  (batchnorm3): BatchNorm1d(64, eps=1e-05, momentum=0.1, affine=True, track_running_stats=True)\n",
      ")\n"
     ]
    }
   ],
   "source": [
    "model = MulticlassClassification(num_feature = NUM_FEATURES, num_class=NUM_CLASSES)\n",
    "model.to(device)\n",
    "\n",
    "criterion = CrossEntropyLoss()\n",
    "optimizer = optim.Adam(model.parameters(), lr=LEARNING_RATE)\n",
    "\n",
    "print(model)"
   ]
  },
  {
   "cell_type": "code",
   "execution_count": 26,
   "id": "7921c369",
   "metadata": {
    "id": "7921c369"
   },
   "outputs": [],
   "source": [
    "def multi_acc(y_pred, y_test):\n",
    "    y_pred_softmax = torch.log_softmax(y_pred, dim = 1)\n",
    "    _, y_pred_tags = torch.max(y_pred_softmax, dim = 1)    \n",
    "    \n",
    "    correct_pred = (y_pred_tags == y_test).float()\n",
    "    acc = correct_pred.sum() / len(correct_pred)\n",
    "    \n",
    "    acc = torch.round(acc * 100)\n",
    "    \n",
    "    return acc"
   ]
  },
  {
   "cell_type": "code",
   "execution_count": 197,
   "id": "d8e8026d",
   "metadata": {
    "id": "d8e8026d"
   },
   "outputs": [],
   "source": [
    "accuracy_stats = {\n",
    "    'train': [],\n",
    "    \"val\": []\n",
    "}\n",
    "loss_stats = {\n",
    "    'train': [],\n",
    "    \"val\": []\n",
    "}"
   ]
  },
  {
   "cell_type": "code",
   "execution_count": 144,
   "id": "CN4nh1JXbWK7",
   "metadata": {
    "id": "CN4nh1JXbWK7"
   },
   "outputs": [],
   "source": [
    "def faissQuery(X_train_class, Queries):\n",
    "    tempbatch=set()\n",
    "    for i in range(NUM_CLASSES):\n",
    "        distance, bucket = query(X_train_class[i].shape[1],X_train_class[i].shape[0],len(Queries[i]),False,np.array(Queries[i]),np.array(Queries[i]),f'CLASS{i}',100)\n",
    "        for j in range(len(bucket)):\n",
    "            for k in range(len(bucket[j])):\n",
    "                #print(\"Class: \", i)\n",
    "                #print(\"Query: \", Queries[i][j])\n",
    "                #print(\"Neighbor: \", X_train_class[i][int(bucket[j][k])])\n",
    "                tempbatch.add((int(bucket[j][k]),i))\n",
    "    return tempbatch"
   ]
  },
  {
   "cell_type": "code",
   "execution_count": 173,
   "id": "M9xL5cmMbtUJ",
   "metadata": {
    "id": "M9xL5cmMbtUJ"
   },
   "outputs": [],
   "source": [
    "#Should shuffle after creation?\n",
    "def createBatch(tempbatch, LSHBatching=True):\n",
    "    if LSHBatching:\n",
    "        tempbatch=list(tempbatch)\n",
    "        LSHbatch=random.choices(tempbatch, k=int(BATCH_SIZE/2))\n",
    "        batchX = [X_train_class[x[1]][x[0]] for x in LSHbatch]\n",
    "        batchY = [x[1] for x in LSHbatch]\n",
    "        randomBatch0 = random.choices(X_train_class[0], k=int(BATCH_SIZE/4))\n",
    "        randomBatch1 = random.choices(X_train_class[1], k=int(BATCH_SIZE/4))\n",
    "        batchX = np.concatenate((batchX, randomBatch0, randomBatch1))\n",
    "        batchY= np.concatenate((batchY, [0]*int(BATCH_SIZE/4), [1]*int(BATCH_SIZE/4)))\n",
    "    else:\n",
    "        randomBatch0 = random.choices(X_train_class[0], k=int(BATCH_SIZE/2))\n",
    "        randomBatch1 = random.choices(X_train_class[1], k=int(BATCH_SIZE/2))\n",
    "        batchX = np.concatenate((randomBatch0, randomBatch1))\n",
    "        batchY= np.concatenate(([0]*int(BATCH_SIZE/2), [1]*int(BATCH_SIZE/2)))\n",
    "    \n",
    "    batchX, batchY = shuffle(batchX, batchY)\n",
    "    \n",
    "    return np.array(batchX), np.array(batchY).astype(np.int64)"
   ]
  },
  {
   "cell_type": "code",
   "execution_count": 194,
   "id": "j93HBOycr9Xz",
   "metadata": {
    "id": "j93HBOycr9Xz"
   },
   "outputs": [],
   "source": [
    "X_train_LSH=X_train[0:BATCH_SIZE,:]\n",
    "y_train_LSH=y_train[0:BATCH_SIZE].astype(np.int64)\n"
   ]
  },
  {
   "cell_type": "code",
   "execution_count": 195,
   "id": "nbyn5EdvhCYc",
   "metadata": {
    "id": "nbyn5EdvhCYc"
   },
   "outputs": [],
   "source": [
    "LSHBatching=True"
   ]
  },
  {
   "cell_type": "code",
   "execution_count": null,
   "id": "f21622a1",
   "metadata": {
    "colab": {
     "base_uri": "https://localhost:8080/",
     "height": 117,
     "referenced_widgets": [
      "9cf079f05026475e949bc9909c26ac4b",
      "e1a5170c7e284904811c6cb9daa748ce",
      "03b0a771528a43559cd4c95fc009d1c6",
      "e78fced828634e9abd058143bcb30539",
      "f1f8156d4bd94407a75f8f258ec935ef",
      "0c937caa944a4ffda96e13d9d7ac7b53",
      "58c25c1c191146adb2cd8b4b2c41775b",
      "2bc8698031124895919e5a37c01bb789",
      "40d942a93fd94b28a6b8973db1264a4e",
      "9304cd86b1dc48fca04ba88a32a2f78f",
      "99934b4afe20413fbfad45d3e366e0b7",
      "d249b9cd5a4a4589a1d6f29ea7ae485d"
     ]
    },
    "id": "f21622a1",
    "outputId": "fe5612ed-aab0-4987-e139-cac857364522",
    "scrolled": true
   },
   "outputs": [
    {
     "name": "stdout",
     "output_type": "stream",
     "text": [
      "Begin training.\n"
     ]
    },
    {
     "data": {
      "application/vnd.jupyter.widget-view+json": {
       "model_id": "d42114359e4648698ea3fcb5cd635b3b",
       "version_major": 2,
       "version_minor": 0
      },
      "text/plain": [
       "  0%|          | 0/50 [00:00<?, ?it/s]"
      ]
     },
     "metadata": {},
     "output_type": "display_data"
    },
    {
     "name": "stdout",
     "output_type": "stream",
     "text": [
      "Epoch 001: | Train Loss: 0.57855 | Val Loss: 0.51969 | Train Acc: 69.142| Val Acc: 74.258\n",
      "Epoch 002: | Train Loss: 0.57425 | Val Loss: 0.51699 | Train Acc: 69.556| Val Acc: 74.415\n",
      "Epoch 003: | Train Loss: 0.57207 | Val Loss: 0.52022 | Train Acc: 69.624| Val Acc: 74.119\n",
      "Epoch 004: | Train Loss: 0.56949 | Val Loss: 0.51758 | Train Acc: 69.934| Val Acc: 74.398\n",
      "Epoch 005: | Train Loss: 0.56938 | Val Loss: 0.52038 | Train Acc: 69.865| Val Acc: 74.058\n",
      "Epoch 006: | Train Loss: 0.57087 | Val Loss: 0.51645 | Train Acc: 69.728| Val Acc: 74.279\n",
      "Epoch 007: | Train Loss: 0.56774 | Val Loss: 0.51563 | Train Acc: 70.041| Val Acc: 74.404\n",
      "Epoch 008: | Train Loss: 0.56788 | Val Loss: 0.51518 | Train Acc: 69.986| Val Acc: 74.383\n",
      "Epoch 009: | Train Loss: 0.56669 | Val Loss: 0.51685 | Train Acc: 70.165| Val Acc: 74.354\n",
      "Epoch 010: | Train Loss: 0.56614 | Val Loss: 0.51496 | Train Acc: 70.164| Val Acc: 74.410\n",
      "Epoch 011: | Train Loss: 0.56694 | Val Loss: 0.52080 | Train Acc: 70.182| Val Acc: 74.525\n",
      "Epoch 012: | Train Loss: 0.56677 | Val Loss: 0.52695 | Train Acc: 70.128| Val Acc: 73.050\n",
      "Epoch 013: | Train Loss: 0.56609 | Val Loss: 0.51877 | Train Acc: 70.175| Val Acc: 74.221\n",
      "Epoch 014: | Train Loss: 0.56469 | Val Loss: 0.51849 | Train Acc: 70.255| Val Acc: 74.358\n",
      "Epoch 015: | Train Loss: 0.56476 | Val Loss: 0.51530 | Train Acc: 70.244| Val Acc: 73.940\n",
      "Epoch 016: | Train Loss: 0.56500 | Val Loss: 0.51442 | Train Acc: 70.199| Val Acc: 74.533\n",
      "Epoch 017: | Train Loss: 0.56536 | Val Loss: 0.51397 | Train Acc: 70.299| Val Acc: 74.310\n",
      "Epoch 018: | Train Loss: 0.56273 | Val Loss: 0.51678 | Train Acc: 70.419| Val Acc: 73.885\n",
      "Epoch 019: | Train Loss: 0.56295 | Val Loss: 0.51794 | Train Acc: 70.441| Val Acc: 73.981\n",
      "Epoch 020: | Train Loss: 0.56278 | Val Loss: 0.52122 | Train Acc: 70.467| Val Acc: 74.131\n",
      "Epoch 021: | Train Loss: 0.56502 | Val Loss: 0.51521 | Train Acc: 70.178| Val Acc: 74.577\n",
      "Epoch 022: | Train Loss: 0.56221 | Val Loss: 0.51746 | Train Acc: 70.538| Val Acc: 74.446\n"
     ]
    }
   ],
   "source": [
    "print(\"Begin training.\")\n",
    "oldBatch = set()\n",
    "for e in tqdm(range(1, EPOCHS+1)):\n",
    "    # TRAINING\n",
    "    train_epoch_loss = 0\n",
    "    train_epoch_acc = 0\n",
    "    model.train()\n",
    "    step=0\n",
    "    while(step<MAX_STEPS):\n",
    "        X_train_batch= torch.from_numpy(X_train_LSH).to(device)\n",
    "        y_train_batch=torch.from_numpy(y_train_LSH).to(device)\n",
    "\n",
    "        ##why ? \n",
    "        optimizer.zero_grad()\n",
    "\n",
    "        #timestampA = time.time()\n",
    "        y_train_pred = model(X_train_batch.float())\n",
    "        #print(\"Time for pred\", time.time() - timestampA)\n",
    "\n",
    "        #timestampB = time.time()\n",
    "        train_loss, sorted_index = criterion(y_train_pred, y_train_batch)\n",
    "        #print(\"Time for loss\", time.time() - timestampB)\n",
    "\n",
    "        if LSHBatching:\n",
    "            #PROCEDURE FOR NEW BATCHES\n",
    "            with torch.no_grad():\n",
    "                #Find elements in batch that led to top K losses  \n",
    "                X_train_batch_Topk = X_train_batch[sorted_index[-K:]]\n",
    "                y_train_batch_Topk = y_train_batch[sorted_index[-K:]]\n",
    "\n",
    "                #Query Faiss for nearest neighbors\n",
    "                #timestampC = time.time()\n",
    "                nextBatch = faissQuery(X_train_class,[X_train_batch_Topk[y_train_batch_Topk == 0], X_train_batch_Topk[y_train_batch_Topk == 1]])\n",
    "                #print(\"Time for faiss query\", time.time() - timestampC)\n",
    "\n",
    "                #check for being stuck in cluster  \n",
    "                #print(\"Similarity to old batch\", len(nextBatch.intersection(oldBatch))/len(nextBatch.union(oldBatch)))\n",
    "                oldBatch = nextBatch\n",
    "\n",
    "                # Create new batch from neighbors and random sample\n",
    "                #timestampD = time.time()\n",
    "                X_train_LSH,y_train_LSH=createBatch(nextBatch)\n",
    "                #print(\"Time for batch creation\", time.time() - timestampD)\n",
    "\n",
    "        else:\n",
    "            with torch.no_grad():\n",
    "                X_train_LSH,y_train_LSH=createBatch(nextBatch, LSHBatching)\n",
    "        ##############################\n",
    "\n",
    "\n",
    "        train_loss.backward()\n",
    "        train_acc = multi_acc(y_train_pred, y_train_batch)\n",
    "\n",
    "        optimizer.step()\n",
    "\n",
    "        train_epoch_loss += train_loss.item()\n",
    "        train_epoch_acc += train_acc.item()\n",
    "        step+=1\n",
    "\n",
    "\n",
    "    # VALIDATION    \n",
    "    with torch.no_grad():\n",
    "        val_epoch_loss = 0\n",
    "        val_epoch_acc = 0\n",
    "\n",
    "        model.eval()\n",
    "        for X_val_batch, y_val_batch in val_loader:\n",
    "            X_val_batch, y_val_batch = X_val_batch.to(device), y_val_batch.to(device)\n",
    "\n",
    "            y_val_pred = model(X_val_batch)\n",
    "\n",
    "            val_loss, _ = criterion(y_val_pred, y_val_batch)\n",
    "            val_acc = multi_acc(y_val_pred, y_val_batch)\n",
    "\n",
    "            val_epoch_loss += val_loss.item()\n",
    "            val_epoch_acc += val_acc.item()\n",
    "    loss_stats['train'].append(train_epoch_loss/MAX_STEPS)\n",
    "    #len(train_loader)\n",
    "    loss_stats['val'].append(val_epoch_loss/len(val_loader))\n",
    "    accuracy_stats['train'].append(train_epoch_acc/MAX_STEPS)\n",
    "    accuracy_stats['val'].append(val_epoch_acc/len(val_loader))\n",
    "\n",
    "\n",
    "    print(f'Epoch {e+0:03}: | Train Loss: {train_epoch_loss/MAX_STEPS:.5f} | Val Loss: {val_epoch_loss/len(val_loader):.5f} | Train Acc: {train_epoch_acc/MAX_STEPS:.3f}| Val Acc: {val_epoch_acc/len(val_loader):.3f}')\n"
   ]
  },
  {
   "cell_type": "code",
   "execution_count": 142,
   "id": "eQBruQFNg0t6",
   "metadata": {
    "id": "eQBruQFNg0t6"
   },
   "outputs": [
    {
     "name": "stdout",
     "output_type": "stream",
     "text": [
      "Begin training.\n"
     ]
    },
    {
     "data": {
      "application/vnd.jupyter.widget-view+json": {
       "model_id": "d477b6cc61ec461baee035455cac503f",
       "version_major": 2,
       "version_minor": 0
      },
      "text/plain": [
       "  0%|          | 0/10 [00:00<?, ?it/s]"
      ]
     },
     "metadata": {},
     "output_type": "display_data"
    },
    {
     "name": "stdout",
     "output_type": "stream",
     "text": [
      "Epoch 001: | Train Loss: 0.63575 | Val Loss: 0.59693 | Train Acc: 63.536| Val Acc: 68.610\n",
      "Epoch 002: | Train Loss: 0.60872 | Val Loss: 0.58203 | Train Acc: 66.880| Val Acc: 68.425\n",
      "Epoch 003: | Train Loss: 0.59936 | Val Loss: 0.56765 | Train Acc: 67.800| Val Acc: 70.790\n",
      "Epoch 004: | Train Loss: 0.59552 | Val Loss: 0.56389 | Train Acc: 68.088| Val Acc: 71.117\n",
      "Epoch 005: | Train Loss: 0.59005 | Val Loss: 0.55879 | Train Acc: 68.568| Val Acc: 71.583\n",
      "Epoch 006: | Train Loss: 0.58775 | Val Loss: 0.55882 | Train Acc: 68.727| Val Acc: 71.398\n",
      "Epoch 007: | Train Loss: 0.58387 | Val Loss: 0.55276 | Train Acc: 69.095| Val Acc: 72.021\n",
      "Epoch 008: | Train Loss: 0.58221 | Val Loss: 0.54949 | Train Acc: 69.205| Val Acc: 72.106\n",
      "Epoch 009: | Train Loss: 0.58035 | Val Loss: 0.54973 | Train Acc: 69.409| Val Acc: 72.121\n",
      "Epoch 010: | Train Loss: 0.57941 | Val Loss: 0.55026 | Train Acc: 69.481| Val Acc: 71.967\n"
     ]
    }
   ],
   "source": [
    "\n",
    "# print(\"Begin training.\")\n",
    "# for e in tqdm(range(1, EPOCHS+1)):\n",
    "\n",
    "#   # TRAINING\n",
    "#   train_epoch_loss = 0\n",
    "#   train_epoch_acc = 0\n",
    "#   model.train()\n",
    "#   for X_train_batch, y_train_batch in train_loader:\n",
    "#       X_train_batch, y_train_batch = X_train_batch.to(device), y_train_batch.to(device)\n",
    "#       optimizer.zero_grad()\n",
    "#       y_train_pred = model(X_train_batch)\n",
    "\n",
    "#       train_loss, _ = criterion(y_train_pred, y_train_batch)\n",
    "#       train_acc = multi_acc(y_train_pred, y_train_batch)\n",
    "\n",
    "\n",
    "#       train_loss.backward()\n",
    "#       optimizer.step()\n",
    "\n",
    "#       train_epoch_loss += train_loss.item()\n",
    "#       train_epoch_acc += train_acc.item()\n",
    "\n",
    "\n",
    "#   # VALIDATION    \n",
    "#   with torch.no_grad():\n",
    "\n",
    "#       val_epoch_loss = 0\n",
    "#       val_epoch_acc = 0\n",
    "\n",
    "#       model.eval()\n",
    "#       for X_val_batch, y_val_batch in val_loader:\n",
    "#           X_val_batch, y_val_batch = X_val_batch.to(device), y_val_batch.to(device)\n",
    "\n",
    "#           y_val_pred = model(X_val_batch)\n",
    "\n",
    "#           val_loss, _ = criterion(y_val_pred, y_val_batch)\n",
    "#           val_acc = multi_acc(y_val_pred, y_val_batch)\n",
    "\n",
    "#           val_epoch_loss += val_loss.item()\n",
    "#           val_epoch_acc += val_acc.item()\n",
    "#   loss_stats['train'].append(train_epoch_loss/len(train_loader))\n",
    "#   loss_stats['val'].append(val_epoch_loss/len(val_loader))\n",
    "#   accuracy_stats['train'].append(train_epoch_acc/len(train_loader))\n",
    "#   accuracy_stats['val'].append(val_epoch_acc/len(val_loader))\n",
    "\n",
    "\n",
    "#   print(f'Epoch {e+0:03}: | Train Loss: {train_epoch_loss/len(train_loader):.5f} | Val Loss: {val_epoch_loss/len(val_loader):.5f} | Train Acc: {train_epoch_acc/len(train_loader):.3f}| Val Acc: {val_epoch_acc/len(val_loader):.3f}')"
   ]
  },
  {
   "cell_type": "code",
   "execution_count": 152,
   "id": "MwGyXvWreNUt",
   "metadata": {
    "id": "MwGyXvWreNUt",
    "outputId": "9f02161f-fa98-43e8-a366-3143ffe25b9d"
   },
   "outputs": [
    {
     "name": "stdout",
     "output_type": "stream",
     "text": [
      "Automatic pdb calling has been turned OFF\n"
     ]
    }
   ],
   "source": [
    "%pdb off"
   ]
  },
  {
   "cell_type": "code",
   "execution_count": 191,
   "id": "61455bea",
   "metadata": {
    "colab": {
     "base_uri": "https://localhost:8080/",
     "height": 441
    },
    "id": "61455bea",
    "outputId": "f06cdc17-63d6-4a2b-e346-626d5533de9b"
   },
   "outputs": [
    {
     "data": {
      "text/plain": [
       "Text(0.5, 1.0, 'Train-Val Loss/Epoch')"
      ]
     },
     "execution_count": 191,
     "metadata": {},
     "output_type": "execute_result"
    },
    {
     "data": {
      "image/png": "[encoded data removed]",
      "text/plain": [
       "<Figure size 1440x504 with 2 Axes>"
      ]
     },
     "metadata": {
      "needs_background": "light"
     },
     "output_type": "display_data"
    }
   ],
   "source": [
    "# Create dataframes\n",
    "train_val_acc_df = pd.DataFrame.from_dict(accuracy_stats).reset_index().melt(id_vars=['index']).rename(columns={\"index\":\"epochs\"})\n",
    "train_val_loss_df = pd.DataFrame.from_dict(loss_stats).reset_index().melt(id_vars=['index']).rename(columns={\"index\":\"epochs\"})\n",
    "# Plot the dataframes\n",
    "fig, axes = plt.subplots(nrows=1, ncols=2, figsize=(20,7))\n",
    "sns.lineplot(data=train_val_acc_df, x = \"epochs\", y=\"value\", hue=\"variable\",  ax=axes[0]).set_title('Train-Val Accuracy/Epoch')\n",
    "sns.lineplot(data=train_val_loss_df, x = \"epochs\", y=\"value\", hue=\"variable\", ax=axes[1]).set_title('Train-Val Loss/Epoch')"
   ]
  },
  {
   "cell_type": "code",
   "execution_count": null,
   "id": "c9844d4e",
   "metadata": {},
   "outputs": [],
   "source": [
    "# Create dataframes\n",
    "train_val_acc_df = pd.DataFrame.from_dict(accuracy_stats).reset_index().melt(id_vars=['index']).rename(columns={\"index\":\"epochs\"})\n",
    "train_val_loss_df = pd.DataFrame.from_dict(loss_stats).reset_index().melt(id_vars=['index']).rename(columns={\"index\":\"epochs\"})\n",
    "# Plot the dataframes\n",
    "fig, axes = plt.subplots(nrows=1, ncols=2, figsize=(20,7))\n",
    "sns.lineplot(data=train_val_acc_df, x = \"epochs\", y=\"value\", hue=\"variable\",  ax=axes[0]).set_title('Train-Val Accuracy/Epoch')\n",
    "sns.lineplot(data=train_val_loss_df, x = \"epochs\", y=\"value\", hue=\"variable\", ax=axes[1]).set_title('Train-Val Loss/Epoch')"
   ]
  },
  {
   "cell_type": "code",
   "execution_count": 184,
   "id": "9b605ea3",
   "metadata": {
    "id": "9b605ea3"
   },
   "outputs": [],
   "source": [
    "y_pred_list = []\n",
    "with torch.no_grad():\n",
    "    model.eval()\n",
    "    for X_batch, _ in test_loader:\n",
    "        X_batch = X_batch.to(device)\n",
    "        y_test_pred = model(X_batch)\n",
    "        _, y_pred_tags = torch.max(y_test_pred, dim = 1)\n",
    "        y_pred_list.append(y_pred_tags.cpu().numpy())\n",
    "y_pred_list = [a.squeeze().tolist() for a in y_pred_list]"
   ]
  },
  {
   "cell_type": "code",
   "execution_count": 185,
   "id": "e27adb9b",
   "metadata": {
    "id": "e27adb9b",
    "outputId": "9f690837-7e62-4b56-ccd0-d96093b5a5af"
   },
   "outputs": [
    {
     "ename": "NameError",
     "evalue": "name 'idx2class' is not defined",
     "output_type": "error",
     "traceback": [
      "\u001b[1;31m---------------------------------------------------------------------------\u001b[0m",
      "\u001b[1;31mNameError\u001b[0m                                 Traceback (most recent call last)",
      "Input \u001b[1;32mIn [185]\u001b[0m, in \u001b[0;36m<module>\u001b[1;34m\u001b[0m\n\u001b[1;32m----> 1\u001b[0m confusion_matrix_df \u001b[38;5;241m=\u001b[39m pd\u001b[38;5;241m.\u001b[39mDataFrame(confusion_matrix(y_test, y_pred_list))\u001b[38;5;241m.\u001b[39mrename(columns\u001b[38;5;241m=\u001b[39m\u001b[43midx2class\u001b[49m, index\u001b[38;5;241m=\u001b[39midx2class)\n\u001b[0;32m      3\u001b[0m sns\u001b[38;5;241m.\u001b[39mheatmap(confusion_matrix_df, annot\u001b[38;5;241m=\u001b[39m\u001b[38;5;28;01mTrue\u001b[39;00m)\n",
      "\u001b[1;31mNameError\u001b[0m: name 'idx2class' is not defined"
     ]
    }
   ],
   "source": [
    "confusion_matrix_df = pd.DataFrame(confusion_matrix(y_test, y_pred_list)).rename(columns=idx2class, index=idx2class)\n",
    "\n",
    "sns.heatmap(confusion_matrix_df, annot=True)"
   ]
  },
  {
   "cell_type": "code",
   "execution_count": null,
   "id": "c711664d",
   "metadata": {
    "id": "c711664d"
   },
   "outputs": [],
   "source": [
    "print(classification_report(y_test, y_pred_list))"
   ]
  },
  {
   "cell_type": "code",
   "execution_count": null,
   "id": "91b8316b",
   "metadata": {},
   "outputs": [],
   "source": []
  }
 ],
 "metadata": {
  "colab": {
   "provenance": []
  },
  "kernelspec": {
   "display_name": "Python 3 (ipykernel)",
   "language": "python",
   "name": "python3"
  },
  "language_info": {
   "codemirror_mode": {
    "name": "ipython",
    "version": 3
   },
   "file_extension": ".py",
   "mimetype": "text/x-python",
   "name": "python",
   "nbconvert_exporter": "python",
   "pygments_lexer": "ipython3",
   "version": "3.9.13"
  },
  "vscode": {
   "interpreter": {
    "hash": "4bd624a0593993fe43ac4046b27b898fb2ef75c21c08f81e89e64ea0f51df676"
   }
  },
  "widgets": {
   "application/vnd.jupyter.widget-state+json": {
    "03b0a771528a43559cd4c95fc009d1c6": {
     "model_module": "@jupyter-widgets/controls",
     "model_module_version": "1.5.0",
     "model_name": "FloatProgressModel",
     "state": {
      "_dom_classes": [],
      "_model_module": "@jupyter-widgets/controls",
      "_model_module_version": "1.5.0",
      "_model_name": "FloatProgressModel",
      "_view_count": null,
      "_view_module": "@jupyter-widgets/controls",
      "_view_module_version": "1.5.0",
      "_view_name": "ProgressView",
      "bar_style": "success",
      "description": "",
      "description_tooltip": null,
      "layout": "IPY_MODEL_2bc8698031124895919e5a37c01bb789",
      "max": 3,
      "min": 0,
      "orientation": "horizontal",
      "style": "IPY_MODEL_40d942a93fd94b28a6b8973db1264a4e",
      "value": 3
     }
    },
    "0c937caa944a4ffda96e13d9d7ac7b53": {
     "model_module": "@jupyter-widgets/base",
     "model_module_version": "1.2.0",
     "model_name": "LayoutModel",
     "state": {
      "_model_module": "@jupyter-widgets/base",
      "_model_module_version": "1.2.0",
      "_model_name": "LayoutModel",
      "_view_count": null,
      "_view_module": "@jupyter-widgets/base",
      "_view_module_version": "1.2.0",
      "_view_name": "LayoutView",
      "align_content": null,
      "align_items": null,
      "align_self": null,
      "border": null,
      "bottom": null,
      "display": null,
      "flex": null,
      "flex_flow": null,
      "grid_area": null,
      "grid_auto_columns": null,
      "grid_auto_flow": null,
      "grid_auto_rows": null,
      "grid_column": null,
      "grid_gap": null,
      "grid_row": null,
      "grid_template_areas": null,
      "grid_template_columns": null,
      "grid_template_rows": null,
      "height": null,
      "justify_content": null,
      "justify_items": null,
      "left": null,
      "margin": null,
      "max_height": null,
      "max_width": null,
      "min_height": null,
      "min_width": null,
      "object_fit": null,
      "object_position": null,
      "order": null,
      "overflow": null,
      "overflow_x": null,
      "overflow_y": null,
      "padding": null,
      "right": null,
      "top": null,
      "visibility": null,
      "width": null
     }
    },
    "2bc8698031124895919e5a37c01bb789": {
     "model_module": "@jupyter-widgets/base",
     "model_module_version": "1.2.0",
     "model_name": "LayoutModel",
     "state": {
      "_model_module": "@jupyter-widgets/base",
      "_model_module_version": "1.2.0",
      "_model_name": "LayoutModel",
      "_view_count": null,
      "_view_module": "@jupyter-widgets/base",
      "_view_module_version": "1.2.0",
      "_view_name": "LayoutView",
      "align_content": null,
      "align_items": null,
      "align_self": null,
      "border": null,
      "bottom": null,
      "display": null,
      "flex": null,
      "flex_flow": null,
      "grid_area": null,
      "grid_auto_columns": null,
      "grid_auto_flow": null,
      "grid_auto_rows": null,
      "grid_column": null,
      "grid_gap": null,
      "grid_row": null,
      "grid_template_areas": null,
      "grid_template_columns": null,
      "grid_template_rows": null,
      "height": null,
      "justify_content": null,
      "justify_items": null,
      "left": null,
      "margin": null,
      "max_height": null,
      "max_width": null,
      "min_height": null,
      "min_width": null,
      "object_fit": null,
      "object_position": null,
      "order": null,
      "overflow": null,
      "overflow_x": null,
      "overflow_y": null,
      "padding": null,
      "right": null,
      "top": null,
      "visibility": null,
      "width": null
     }
    },
    "40d942a93fd94b28a6b8973db1264a4e": {
     "model_module": "@jupyter-widgets/controls",
     "model_module_version": "1.5.0",
     "model_name": "ProgressStyleModel",
     "state": {
      "_model_module": "@jupyter-widgets/controls",
      "_model_module_version": "1.5.0",
      "_model_name": "ProgressStyleModel",
      "_view_count": null,
      "_view_module": "@jupyter-widgets/base",
      "_view_module_version": "1.2.0",
      "_view_name": "StyleView",
      "bar_color": null,
      "description_width": ""
     }
    },
    "58c25c1c191146adb2cd8b4b2c41775b": {
     "model_module": "@jupyter-widgets/controls",
     "model_module_version": "1.5.0",
     "model_name": "DescriptionStyleModel",
     "state": {
      "_model_module": "@jupyter-widgets/controls",
      "_model_module_version": "1.5.0",
      "_model_name": "DescriptionStyleModel",
      "_view_count": null,
      "_view_module": "@jupyter-widgets/base",
      "_view_module_version": "1.2.0",
      "_view_name": "StyleView",
      "description_width": ""
     }
    },
    "9304cd86b1dc48fca04ba88a32a2f78f": {
     "model_module": "@jupyter-widgets/base",
     "model_module_version": "1.2.0",
     "model_name": "LayoutModel",
     "state": {
      "_model_module": "@jupyter-widgets/base",
      "_model_module_version": "1.2.0",
      "_model_name": "LayoutModel",
      "_view_count": null,
      "_view_module": "@jupyter-widgets/base",
      "_view_module_version": "1.2.0",
      "_view_name": "LayoutView",
      "align_content": null,
      "align_items": null,
      "align_self": null,
      "border": null,
      "bottom": null,
      "display": null,
      "flex": null,
      "flex_flow": null,
      "grid_area": null,
      "grid_auto_columns": null,
      "grid_auto_flow": null,
      "grid_auto_rows": null,
      "grid_column": null,
      "grid_gap": null,
      "grid_row": null,
      "grid_template_areas": null,
      "grid_template_columns": null,
      "grid_template_rows": null,
      "height": null,
      "justify_content": null,
      "justify_items": null,
      "left": null,
      "margin": null,
      "max_height": null,
      "max_width": null,
      "min_height": null,
      "min_width": null,
      "object_fit": null,
      "object_position": null,
      "order": null,
      "overflow": null,
      "overflow_x": null,
      "overflow_y": null,
      "padding": null,
      "right": null,
      "top": null,
      "visibility": null,
      "width": null
     }
    },
    "99934b4afe20413fbfad45d3e366e0b7": {
     "model_module": "@jupyter-widgets/controls",
     "model_module_version": "1.5.0",
     "model_name": "DescriptionStyleModel",
     "state": {
      "_model_module": "@jupyter-widgets/controls",
      "_model_module_version": "1.5.0",
      "_model_name": "DescriptionStyleModel",
      "_view_count": null,
      "_view_module": "@jupyter-widgets/base",
      "_view_module_version": "1.2.0",
      "_view_name": "StyleView",
      "description_width": ""
     }
    },
    "9cf079f05026475e949bc9909c26ac4b": {
     "model_module": "@jupyter-widgets/controls",
     "model_module_version": "1.5.0",
     "model_name": "HBoxModel",
     "state": {
      "_dom_classes": [],
      "_model_module": "@jupyter-widgets/controls",
      "_model_module_version": "1.5.0",
      "_model_name": "HBoxModel",
      "_view_count": null,
      "_view_module": "@jupyter-widgets/controls",
      "_view_module_version": "1.5.0",
      "_view_name": "HBoxView",
      "box_style": "",
      "children": [
       "IPY_MODEL_e1a5170c7e284904811c6cb9daa748ce",
       "IPY_MODEL_03b0a771528a43559cd4c95fc009d1c6",
       "IPY_MODEL_e78fced828634e9abd058143bcb30539"
      ],
      "layout": "IPY_MODEL_f1f8156d4bd94407a75f8f258ec935ef"
     }
    },
    "e1a5170c7e284904811c6cb9daa748ce": {
     "model_module": "@jupyter-widgets/controls",
     "model_module_version": "1.5.0",
     "model_name": "HTMLModel",
     "state": {
      "_dom_classes": [],
      "_model_module": "@jupyter-widgets/controls",
      "_model_module_version": "1.5.0",
      "_model_name": "HTMLModel",
      "_view_count": null,
      "_view_module": "@jupyter-widgets/controls",
      "_view_module_version": "1.5.0",
      "_view_name": "HTMLView",
      "description": "",
      "description_tooltip": null,
      "layout": "IPY_MODEL_0c937caa944a4ffda96e13d9d7ac7b53",
      "placeholder": "​",
      "style": "IPY_MODEL_58c25c1c191146adb2cd8b4b2c41775b",
      "value": "100%"
     }
    },
    "e78fced828634e9abd058143bcb30539": {
     "model_module": "@jupyter-widgets/controls",
     "model_module_version": "1.5.0",
     "model_name": "HTMLModel",
     "state": {
      "_dom_classes": [],
      "_model_module": "@jupyter-widgets/controls",
      "_model_module_version": "1.5.0",
      "_model_name": "HTMLModel",
      "_view_count": null,
      "_view_module": "@jupyter-widgets/controls",
      "_view_module_version": "1.5.0",
      "_view_name": "HTMLView",
      "description": "",
      "description_tooltip": null,
      "layout": "IPY_MODEL_9304cd86b1dc48fca04ba88a32a2f78f",
      "placeholder": "​",
      "style": "IPY_MODEL_99934b4afe20413fbfad45d3e366e0b7",
      "value": " 3/3 [00:00&lt;00:00,  7.18it/s]"
     }
    },
    "f1f8156d4bd94407a75f8f258ec935ef": {
     "model_module": "@jupyter-widgets/base",
     "model_module_version": "1.2.0",
     "model_name": "LayoutModel",
     "state": {
      "_model_module": "@jupyter-widgets/base",
      "_model_module_version": "1.2.0",
      "_model_name": "LayoutModel",
      "_view_count": null,
      "_view_module": "@jupyter-widgets/base",
      "_view_module_version": "1.2.0",
      "_view_name": "LayoutView",
      "align_content": null,
      "align_items": null,
      "align_self": null,
      "border": null,
      "bottom": null,
      "display": null,
      "flex": null,
      "flex_flow": null,
      "grid_area": null,
      "grid_auto_columns": null,
      "grid_auto_flow": null,
      "grid_auto_rows": null,
      "grid_column": null,
      "grid_gap": null,
      "grid_row": null,
      "grid_template_areas": null,
      "grid_template_columns": null,
      "grid_template_rows": null,
      "height": null,
      "justify_content": null,
      "justify_items": null,
      "left": null,
      "margin": null,
      "max_height": null,
      "max_width": null,
      "min_height": null,
      "min_width": null,
      "object_fit": null,
      "object_position": null,
      "order": null,
      "overflow": null,
      "overflow_x": null,
      "overflow_y": null,
      "padding": null,
      "right": null,
      "top": null,
      "visibility": null,
      "width": null
     }
    }
   }
  }
 },
 "nbformat": 4,
 "nbformat_minor": 5
}
