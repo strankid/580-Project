{
 "cells": [
  {
   "cell_type": "markdown",
   "id": "8c2c291a",
   "metadata": {},
   "source": [
    "### Tasks\n",
    "* Implement Faiss - (create a util file using code given by gaurav and import here) \n",
    "* Implement Near Neighbor Sampling \n",
    "* plot the gradients for each batch (==1, should be high) and for the entire dataset(should be low) at different interesting epochs \n",
    "* Figure out how to calculate efficient per sample gradient \n"
   ]
  },
  {
   "cell_type": "code",
   "execution_count": null,
   "id": "69c0a904",
   "metadata": {},
   "outputs": [],
   "source": [
    "pip install faiss-cpu --no-cache"
   ]
  },
  {
   "cell_type": "code",
   "execution_count": 2,
   "id": "40d5323f",
   "metadata": {},
   "outputs": [
    {
     "ename": "ModuleNotFoundError",
     "evalue": "No module named 'seaborn'",
     "output_type": "error",
     "traceback": [
      "\u001b[0;31m---------------------------------------------------------------------------\u001b[0m",
      "\u001b[0;31mModuleNotFoundError\u001b[0m                       Traceback (most recent call last)",
      "Cell \u001b[0;32mIn [2], line 3\u001b[0m\n\u001b[1;32m      1\u001b[0m \u001b[39mimport\u001b[39;00m \u001b[39mnumpy\u001b[39;00m \u001b[39mas\u001b[39;00m \u001b[39mnp\u001b[39;00m\n\u001b[1;32m      2\u001b[0m \u001b[39mimport\u001b[39;00m \u001b[39mpandas\u001b[39;00m \u001b[39mas\u001b[39;00m \u001b[39mpd\u001b[39;00m\n\u001b[0;32m----> 3\u001b[0m \u001b[39mimport\u001b[39;00m \u001b[39mseaborn\u001b[39;00m \u001b[39mas\u001b[39;00m \u001b[39msns\u001b[39;00m\n\u001b[1;32m      4\u001b[0m \u001b[39mfrom\u001b[39;00m \u001b[39mtqdm\u001b[39;00m\u001b[39m.\u001b[39;00m\u001b[39mnotebook\u001b[39;00m \u001b[39mimport\u001b[39;00m tqdm\n\u001b[1;32m      5\u001b[0m \u001b[39mimport\u001b[39;00m \u001b[39mmatplotlib\u001b[39;00m\u001b[39m.\u001b[39;00m\u001b[39mpyplot\u001b[39;00m \u001b[39mas\u001b[39;00m \u001b[39mplt\u001b[39;00m\n",
      "\u001b[0;31mModuleNotFoundError\u001b[0m: No module named 'seaborn'"
     ]
    }
   ],
   "source": [
    "import numpy as np\n",
    "import pandas as pd\n",
    "import seaborn as sns\n",
    "from tqdm.notebook import tqdm\n",
    "import matplotlib.pyplot as plt\n",
    "\n",
    "#replace with pytorch lightning\n",
    "import torch\n",
    "import torch.nn as nn\n",
    "import torch.optim as optim\n",
    "from torch.utils.data import Dataset, DataLoader, WeightedRandomSampler\n",
    "\n",
    "from sklearn.preprocessing import MinMaxScaler    \n",
    "from sklearn.model_selection import train_test_split\n",
    "from sklearn.metrics import confusion_matrix, classification_report"
   ]
  },
  {
   "cell_type": "code",
   "execution_count": 2,
   "id": "492d34a9",
   "metadata": {},
   "outputs": [
    {
     "data": {
      "text/html": [
       "<div>\n",
       "<style scoped>\n",
       "    .dataframe tbody tr th:only-of-type {\n",
       "        vertical-align: middle;\n",
       "    }\n",
       "\n",
       "    .dataframe tbody tr th {\n",
       "        vertical-align: top;\n",
       "    }\n",
       "\n",
       "    .dataframe thead th {\n",
       "        text-align: right;\n",
       "    }\n",
       "</style>\n",
       "<table border=\"1\" class=\"dataframe\">\n",
       "  <thead>\n",
       "    <tr style=\"text-align: right;\">\n",
       "      <th></th>\n",
       "      <th>fixed acidity</th>\n",
       "      <th>volatile acidity</th>\n",
       "      <th>citric acid</th>\n",
       "      <th>residual sugar</th>\n",
       "      <th>chlorides</th>\n",
       "      <th>free sulfur dioxide</th>\n",
       "      <th>total sulfur dioxide</th>\n",
       "      <th>density</th>\n",
       "      <th>pH</th>\n",
       "      <th>sulphates</th>\n",
       "      <th>alcohol</th>\n",
       "      <th>quality</th>\n",
       "    </tr>\n",
       "  </thead>\n",
       "  <tbody>\n",
       "    <tr>\n",
       "      <th>0</th>\n",
       "      <td>7.4</td>\n",
       "      <td>0.70</td>\n",
       "      <td>0.00</td>\n",
       "      <td>1.9</td>\n",
       "      <td>0.076</td>\n",
       "      <td>11.0</td>\n",
       "      <td>34.0</td>\n",
       "      <td>0.9978</td>\n",
       "      <td>3.51</td>\n",
       "      <td>0.56</td>\n",
       "      <td>9.4</td>\n",
       "      <td>5</td>\n",
       "    </tr>\n",
       "    <tr>\n",
       "      <th>1</th>\n",
       "      <td>7.8</td>\n",
       "      <td>0.88</td>\n",
       "      <td>0.00</td>\n",
       "      <td>2.6</td>\n",
       "      <td>0.098</td>\n",
       "      <td>25.0</td>\n",
       "      <td>67.0</td>\n",
       "      <td>0.9968</td>\n",
       "      <td>3.20</td>\n",
       "      <td>0.68</td>\n",
       "      <td>9.8</td>\n",
       "      <td>5</td>\n",
       "    </tr>\n",
       "    <tr>\n",
       "      <th>2</th>\n",
       "      <td>7.8</td>\n",
       "      <td>0.76</td>\n",
       "      <td>0.04</td>\n",
       "      <td>2.3</td>\n",
       "      <td>0.092</td>\n",
       "      <td>15.0</td>\n",
       "      <td>54.0</td>\n",
       "      <td>0.9970</td>\n",
       "      <td>3.26</td>\n",
       "      <td>0.65</td>\n",
       "      <td>9.8</td>\n",
       "      <td>5</td>\n",
       "    </tr>\n",
       "    <tr>\n",
       "      <th>3</th>\n",
       "      <td>11.2</td>\n",
       "      <td>0.28</td>\n",
       "      <td>0.56</td>\n",
       "      <td>1.9</td>\n",
       "      <td>0.075</td>\n",
       "      <td>17.0</td>\n",
       "      <td>60.0</td>\n",
       "      <td>0.9980</td>\n",
       "      <td>3.16</td>\n",
       "      <td>0.58</td>\n",
       "      <td>9.8</td>\n",
       "      <td>6</td>\n",
       "    </tr>\n",
       "    <tr>\n",
       "      <th>4</th>\n",
       "      <td>7.4</td>\n",
       "      <td>0.70</td>\n",
       "      <td>0.00</td>\n",
       "      <td>1.9</td>\n",
       "      <td>0.076</td>\n",
       "      <td>11.0</td>\n",
       "      <td>34.0</td>\n",
       "      <td>0.9978</td>\n",
       "      <td>3.51</td>\n",
       "      <td>0.56</td>\n",
       "      <td>9.4</td>\n",
       "      <td>5</td>\n",
       "    </tr>\n",
       "  </tbody>\n",
       "</table>\n",
       "</div>"
      ],
      "text/plain": [
       "   fixed acidity  volatile acidity  citric acid  residual sugar  chlorides  \\\n",
       "0            7.4              0.70         0.00             1.9      0.076   \n",
       "1            7.8              0.88         0.00             2.6      0.098   \n",
       "2            7.8              0.76         0.04             2.3      0.092   \n",
       "3           11.2              0.28         0.56             1.9      0.075   \n",
       "4            7.4              0.70         0.00             1.9      0.076   \n",
       "\n",
       "   free sulfur dioxide  total sulfur dioxide  density    pH  sulphates  \\\n",
       "0                 11.0                  34.0   0.9978  3.51       0.56   \n",
       "1                 25.0                  67.0   0.9968  3.20       0.68   \n",
       "2                 15.0                  54.0   0.9970  3.26       0.65   \n",
       "3                 17.0                  60.0   0.9980  3.16       0.58   \n",
       "4                 11.0                  34.0   0.9978  3.51       0.56   \n",
       "\n",
       "   alcohol  quality  \n",
       "0      9.4        5  \n",
       "1      9.8        5  \n",
       "2      9.8        5  \n",
       "3      9.8        6  \n",
       "4      9.4        5  "
      ]
     },
     "execution_count": 2,
     "metadata": {},
     "output_type": "execute_result"
    }
   ],
   "source": [
    "df = pd.read_csv(\"data/winequality-red.csv\")\n",
    "df.head()"
   ]
  },
  {
   "cell_type": "code",
   "execution_count": 1,
   "id": "d4367552",
   "metadata": {},
   "outputs": [
    {
     "ename": "NameError",
     "evalue": "name 'df' is not defined",
     "output_type": "error",
     "traceback": [
      "\u001b[0;31m---------------------------------------------------------------------------\u001b[0m",
      "\u001b[0;31mNameError\u001b[0m                                 Traceback (most recent call last)",
      "Cell \u001b[0;32mIn [1], line 2\u001b[0m\n\u001b[1;32m      1\u001b[0m \u001b[39m#converting to vector\u001b[39;00m\n\u001b[0;32m----> 2\u001b[0m l\u001b[39m=\u001b[39mdf\u001b[39m.\u001b[39mto_numpy()\n\u001b[1;32m      3\u001b[0m np\u001b[39m.\u001b[39msave(\u001b[39m\"\u001b[39m\u001b[39mvector_data\u001b[39m\u001b[39m\"\u001b[39m,l)\n",
      "\u001b[0;31mNameError\u001b[0m: name 'df' is not defined"
     ]
    }
   ],
   "source": [
    "#converting to vector\n",
    "l=df.to_numpy()\n",
    "np.save(\"vector_data\",l);"
   ]
  },
  {
   "cell_type": "code",
   "execution_count": null,
   "id": "db55d726",
   "metadata": {},
   "outputs": [],
   "source": [
    "from indx import *\n",
    "from query import *"
   ]
  },
  {
   "cell_type": "code",
   "execution_count": null,
   "id": "10a6351f",
   "metadata": {},
   "outputs": [],
   "source": [
    "#creating FAISS index\n",
    "index(\"/vector_data.npy\",\"IVF16384,PQ96\")"
   ]
  },
  {
   "cell_type": "code",
   "execution_count": null,
   "id": "3ac5c569",
   "metadata": {},
   "outputs": [],
   "source": []
  },
  {
   "cell_type": "code",
   "execution_count": 5,
   "id": "cdcc7247",
   "metadata": {},
   "outputs": [
    {
     "data": {
      "text/plain": [
       "<AxesSubplot:xlabel='quality', ylabel='count'>"
      ]
     },
     "execution_count": 5,
     "metadata": {},
     "output_type": "execute_result"
    },
    {
     "data": {
      "image/png": "[encoded data removed]",
      "text/plain": [
       "<Figure size 432x288 with 1 Axes>"
      ]
     },
     "metadata": {
      "needs_background": "light"
     },
     "output_type": "display_data"
    }
   ],
   "source": [
    "sns.countplot(x = 'quality', data=df)"
   ]
  },
  {
   "cell_type": "code",
   "execution_count": 4,
   "id": "58d75743",
   "metadata": {},
   "outputs": [],
   "source": [
    "class2idx = {\n",
    "    3:0,\n",
    "    4:1,\n",
    "    5:2,\n",
    "    6:3,\n",
    "    7:4,\n",
    "    8:5\n",
    "}\n",
    "\n",
    "idx2class = {v: k for k, v in class2idx.items()}\n",
    "\n",
    "df['quality'].replace(class2idx, inplace=True)"
   ]
  },
  {
   "cell_type": "code",
   "execution_count": null,
   "id": "fa426cb0",
   "metadata": {},
   "outputs": [],
   "source": [
    "## Create Hash tables for different classes start with one table, choose k\n"
   ]
  },
  {
   "cell_type": "code",
   "execution_count": 6,
   "id": "b523ccaa",
   "metadata": {},
   "outputs": [],
   "source": [
    "X = df.iloc[:, 0:-1]\n",
    "y = df.iloc[:, -1]"
   ]
  },
  {
   "cell_type": "code",
   "execution_count": 7,
   "id": "a83d1de1",
   "metadata": {},
   "outputs": [],
   "source": [
    "# Split into train+val and test\n",
    "X_trainval, X_test, y_trainval, y_test = train_test_split(X, y, test_size=0.2, stratify=y, random_state=69)\n",
    "\n",
    "# Split train into train-val\n",
    "X_train, X_val, y_train, y_val = train_test_split(X_trainval, y_trainval, test_size=0.1, stratify=y_trainval, random_state=21)"
   ]
  },
  {
   "cell_type": "code",
   "execution_count": 8,
   "id": "b43ca849",
   "metadata": {},
   "outputs": [],
   "source": [
    "scaler = MinMaxScaler()\n",
    "X_train = scaler.fit_transform(X_train)\n",
    "X_val = scaler.transform(X_val)\n",
    "X_test = scaler.transform(X_test)\n",
    "X_train, y_train = np.array(X_train), np.array(y_train)\n",
    "X_val, y_val = np.array(X_val), np.array(y_val)\n",
    "X_test, y_test = np.array(X_test), np.array(y_test)"
   ]
  },
  {
   "cell_type": "code",
   "execution_count": 9,
   "id": "ffd4c62e",
   "metadata": {},
   "outputs": [],
   "source": [
    "def get_class_distribution(obj):\n",
    "    count_dict = {\n",
    "        \"rating_3\": 0,\n",
    "        \"rating_4\": 0,\n",
    "        \"rating_5\": 0,\n",
    "        \"rating_6\": 0,\n",
    "        \"rating_7\": 0,\n",
    "        \"rating_8\": 0,\n",
    "    }\n",
    "    \n",
    "    for i in obj:\n",
    "        if i == 0: \n",
    "            count_dict['rating_3'] += 1\n",
    "        elif i == 1: \n",
    "            count_dict['rating_4'] += 1\n",
    "        elif i == 2: \n",
    "            count_dict['rating_5'] += 1\n",
    "        elif i == 3: \n",
    "            count_dict['rating_6'] += 1\n",
    "        elif i == 4: \n",
    "            count_dict['rating_7'] += 1  \n",
    "        elif i == 5: \n",
    "            count_dict['rating_8'] += 1              \n",
    "        else:\n",
    "            print(\"Check classes.\")\n",
    "            \n",
    "    return count_dict"
   ]
  },
  {
   "cell_type": "code",
   "execution_count": 10,
   "id": "cf03d99d",
   "metadata": {},
   "outputs": [
    {
     "data": {
      "text/plain": [
       "Text(0.5, 1.0, 'Class Distribution in Test Set')"
      ]
     },
     "execution_count": 10,
     "metadata": {},
     "output_type": "execute_result"
    },
    {
     "data": {
      "image/png": "[encoded data removed]",
      "text/plain": [
       "<Figure size 1800x504 with 3 Axes>"
      ]
     },
     "metadata": {
      "needs_background": "light"
     },
     "output_type": "display_data"
    }
   ],
   "source": [
    "fig, axes = plt.subplots(nrows=1, ncols=3, figsize=(25,7))\n",
    "# Train\n",
    "sns.barplot(data = pd.DataFrame.from_dict([get_class_distribution(y_train)]).melt(), x = \"variable\", y=\"value\", hue=\"variable\",  ax=axes[0]).set_title('Class Distribution in Train Set')\n",
    "# Validation\n",
    "sns.barplot(data = pd.DataFrame.from_dict([get_class_distribution(y_val)]).melt(), x = \"variable\", y=\"value\", hue=\"variable\",  ax=axes[1]).set_title('Class Distribution in Val Set')\n",
    "# Test\n",
    "sns.barplot(data = pd.DataFrame.from_dict([get_class_distribution(y_test)]).melt(), x = \"variable\", y=\"value\", hue=\"variable\",  ax=axes[2]).set_title('Class Distribution in Test Set')"
   ]
  },
  {
   "cell_type": "code",
   "execution_count": 11,
   "id": "b6b2dea1",
   "metadata": {},
   "outputs": [],
   "source": [
    "class ClassifierDataset(Dataset):\n",
    "    \n",
    "    def __init__(self, X_data, y_data):\n",
    "        self.X_data = X_data\n",
    "        self.y_data = y_data\n",
    "        \n",
    "    def __getitem__(self, index):\n",
    "        return self.X_data[index], self.y_data[index]\n",
    "        \n",
    "    def __len__ (self):\n",
    "        return len(self.X_data)\n",
    "\n",
    "\n",
    "train_dataset = ClassifierDataset(torch.from_numpy(X_train).float(), torch.from_numpy(y_train).long())\n",
    "val_dataset = ClassifierDataset(torch.from_numpy(X_val).float(), torch.from_numpy(y_val).long())\n",
    "test_dataset = ClassifierDataset(torch.from_numpy(X_test).float(), torch.from_numpy(y_test).long())"
   ]
  },
  {
   "cell_type": "code",
   "execution_count": 12,
   "id": "afd44212",
   "metadata": {},
   "outputs": [],
   "source": [
    "target_list = []\n",
    "for _, t in train_dataset:\n",
    "    target_list.append(t)\n",
    "    \n",
    "target_list = torch.tensor(target_list)"
   ]
  },
  {
   "cell_type": "code",
   "execution_count": 13,
   "id": "768c743e",
   "metadata": {},
   "outputs": [
    {
     "name": "stdout",
     "output_type": "stream",
     "text": [
      "tensor([0.1429, 0.0263, 0.0020, 0.0022, 0.0070, 0.0714])\n"
     ]
    }
   ],
   "source": [
    "class_count = [i for i in get_class_distribution(y_train).values()]\n",
    "class_weights = 1./torch.tensor(class_count, dtype=torch.float) \n",
    "print(class_weights)"
   ]
  },
  {
   "cell_type": "code",
   "execution_count": 14,
   "id": "1bc9efc9",
   "metadata": {},
   "outputs": [],
   "source": [
    "class_weights_all = class_weights[target_list]"
   ]
  },
  {
   "cell_type": "code",
   "execution_count": null,
   "id": "66e16909",
   "metadata": {},
   "outputs": [],
   "source": [
    "## insert weighted sampler with your own sampler"
   ]
  },
  {
   "cell_type": "code",
   "execution_count": 15,
   "id": "7cff76c3",
   "metadata": {},
   "outputs": [],
   "source": [
    "weighted_sampler = WeightedRandomSampler(\n",
    "    weights=class_weights_all,\n",
    "    num_samples=len(class_weights_all),\n",
    "    replacement=True\n",
    ")"
   ]
  },
  {
   "cell_type": "code",
   "execution_count": 16,
   "id": "fa8a3cda",
   "metadata": {},
   "outputs": [],
   "source": [
    "EPOCHS = 300\n",
    "BATCH_SIZE = 16\n",
    "LEARNING_RATE = 0.0007\n",
    "NUM_FEATURES = len(X.columns)\n",
    "NUM_CLASSES = 6"
   ]
  },
  {
   "cell_type": "code",
   "execution_count": 17,
   "id": "2c6824cc",
   "metadata": {},
   "outputs": [],
   "source": [
    "train_loader = DataLoader(dataset=train_dataset,\n",
    "                          batch_size=BATCH_SIZE,\n",
    "                          sampler=weighted_sampler)\n",
    "val_loader = DataLoader(dataset=val_dataset, batch_size=1)\n",
    "test_loader = DataLoader(dataset=test_dataset, batch_size=1)"
   ]
  },
  {
   "cell_type": "code",
   "execution_count": 18,
   "id": "e5221ef0",
   "metadata": {},
   "outputs": [],
   "source": [
    "class MulticlassClassification(nn.Module):\n",
    "    def __init__(self, num_feature, num_class):\n",
    "        super(MulticlassClassification, self).__init__()\n",
    "        \n",
    "        self.layer_1 = nn.Linear(num_feature, 512)\n",
    "        self.layer_2 = nn.Linear(512, 128)\n",
    "        self.layer_3 = nn.Linear(128, 64)\n",
    "        self.layer_out = nn.Linear(64, num_class) \n",
    "        \n",
    "        self.relu = nn.ReLU()\n",
    "        self.dropout = nn.Dropout(p=0.2)\n",
    "        self.batchnorm1 = nn.BatchNorm1d(512)\n",
    "        self.batchnorm2 = nn.BatchNorm1d(128)\n",
    "        self.batchnorm3 = nn.BatchNorm1d(64)\n",
    "        \n",
    "    def forward(self, x):\n",
    "        x = self.layer_1(x)\n",
    "        x = self.batchnorm1(x)\n",
    "        x = self.relu(x)\n",
    "        \n",
    "        x = self.layer_2(x)\n",
    "        x = self.batchnorm2(x)\n",
    "        x = self.relu(x)\n",
    "        x = self.dropout(x)\n",
    "        \n",
    "        x = self.layer_3(x)\n",
    "        x = self.batchnorm3(x)\n",
    "        x = self.relu(x)\n",
    "        x = self.dropout(x)\n",
    "        \n",
    "        x = self.layer_out(x)\n",
    "        \n",
    "        return x"
   ]
  },
  {
   "cell_type": "code",
   "execution_count": 19,
   "id": "2f3b545d",
   "metadata": {},
   "outputs": [
    {
     "name": "stdout",
     "output_type": "stream",
     "text": [
      "cuda:0\n"
     ]
    }
   ],
   "source": [
    "device = torch.device(\"cuda:0\" if torch.cuda.is_available() else \"cpu\")\n",
    "print(device)"
   ]
  },
  {
   "cell_type": "code",
   "execution_count": 20,
   "id": "d43a900e",
   "metadata": {},
   "outputs": [
    {
     "name": "stdout",
     "output_type": "stream",
     "text": [
      "MulticlassClassification(\n",
      "  (layer_1): Linear(in_features=11, out_features=512, bias=True)\n",
      "  (layer_2): Linear(in_features=512, out_features=128, bias=True)\n",
      "  (layer_3): Linear(in_features=128, out_features=64, bias=True)\n",
      "  (layer_out): Linear(in_features=64, out_features=6, bias=True)\n",
      "  (relu): ReLU()\n",
      "  (dropout): Dropout(p=0.2, inplace=False)\n",
      "  (batchnorm1): BatchNorm1d(512, eps=1e-05, momentum=0.1, affine=True, track_running_stats=True)\n",
      "  (batchnorm2): BatchNorm1d(128, eps=1e-05, momentum=0.1, affine=True, track_running_stats=True)\n",
      "  (batchnorm3): BatchNorm1d(64, eps=1e-05, momentum=0.1, affine=True, track_running_stats=True)\n",
      ")\n"
     ]
    }
   ],
   "source": [
    "model = MulticlassClassification(num_feature = NUM_FEATURES, num_class=NUM_CLASSES)\n",
    "model.to(device)\n",
    "\n",
    "criterion = nn.CrossEntropyLoss(weight=class_weights.to(device))\n",
    "optimizer = optim.Adam(model.parameters(), lr=LEARNING_RATE)\n",
    "print(model)"
   ]
  },
  {
   "cell_type": "code",
   "execution_count": 21,
   "id": "7921c369",
   "metadata": {},
   "outputs": [],
   "source": [
    "def multi_acc(y_pred, y_test):\n",
    "    y_pred_softmax = torch.log_softmax(y_pred, dim = 1)\n",
    "    _, y_pred_tags = torch.max(y_pred_softmax, dim = 1)    \n",
    "    \n",
    "    correct_pred = (y_pred_tags == y_test).float()\n",
    "    acc = correct_pred.sum() / len(correct_pred)\n",
    "    \n",
    "    acc = torch.round(acc * 100)\n",
    "    \n",
    "    return acc"
   ]
  },
  {
   "cell_type": "code",
   "execution_count": 22,
   "id": "d8e8026d",
   "metadata": {},
   "outputs": [],
   "source": [
    "accuracy_stats = {\n",
    "    'train': [],\n",
    "    \"val\": []\n",
    "}\n",
    "loss_stats = {\n",
    "    'train': [],\n",
    "    \"val\": []\n",
    "}"
   ]
  },
  {
   "cell_type": "code",
   "execution_count": 23,
   "id": "f21622a1",
   "metadata": {},
   "outputs": [
    {
     "name": "stdout",
     "output_type": "stream",
     "text": [
      "Begin training.\n"
     ]
    },
    {
     "data": {
      "application/vnd.jupyter.widget-view+json": {
       "model_id": "8517d0ce4dac4c8fb393eab4bbf4ba78",
       "version_major": 2,
       "version_minor": 0
      },
      "text/plain": [
       "  0%|          | 0/300 [00:00<?, ?it/s]"
      ]
     },
     "metadata": {},
     "output_type": "display_data"
    },
    {
     "name": "stdout",
     "output_type": "stream",
     "text": [
      "Epoch 001: | Train Loss: 0.71681 | Val Loss: 2.27326 | Train Acc: 38.472| Val Acc: 4.688\n",
      "Epoch 002: | Train Loss: 0.42076 | Val Loss: 2.42841 | Train Acc: 43.139| Val Acc: 3.125\n",
      "Epoch 003: | Train Loss: 0.35892 | Val Loss: 2.62007 | Train Acc: 45.028| Val Acc: 3.906\n",
      "Epoch 004: | Train Loss: 0.33990 | Val Loss: 2.70207 | Train Acc: 46.153| Val Acc: 3.906\n",
      "Epoch 005: | Train Loss: 0.27674 | Val Loss: 2.60593 | Train Acc: 48.014| Val Acc: 3.906\n",
      "Epoch 006: | Train Loss: 0.29390 | Val Loss: 2.55091 | Train Acc: 49.458| Val Acc: 4.688\n",
      "Epoch 007: | Train Loss: 0.24432 | Val Loss: 2.60573 | Train Acc: 50.625| Val Acc: 5.469\n",
      "Epoch 008: | Train Loss: 0.26620 | Val Loss: 2.67030 | Train Acc: 50.208| Val Acc: 6.250\n",
      "Epoch 009: | Train Loss: 0.21897 | Val Loss: 2.51459 | Train Acc: 52.431| Val Acc: 7.031\n",
      "Epoch 010: | Train Loss: 0.24444 | Val Loss: 2.39586 | Train Acc: 52.847| Val Acc: 7.031\n",
      "Epoch 011: | Train Loss: 0.21280 | Val Loss: 2.41460 | Train Acc: 53.278| Val Acc: 7.812\n",
      "Epoch 012: | Train Loss: 0.19537 | Val Loss: 2.21706 | Train Acc: 56.639| Val Acc: 8.594\n",
      "Epoch 013: | Train Loss: 0.24610 | Val Loss: 2.39369 | Train Acc: 54.569| Val Acc: 7.812\n",
      "Epoch 014: | Train Loss: 0.24498 | Val Loss: 2.34468 | Train Acc: 55.764| Val Acc: 8.594\n",
      "Epoch 015: | Train Loss: 0.23393 | Val Loss: 2.24977 | Train Acc: 55.917| Val Acc: 8.594\n",
      "Epoch 016: | Train Loss: 0.20023 | Val Loss: 2.16817 | Train Acc: 56.722| Val Acc: 10.938\n",
      "Epoch 017: | Train Loss: 0.16987 | Val Loss: 2.09265 | Train Acc: 58.208| Val Acc: 9.375\n",
      "Epoch 018: | Train Loss: 0.21090 | Val Loss: 2.00825 | Train Acc: 55.042| Val Acc: 13.281\n",
      "Epoch 019: | Train Loss: 0.18891 | Val Loss: 2.15243 | Train Acc: 59.917| Val Acc: 8.594\n",
      "Epoch 020: | Train Loss: 0.16745 | Val Loss: 2.08945 | Train Acc: 58.986| Val Acc: 11.719\n",
      "Epoch 021: | Train Loss: 0.19692 | Val Loss: 2.17076 | Train Acc: 58.056| Val Acc: 12.500\n",
      "Epoch 022: | Train Loss: 0.14830 | Val Loss: 2.08298 | Train Acc: 61.264| Val Acc: 13.281\n",
      "Epoch 023: | Train Loss: 0.16057 | Val Loss: 2.10226 | Train Acc: 60.972| Val Acc: 14.062\n",
      "Epoch 024: | Train Loss: 0.15901 | Val Loss: 1.88408 | Train Acc: 61.222| Val Acc: 14.844\n",
      "Epoch 025: | Train Loss: 0.14100 | Val Loss: 2.08700 | Train Acc: 60.931| Val Acc: 13.281\n",
      "Epoch 026: | Train Loss: 0.14070 | Val Loss: 1.80669 | Train Acc: 62.736| Val Acc: 17.188\n",
      "Epoch 027: | Train Loss: 0.13643 | Val Loss: 1.95712 | Train Acc: 64.167| Val Acc: 14.062\n",
      "Epoch 028: | Train Loss: 0.13765 | Val Loss: 1.93248 | Train Acc: 62.042| Val Acc: 16.406\n",
      "Epoch 029: | Train Loss: 0.15326 | Val Loss: 2.03545 | Train Acc: 64.500| Val Acc: 18.750\n",
      "Epoch 030: | Train Loss: 0.17311 | Val Loss: 1.98673 | Train Acc: 61.972| Val Acc: 17.969\n",
      "Epoch 031: | Train Loss: 0.13716 | Val Loss: 2.10489 | Train Acc: 63.194| Val Acc: 16.406\n",
      "Epoch 032: | Train Loss: 0.14937 | Val Loss: 1.89646 | Train Acc: 64.292| Val Acc: 21.875\n",
      "Epoch 033: | Train Loss: 0.13399 | Val Loss: 1.92248 | Train Acc: 64.611| Val Acc: 19.531\n",
      "Epoch 034: | Train Loss: 0.15656 | Val Loss: 1.89453 | Train Acc: 63.889| Val Acc: 23.438\n",
      "Epoch 035: | Train Loss: 0.14368 | Val Loss: 1.95195 | Train Acc: 64.125| Val Acc: 16.406\n",
      "Epoch 036: | Train Loss: 0.12250 | Val Loss: 1.88031 | Train Acc: 65.417| Val Acc: 19.531\n",
      "Epoch 037: | Train Loss: 0.11856 | Val Loss: 1.80760 | Train Acc: 65.764| Val Acc: 26.562\n",
      "Epoch 038: | Train Loss: 0.13212 | Val Loss: 1.74924 | Train Acc: 66.347| Val Acc: 22.656\n",
      "Epoch 039: | Train Loss: 0.17155 | Val Loss: 1.82204 | Train Acc: 66.347| Val Acc: 27.344\n",
      "Epoch 040: | Train Loss: 0.12390 | Val Loss: 1.96561 | Train Acc: 64.778| Val Acc: 20.312\n",
      "Epoch 041: | Train Loss: 0.12295 | Val Loss: 1.75121 | Train Acc: 68.819| Val Acc: 28.125\n",
      "Epoch 042: | Train Loss: 0.13011 | Val Loss: 1.81496 | Train Acc: 65.917| Val Acc: 27.344\n",
      "Epoch 043: | Train Loss: 0.12016 | Val Loss: 1.71426 | Train Acc: 65.708| Val Acc: 31.250\n",
      "Epoch 044: | Train Loss: 0.11806 | Val Loss: 1.97615 | Train Acc: 67.347| Val Acc: 26.562\n",
      "Epoch 045: | Train Loss: 0.17144 | Val Loss: 1.94794 | Train Acc: 66.097| Val Acc: 24.219\n",
      "Epoch 046: | Train Loss: 0.11028 | Val Loss: 1.82793 | Train Acc: 66.222| Val Acc: 29.688\n",
      "Epoch 047: | Train Loss: 0.12313 | Val Loss: 1.74097 | Train Acc: 66.639| Val Acc: 29.688\n",
      "Epoch 048: | Train Loss: 0.12701 | Val Loss: 1.62945 | Train Acc: 67.153| Val Acc: 30.469\n",
      "Epoch 049: | Train Loss: 0.10939 | Val Loss: 1.90794 | Train Acc: 68.667| Val Acc: 25.000\n",
      "Epoch 050: | Train Loss: 0.12441 | Val Loss: 1.60100 | Train Acc: 66.528| Val Acc: 32.031\n",
      "Epoch 051: | Train Loss: 0.14209 | Val Loss: 1.74225 | Train Acc: 67.653| Val Acc: 28.906\n",
      "Epoch 052: | Train Loss: 0.10500 | Val Loss: 1.78419 | Train Acc: 69.694| Val Acc: 25.781\n",
      "Epoch 053: | Train Loss: 0.12664 | Val Loss: 1.71028 | Train Acc: 70.389| Val Acc: 29.688\n",
      "Epoch 054: | Train Loss: 0.11707 | Val Loss: 1.83082 | Train Acc: 68.319| Val Acc: 25.000\n",
      "Epoch 055: | Train Loss: 0.12829 | Val Loss: 1.71691 | Train Acc: 67.972| Val Acc: 32.031\n",
      "Epoch 056: | Train Loss: 0.09067 | Val Loss: 1.57625 | Train Acc: 68.861| Val Acc: 33.594\n",
      "Epoch 057: | Train Loss: 0.11119 | Val Loss: 1.77043 | Train Acc: 70.472| Val Acc: 25.000\n",
      "Epoch 058: | Train Loss: 0.10649 | Val Loss: 1.68061 | Train Acc: 67.486| Val Acc: 28.125\n",
      "Epoch 059: | Train Loss: 0.10183 | Val Loss: 1.64903 | Train Acc: 67.042| Val Acc: 31.250\n",
      "Epoch 060: | Train Loss: 0.13561 | Val Loss: 1.66954 | Train Acc: 68.556| Val Acc: 28.125\n",
      "Epoch 061: | Train Loss: 0.09910 | Val Loss: 1.69978 | Train Acc: 71.056| Val Acc: 33.594\n",
      "Epoch 062: | Train Loss: 0.10956 | Val Loss: 1.66311 | Train Acc: 69.125| Val Acc: 35.938\n",
      "Epoch 063: | Train Loss: 0.12238 | Val Loss: 1.76811 | Train Acc: 67.556| Val Acc: 25.781\n",
      "Epoch 064: | Train Loss: 0.08325 | Val Loss: 1.61378 | Train Acc: 70.333| Val Acc: 35.156\n",
      "Epoch 065: | Train Loss: 0.11029 | Val Loss: 1.62286 | Train Acc: 70.792| Val Acc: 32.031\n",
      "Epoch 066: | Train Loss: 0.11027 | Val Loss: 1.55560 | Train Acc: 68.222| Val Acc: 36.719\n",
      "Epoch 067: | Train Loss: 0.08217 | Val Loss: 1.80881 | Train Acc: 71.236| Val Acc: 25.781\n",
      "Epoch 068: | Train Loss: 0.11019 | Val Loss: 1.58160 | Train Acc: 67.597| Val Acc: 34.375\n",
      "Epoch 069: | Train Loss: 0.09055 | Val Loss: 1.58797 | Train Acc: 71.708| Val Acc: 31.250\n",
      "Epoch 070: | Train Loss: 0.09351 | Val Loss: 1.67877 | Train Acc: 68.958| Val Acc: 31.250\n",
      "Epoch 071: | Train Loss: 0.11662 | Val Loss: 1.71544 | Train Acc: 66.736| Val Acc: 25.000\n",
      "Epoch 072: | Train Loss: 0.10657 | Val Loss: 1.61686 | Train Acc: 68.319| Val Acc: 28.906\n",
      "Epoch 073: | Train Loss: 0.08338 | Val Loss: 1.60026 | Train Acc: 73.000| Val Acc: 30.469\n",
      "Epoch 074: | Train Loss: 0.08890 | Val Loss: 1.66828 | Train Acc: 72.319| Val Acc: 30.469\n",
      "Epoch 075: | Train Loss: 0.08382 | Val Loss: 1.58729 | Train Acc: 73.458| Val Acc: 35.938\n",
      "Epoch 076: | Train Loss: 0.08751 | Val Loss: 1.59874 | Train Acc: 70.694| Val Acc: 32.031\n",
      "Epoch 077: | Train Loss: 0.10350 | Val Loss: 1.66105 | Train Acc: 68.347| Val Acc: 32.812\n",
      "Epoch 078: | Train Loss: 0.10428 | Val Loss: 1.76979 | Train Acc: 69.403| Val Acc: 24.219\n",
      "Epoch 079: | Train Loss: 0.08812 | Val Loss: 1.62571 | Train Acc: 70.250| Val Acc: 32.031\n",
      "Epoch 080: | Train Loss: 0.07442 | Val Loss: 1.59782 | Train Acc: 72.931| Val Acc: 35.938\n",
      "Epoch 081: | Train Loss: 0.07209 | Val Loss: 1.66644 | Train Acc: 72.583| Val Acc: 29.688\n",
      "Epoch 082: | Train Loss: 0.10671 | Val Loss: 1.66924 | Train Acc: 68.639| Val Acc: 35.156\n",
      "Epoch 083: | Train Loss: 0.12936 | Val Loss: 1.80213 | Train Acc: 68.472| Val Acc: 27.344\n",
      "Epoch 084: | Train Loss: 0.09449 | Val Loss: 1.60917 | Train Acc: 69.347| Val Acc: 29.688\n",
      "Epoch 085: | Train Loss: 0.09232 | Val Loss: 1.57534 | Train Acc: 70.333| Val Acc: 33.594\n",
      "Epoch 086: | Train Loss: 0.12514 | Val Loss: 1.72480 | Train Acc: 67.500| Val Acc: 32.031\n",
      "Epoch 087: | Train Loss: 0.09233 | Val Loss: 1.62833 | Train Acc: 69.306| Val Acc: 32.031\n",
      "Epoch 088: | Train Loss: 0.08863 | Val Loss: 1.62706 | Train Acc: 70.389| Val Acc: 28.125\n",
      "Epoch 089: | Train Loss: 0.10479 | Val Loss: 1.50946 | Train Acc: 71.569| Val Acc: 34.375\n",
      "Epoch 090: | Train Loss: 0.07843 | Val Loss: 1.73014 | Train Acc: 71.667| Val Acc: 33.594\n",
      "Epoch 091: | Train Loss: 0.13430 | Val Loss: 1.55372 | Train Acc: 72.472| Val Acc: 35.938\n",
      "Epoch 092: | Train Loss: 0.10664 | Val Loss: 1.51295 | Train Acc: 70.444| Val Acc: 36.719\n"
     ]
    },
    {
     "name": "stdout",
     "output_type": "stream",
     "text": [
      "Epoch 093: | Train Loss: 0.08050 | Val Loss: 1.53737 | Train Acc: 70.583| Val Acc: 38.281\n",
      "Epoch 094: | Train Loss: 0.09608 | Val Loss: 1.67409 | Train Acc: 70.972| Val Acc: 30.469\n",
      "Epoch 095: | Train Loss: 0.07359 | Val Loss: 1.62686 | Train Acc: 71.986| Val Acc: 32.812\n",
      "Epoch 096: | Train Loss: 0.09217 | Val Loss: 1.75001 | Train Acc: 72.694| Val Acc: 29.688\n",
      "Epoch 097: | Train Loss: 0.08408 | Val Loss: 1.54952 | Train Acc: 74.042| Val Acc: 35.938\n",
      "Epoch 098: | Train Loss: 0.09533 | Val Loss: 1.73346 | Train Acc: 72.431| Val Acc: 31.250\n",
      "Epoch 099: | Train Loss: 0.07427 | Val Loss: 1.58855 | Train Acc: 72.292| Val Acc: 37.500\n",
      "Epoch 100: | Train Loss: 0.07653 | Val Loss: 1.53840 | Train Acc: 72.014| Val Acc: 34.375\n",
      "Epoch 101: | Train Loss: 0.08628 | Val Loss: 1.59892 | Train Acc: 71.833| Val Acc: 36.719\n",
      "Epoch 102: | Train Loss: 0.11254 | Val Loss: 1.55892 | Train Acc: 73.125| Val Acc: 37.500\n",
      "Epoch 103: | Train Loss: 0.07326 | Val Loss: 1.57386 | Train Acc: 73.847| Val Acc: 41.406\n",
      "Epoch 104: | Train Loss: 0.12012 | Val Loss: 1.50945 | Train Acc: 70.139| Val Acc: 35.156\n",
      "Epoch 105: | Train Loss: 0.08568 | Val Loss: 1.58721 | Train Acc: 72.292| Val Acc: 40.625\n",
      "Epoch 106: | Train Loss: 0.07642 | Val Loss: 1.67325 | Train Acc: 74.181| Val Acc: 34.375\n",
      "Epoch 107: | Train Loss: 0.08545 | Val Loss: 1.64221 | Train Acc: 74.333| Val Acc: 36.719\n",
      "Epoch 108: | Train Loss: 0.09716 | Val Loss: 1.57205 | Train Acc: 72.431| Val Acc: 35.938\n",
      "Epoch 109: | Train Loss: 0.07719 | Val Loss: 1.51407 | Train Acc: 72.083| Val Acc: 40.625\n",
      "Epoch 110: | Train Loss: 0.08441 | Val Loss: 1.51788 | Train Acc: 73.667| Val Acc: 38.281\n",
      "Epoch 111: | Train Loss: 0.08852 | Val Loss: 1.44752 | Train Acc: 73.333| Val Acc: 42.188\n",
      "Epoch 112: | Train Loss: 0.06774 | Val Loss: 1.47990 | Train Acc: 73.653| Val Acc: 41.406\n",
      "Epoch 113: | Train Loss: 0.07230 | Val Loss: 1.47889 | Train Acc: 76.250| Val Acc: 41.406\n",
      "Epoch 114: | Train Loss: 0.10867 | Val Loss: 1.49052 | Train Acc: 72.514| Val Acc: 40.625\n",
      "Epoch 115: | Train Loss: 0.09020 | Val Loss: 1.58748 | Train Acc: 74.083| Val Acc: 38.281\n",
      "Epoch 116: | Train Loss: 0.11466 | Val Loss: 1.63528 | Train Acc: 71.528| Val Acc: 35.938\n",
      "Epoch 117: | Train Loss: 0.09531 | Val Loss: 1.52184 | Train Acc: 73.583| Val Acc: 38.281\n",
      "Epoch 118: | Train Loss: 0.11003 | Val Loss: 1.57072 | Train Acc: 68.833| Val Acc: 32.031\n",
      "Epoch 119: | Train Loss: 0.09574 | Val Loss: 1.48894 | Train Acc: 72.361| Val Acc: 37.500\n",
      "Epoch 120: | Train Loss: 0.08051 | Val Loss: 1.48787 | Train Acc: 74.264| Val Acc: 38.281\n",
      "Epoch 121: | Train Loss: 0.06778 | Val Loss: 1.49709 | Train Acc: 75.111| Val Acc: 35.156\n",
      "Epoch 122: | Train Loss: 0.08674 | Val Loss: 1.56735 | Train Acc: 71.194| Val Acc: 32.812\n",
      "Epoch 123: | Train Loss: 0.09579 | Val Loss: 1.43913 | Train Acc: 72.528| Val Acc: 38.281\n",
      "Epoch 124: | Train Loss: 0.11072 | Val Loss: 1.37179 | Train Acc: 68.611| Val Acc: 39.844\n",
      "Epoch 125: | Train Loss: 0.07775 | Val Loss: 1.42822 | Train Acc: 75.069| Val Acc: 36.719\n",
      "Epoch 126: | Train Loss: 0.08673 | Val Loss: 1.54260 | Train Acc: 74.472| Val Acc: 33.594\n",
      "Epoch 127: | Train Loss: 0.06915 | Val Loss: 1.45443 | Train Acc: 75.764| Val Acc: 41.406\n",
      "Epoch 128: | Train Loss: 0.08422 | Val Loss: 1.45689 | Train Acc: 75.292| Val Acc: 45.312\n",
      "Epoch 129: | Train Loss: 0.08627 | Val Loss: 1.45053 | Train Acc: 72.069| Val Acc: 44.531\n",
      "Epoch 130: | Train Loss: 0.09637 | Val Loss: 1.55557 | Train Acc: 73.583| Val Acc: 42.969\n",
      "Epoch 131: | Train Loss: 0.09139 | Val Loss: 1.51143 | Train Acc: 72.764| Val Acc: 38.281\n",
      "Epoch 132: | Train Loss: 0.07189 | Val Loss: 1.63667 | Train Acc: 74.306| Val Acc: 32.812\n",
      "Epoch 133: | Train Loss: 0.07906 | Val Loss: 1.44952 | Train Acc: 73.208| Val Acc: 44.531\n",
      "Epoch 134: | Train Loss: 0.06356 | Val Loss: 1.49803 | Train Acc: 74.375| Val Acc: 35.938\n",
      "Epoch 135: | Train Loss: 0.08712 | Val Loss: 1.67886 | Train Acc: 71.819| Val Acc: 33.594\n",
      "Epoch 136: | Train Loss: 0.09081 | Val Loss: 1.57246 | Train Acc: 74.181| Val Acc: 40.625\n",
      "Epoch 137: | Train Loss: 0.09330 | Val Loss: 1.45301 | Train Acc: 71.403| Val Acc: 40.625\n",
      "Epoch 138: | Train Loss: 0.08223 | Val Loss: 1.57427 | Train Acc: 73.806| Val Acc: 35.938\n",
      "Epoch 139: | Train Loss: 0.07393 | Val Loss: 1.58822 | Train Acc: 74.389| Val Acc: 38.281\n",
      "Epoch 140: | Train Loss: 0.08772 | Val Loss: 1.72194 | Train Acc: 73.333| Val Acc: 33.594\n",
      "Epoch 141: | Train Loss: 0.05859 | Val Loss: 1.52515 | Train Acc: 76.569| Val Acc: 39.062\n",
      "Epoch 142: | Train Loss: 0.08652 | Val Loss: 1.53463 | Train Acc: 73.361| Val Acc: 39.062\n",
      "Epoch 143: | Train Loss: 0.09249 | Val Loss: 1.50865 | Train Acc: 72.972| Val Acc: 36.719\n",
      "Epoch 144: | Train Loss: 0.08746 | Val Loss: 1.69112 | Train Acc: 72.347| Val Acc: 36.719\n",
      "Epoch 145: | Train Loss: 0.06495 | Val Loss: 1.63969 | Train Acc: 75.708| Val Acc: 35.156\n",
      "Epoch 146: | Train Loss: 0.10237 | Val Loss: 1.53681 | Train Acc: 70.903| Val Acc: 36.719\n",
      "Epoch 147: | Train Loss: 0.09206 | Val Loss: 1.44452 | Train Acc: 72.347| Val Acc: 39.062\n",
      "Epoch 148: | Train Loss: 0.07144 | Val Loss: 1.51673 | Train Acc: 74.792| Val Acc: 41.406\n",
      "Epoch 149: | Train Loss: 0.06828 | Val Loss: 1.58959 | Train Acc: 73.389| Val Acc: 41.406\n",
      "Epoch 150: | Train Loss: 0.08506 | Val Loss: 1.48464 | Train Acc: 74.764| Val Acc: 39.062\n",
      "Epoch 151: | Train Loss: 0.06816 | Val Loss: 1.47192 | Train Acc: 74.681| Val Acc: 37.500\n",
      "Epoch 152: | Train Loss: 0.07851 | Val Loss: 1.45641 | Train Acc: 74.931| Val Acc: 37.500\n",
      "Epoch 153: | Train Loss: 0.05796 | Val Loss: 1.52604 | Train Acc: 75.514| Val Acc: 39.062\n",
      "Epoch 154: | Train Loss: 0.07319 | Val Loss: 1.53169 | Train Acc: 74.917| Val Acc: 36.719\n",
      "Epoch 155: | Train Loss: 0.06167 | Val Loss: 1.48209 | Train Acc: 76.903| Val Acc: 36.719\n",
      "Epoch 156: | Train Loss: 0.08450 | Val Loss: 1.53647 | Train Acc: 74.694| Val Acc: 33.594\n",
      "Epoch 157: | Train Loss: 0.07086 | Val Loss: 1.87224 | Train Acc: 76.403| Val Acc: 33.594\n",
      "Epoch 158: | Train Loss: 0.07915 | Val Loss: 1.59622 | Train Acc: 70.931| Val Acc: 31.250\n",
      "Epoch 159: | Train Loss: 0.13215 | Val Loss: 1.49245 | Train Acc: 72.833| Val Acc: 36.719\n",
      "Epoch 160: | Train Loss: 0.07575 | Val Loss: 1.56198 | Train Acc: 76.875| Val Acc: 32.812\n",
      "Epoch 161: | Train Loss: 0.07608 | Val Loss: 1.52597 | Train Acc: 70.889| Val Acc: 33.594\n",
      "Epoch 162: | Train Loss: 0.08094 | Val Loss: 1.57609 | Train Acc: 73.097| Val Acc: 31.250\n",
      "Epoch 163: | Train Loss: 0.07225 | Val Loss: 1.46296 | Train Acc: 74.472| Val Acc: 35.938\n",
      "Epoch 164: | Train Loss: 0.06807 | Val Loss: 1.52600 | Train Acc: 75.736| Val Acc: 34.375\n",
      "Epoch 165: | Train Loss: 0.06383 | Val Loss: 1.54098 | Train Acc: 75.153| Val Acc: 42.188\n",
      "Epoch 166: | Train Loss: 0.06387 | Val Loss: 1.55186 | Train Acc: 75.028| Val Acc: 35.156\n",
      "Epoch 167: | Train Loss: 0.06535 | Val Loss: 1.58054 | Train Acc: 76.278| Val Acc: 34.375\n",
      "Epoch 168: | Train Loss: 0.09080 | Val Loss: 1.65618 | Train Acc: 74.917| Val Acc: 37.500\n",
      "Epoch 169: | Train Loss: 0.06776 | Val Loss: 1.55927 | Train Acc: 75.347| Val Acc: 38.281\n",
      "Epoch 170: | Train Loss: 0.06793 | Val Loss: 1.69049 | Train Acc: 74.222| Val Acc: 37.500\n",
      "Epoch 171: | Train Loss: 0.07608 | Val Loss: 1.58800 | Train Acc: 74.708| Val Acc: 39.062\n",
      "Epoch 172: | Train Loss: 0.08447 | Val Loss: 1.49731 | Train Acc: 75.319| Val Acc: 39.844\n",
      "Epoch 173: | Train Loss: 0.07000 | Val Loss: 1.56954 | Train Acc: 73.319| Val Acc: 35.156\n",
      "Epoch 174: | Train Loss: 0.06932 | Val Loss: 1.51124 | Train Acc: 75.764| Val Acc: 35.938\n",
      "Epoch 175: | Train Loss: 0.06014 | Val Loss: 1.42760 | Train Acc: 75.750| Val Acc: 38.281\n",
      "Epoch 176: | Train Loss: 0.05641 | Val Loss: 1.45034 | Train Acc: 76.236| Val Acc: 39.844\n",
      "Epoch 177: | Train Loss: 0.08149 | Val Loss: 1.49707 | Train Acc: 75.278| Val Acc: 40.625\n",
      "Epoch 178: | Train Loss: 0.06812 | Val Loss: 1.48735 | Train Acc: 76.208| Val Acc: 38.281\n",
      "Epoch 179: | Train Loss: 0.07441 | Val Loss: 1.62128 | Train Acc: 72.736| Val Acc: 32.031\n",
      "Epoch 180: | Train Loss: 0.06417 | Val Loss: 1.65597 | Train Acc: 75.972| Val Acc: 35.156\n",
      "Epoch 181: | Train Loss: 0.07143 | Val Loss: 1.63970 | Train Acc: 76.347| Val Acc: 40.625\n",
      "Epoch 182: | Train Loss: 0.08066 | Val Loss: 1.60231 | Train Acc: 74.514| Val Acc: 36.719\n",
      "Epoch 183: | Train Loss: 0.08710 | Val Loss: 1.50074 | Train Acc: 73.222| Val Acc: 40.625\n",
      "Epoch 184: | Train Loss: 0.06437 | Val Loss: 1.49029 | Train Acc: 75.528| Val Acc: 38.281\n"
     ]
    },
    {
     "name": "stdout",
     "output_type": "stream",
     "text": [
      "Epoch 185: | Train Loss: 0.05294 | Val Loss: 1.45065 | Train Acc: 75.278| Val Acc: 39.844\n",
      "Epoch 186: | Train Loss: 0.06315 | Val Loss: 1.53183 | Train Acc: 75.417| Val Acc: 36.719\n",
      "Epoch 187: | Train Loss: 0.05979 | Val Loss: 1.39849 | Train Acc: 74.944| Val Acc: 42.188\n",
      "Epoch 188: | Train Loss: 0.06819 | Val Loss: 1.81824 | Train Acc: 76.181| Val Acc: 32.812\n",
      "Epoch 189: | Train Loss: 0.08946 | Val Loss: 1.55718 | Train Acc: 75.111| Val Acc: 39.844\n",
      "Epoch 190: | Train Loss: 0.07074 | Val Loss: 1.47859 | Train Acc: 76.403| Val Acc: 38.281\n",
      "Epoch 191: | Train Loss: 0.08495 | Val Loss: 1.62753 | Train Acc: 75.111| Val Acc: 32.812\n",
      "Epoch 192: | Train Loss: 0.07671 | Val Loss: 1.56690 | Train Acc: 75.264| Val Acc: 32.031\n",
      "Epoch 193: | Train Loss: 0.07102 | Val Loss: 1.53697 | Train Acc: 75.875| Val Acc: 30.469\n",
      "Epoch 194: | Train Loss: 0.06617 | Val Loss: 1.55127 | Train Acc: 74.708| Val Acc: 37.500\n",
      "Epoch 195: | Train Loss: 0.09041 | Val Loss: 1.47457 | Train Acc: 75.972| Val Acc: 44.531\n",
      "Epoch 196: | Train Loss: 0.09654 | Val Loss: 1.51109 | Train Acc: 74.375| Val Acc: 35.156\n",
      "Epoch 197: | Train Loss: 0.07598 | Val Loss: 1.72459 | Train Acc: 74.597| Val Acc: 35.156\n",
      "Epoch 198: | Train Loss: 0.09585 | Val Loss: 1.54077 | Train Acc: 76.319| Val Acc: 33.594\n",
      "Epoch 199: | Train Loss: 0.07240 | Val Loss: 1.59491 | Train Acc: 74.847| Val Acc: 32.812\n",
      "Epoch 200: | Train Loss: 0.10700 | Val Loss: 1.47885 | Train Acc: 73.972| Val Acc: 38.281\n",
      "Epoch 201: | Train Loss: 0.06845 | Val Loss: 1.44897 | Train Acc: 76.028| Val Acc: 39.844\n",
      "Epoch 202: | Train Loss: 0.06404 | Val Loss: 1.38136 | Train Acc: 75.333| Val Acc: 42.188\n",
      "Epoch 203: | Train Loss: 0.05839 | Val Loss: 1.42762 | Train Acc: 78.792| Val Acc: 42.188\n",
      "Epoch 204: | Train Loss: 0.06186 | Val Loss: 1.38671 | Train Acc: 74.778| Val Acc: 41.406\n",
      "Epoch 205: | Train Loss: 0.10835 | Val Loss: 1.56858 | Train Acc: 76.528| Val Acc: 38.281\n",
      "Epoch 206: | Train Loss: 0.08827 | Val Loss: 1.49568 | Train Acc: 73.361| Val Acc: 45.312\n",
      "Epoch 207: | Train Loss: 0.07935 | Val Loss: 1.47962 | Train Acc: 73.083| Val Acc: 40.625\n",
      "Epoch 208: | Train Loss: 0.06828 | Val Loss: 1.50324 | Train Acc: 76.111| Val Acc: 40.625\n",
      "Epoch 209: | Train Loss: 0.05808 | Val Loss: 1.51285 | Train Acc: 75.208| Val Acc: 40.625\n",
      "Epoch 210: | Train Loss: 0.04816 | Val Loss: 1.42385 | Train Acc: 79.431| Val Acc: 42.969\n",
      "Epoch 211: | Train Loss: 0.07466 | Val Loss: 1.45944 | Train Acc: 75.431| Val Acc: 43.750\n",
      "Epoch 212: | Train Loss: 0.07039 | Val Loss: 1.42692 | Train Acc: 74.431| Val Acc: 42.969\n",
      "Epoch 213: | Train Loss: 0.06584 | Val Loss: 1.49799 | Train Acc: 75.139| Val Acc: 38.281\n",
      "Epoch 214: | Train Loss: 0.06411 | Val Loss: 1.52323 | Train Acc: 75.556| Val Acc: 35.156\n",
      "Epoch 215: | Train Loss: 0.08710 | Val Loss: 1.61876 | Train Acc: 73.125| Val Acc: 35.156\n",
      "Epoch 216: | Train Loss: 0.07820 | Val Loss: 1.47697 | Train Acc: 73.306| Val Acc: 39.844\n",
      "Epoch 217: | Train Loss: 0.06497 | Val Loss: 1.46474 | Train Acc: 78.014| Val Acc: 39.844\n",
      "Epoch 218: | Train Loss: 0.06013 | Val Loss: 1.47279 | Train Acc: 75.917| Val Acc: 40.625\n",
      "Epoch 219: | Train Loss: 0.05462 | Val Loss: 1.50962 | Train Acc: 77.222| Val Acc: 35.938\n",
      "Epoch 220: | Train Loss: 0.06495 | Val Loss: 1.46203 | Train Acc: 74.069| Val Acc: 42.188\n",
      "Epoch 221: | Train Loss: 0.04605 | Val Loss: 1.49629 | Train Acc: 78.917| Val Acc: 41.406\n",
      "Epoch 222: | Train Loss: 0.05664 | Val Loss: 1.53315 | Train Acc: 79.028| Val Acc: 38.281\n",
      "Epoch 223: | Train Loss: 0.04963 | Val Loss: 1.46489 | Train Acc: 78.514| Val Acc: 40.625\n",
      "Epoch 224: | Train Loss: 0.06055 | Val Loss: 1.53147 | Train Acc: 75.861| Val Acc: 38.281\n",
      "Epoch 225: | Train Loss: 0.06112 | Val Loss: 1.52273 | Train Acc: 76.750| Val Acc: 41.406\n",
      "Epoch 226: | Train Loss: 0.06222 | Val Loss: 1.43167 | Train Acc: 76.639| Val Acc: 38.281\n",
      "Epoch 227: | Train Loss: 0.06377 | Val Loss: 1.51491 | Train Acc: 75.500| Val Acc: 41.406\n",
      "Epoch 228: | Train Loss: 0.10757 | Val Loss: 1.42576 | Train Acc: 77.458| Val Acc: 39.844\n",
      "Epoch 229: | Train Loss: 0.07494 | Val Loss: 1.46149 | Train Acc: 76.028| Val Acc: 42.188\n",
      "Epoch 230: | Train Loss: 0.05380 | Val Loss: 1.51972 | Train Acc: 78.944| Val Acc: 39.844\n",
      "Epoch 231: | Train Loss: 0.06082 | Val Loss: 1.48442 | Train Acc: 77.125| Val Acc: 39.062\n",
      "Epoch 232: | Train Loss: 0.06680 | Val Loss: 1.43075 | Train Acc: 77.167| Val Acc: 35.938\n",
      "Epoch 233: | Train Loss: 0.08005 | Val Loss: 1.70937 | Train Acc: 77.500| Val Acc: 34.375\n",
      "Epoch 234: | Train Loss: 0.08218 | Val Loss: 1.63733 | Train Acc: 75.736| Val Acc: 35.938\n",
      "Epoch 235: | Train Loss: 0.07304 | Val Loss: 1.56710 | Train Acc: 76.972| Val Acc: 39.844\n",
      "Epoch 236: | Train Loss: 0.05992 | Val Loss: 1.52152 | Train Acc: 76.556| Val Acc: 37.500\n",
      "Epoch 237: | Train Loss: 0.06294 | Val Loss: 1.46244 | Train Acc: 77.417| Val Acc: 38.281\n",
      "Epoch 238: | Train Loss: 0.07487 | Val Loss: 1.42450 | Train Acc: 78.292| Val Acc: 42.188\n",
      "Epoch 239: | Train Loss: 0.05789 | Val Loss: 1.46602 | Train Acc: 78.292| Val Acc: 40.625\n",
      "Epoch 240: | Train Loss: 0.06305 | Val Loss: 1.46803 | Train Acc: 76.750| Val Acc: 41.406\n",
      "Epoch 241: | Train Loss: 0.05176 | Val Loss: 1.57876 | Train Acc: 78.500| Val Acc: 39.844\n",
      "Epoch 242: | Train Loss: 0.08211 | Val Loss: 1.66702 | Train Acc: 76.167| Val Acc: 37.500\n",
      "Epoch 243: | Train Loss: 0.06346 | Val Loss: 1.60354 | Train Acc: 76.000| Val Acc: 38.281\n",
      "Epoch 244: | Train Loss: 0.06785 | Val Loss: 1.49624 | Train Acc: 76.847| Val Acc: 42.188\n",
      "Epoch 245: | Train Loss: 0.06484 | Val Loss: 1.50371 | Train Acc: 76.611| Val Acc: 35.938\n",
      "Epoch 246: | Train Loss: 0.08611 | Val Loss: 1.54744 | Train Acc: 74.708| Val Acc: 38.281\n",
      "Epoch 247: | Train Loss: 0.05900 | Val Loss: 1.47578 | Train Acc: 75.583| Val Acc: 42.188\n",
      "Epoch 248: | Train Loss: 0.04936 | Val Loss: 1.39025 | Train Acc: 78.472| Val Acc: 45.312\n",
      "Epoch 249: | Train Loss: 0.05632 | Val Loss: 1.48266 | Train Acc: 76.500| Val Acc: 42.188\n",
      "Epoch 250: | Train Loss: 0.06117 | Val Loss: 1.37824 | Train Acc: 75.778| Val Acc: 46.875\n",
      "Epoch 251: | Train Loss: 0.06105 | Val Loss: 1.37376 | Train Acc: 78.264| Val Acc: 45.312\n",
      "Epoch 252: | Train Loss: 0.06038 | Val Loss: 1.42263 | Train Acc: 76.028| Val Acc: 44.531\n",
      "Epoch 253: | Train Loss: 0.05376 | Val Loss: 1.49185 | Train Acc: 79.111| Val Acc: 42.969\n",
      "Epoch 254: | Train Loss: 0.06202 | Val Loss: 1.41681 | Train Acc: 77.181| Val Acc: 41.406\n",
      "Epoch 255: | Train Loss: 0.05509 | Val Loss: 1.49950 | Train Acc: 76.750| Val Acc: 42.969\n",
      "Epoch 256: | Train Loss: 0.05682 | Val Loss: 1.49159 | Train Acc: 75.569| Val Acc: 42.188\n",
      "Epoch 257: | Train Loss: 0.06827 | Val Loss: 1.53342 | Train Acc: 77.986| Val Acc: 42.969\n",
      "Epoch 258: | Train Loss: 0.05209 | Val Loss: 1.46733 | Train Acc: 78.639| Val Acc: 46.094\n",
      "Epoch 259: | Train Loss: 0.05047 | Val Loss: 1.42827 | Train Acc: 79.153| Val Acc: 48.438\n",
      "Epoch 260: | Train Loss: 0.05804 | Val Loss: 1.46846 | Train Acc: 79.014| Val Acc: 43.750\n",
      "Epoch 261: | Train Loss: 0.05273 | Val Loss: 1.49330 | Train Acc: 77.597| Val Acc: 43.750\n",
      "Epoch 262: | Train Loss: 0.05123 | Val Loss: 1.44845 | Train Acc: 78.444| Val Acc: 46.875\n",
      "Epoch 263: | Train Loss: 0.04756 | Val Loss: 1.47774 | Train Acc: 80.389| Val Acc: 46.094\n",
      "Epoch 264: | Train Loss: 0.08500 | Val Loss: 1.49248 | Train Acc: 77.500| Val Acc: 39.844\n",
      "Epoch 265: | Train Loss: 0.07562 | Val Loss: 1.54157 | Train Acc: 76.583| Val Acc: 37.500\n",
      "Epoch 266: | Train Loss: 0.07804 | Val Loss: 1.57603 | Train Acc: 78.042| Val Acc: 39.062\n",
      "Epoch 267: | Train Loss: 0.07921 | Val Loss: 1.71089 | Train Acc: 78.514| Val Acc: 38.281\n",
      "Epoch 268: | Train Loss: 0.06865 | Val Loss: 1.70819 | Train Acc: 78.306| Val Acc: 37.500\n",
      "Epoch 269: | Train Loss: 0.09725 | Val Loss: 1.56921 | Train Acc: 77.986| Val Acc: 42.188\n",
      "Epoch 270: | Train Loss: 0.07039 | Val Loss: 1.51224 | Train Acc: 76.486| Val Acc: 41.406\n",
      "Epoch 271: | Train Loss: 0.05434 | Val Loss: 1.47609 | Train Acc: 78.139| Val Acc: 42.969\n",
      "Epoch 272: | Train Loss: 0.05323 | Val Loss: 1.51689 | Train Acc: 76.556| Val Acc: 42.969\n",
      "Epoch 273: | Train Loss: 0.05076 | Val Loss: 1.59209 | Train Acc: 78.153| Val Acc: 39.844\n",
      "Epoch 274: | Train Loss: 0.10526 | Val Loss: 1.49612 | Train Acc: 76.847| Val Acc: 41.406\n",
      "Epoch 275: | Train Loss: 0.07307 | Val Loss: 1.50098 | Train Acc: 76.792| Val Acc: 44.531\n",
      "Epoch 276: | Train Loss: 0.06134 | Val Loss: 1.52627 | Train Acc: 75.861| Val Acc: 38.281\n"
     ]
    },
    {
     "name": "stdout",
     "output_type": "stream",
     "text": [
      "Epoch 277: | Train Loss: 0.04917 | Val Loss: 1.57376 | Train Acc: 79.153| Val Acc: 39.844\n",
      "Epoch 278: | Train Loss: 0.05634 | Val Loss: 1.49094 | Train Acc: 76.611| Val Acc: 40.625\n",
      "Epoch 279: | Train Loss: 0.06179 | Val Loss: 1.49447 | Train Acc: 78.264| Val Acc: 42.969\n",
      "Epoch 280: | Train Loss: 0.05717 | Val Loss: 1.46634 | Train Acc: 78.694| Val Acc: 40.625\n",
      "Epoch 281: | Train Loss: 0.06079 | Val Loss: 1.58084 | Train Acc: 76.444| Val Acc: 38.281\n",
      "Epoch 282: | Train Loss: 0.06627 | Val Loss: 1.60779 | Train Acc: 76.319| Val Acc: 38.281\n",
      "Epoch 283: | Train Loss: 0.04951 | Val Loss: 1.40479 | Train Acc: 78.194| Val Acc: 46.875\n",
      "Epoch 284: | Train Loss: 0.06178 | Val Loss: 1.46439 | Train Acc: 79.153| Val Acc: 42.969\n",
      "Epoch 285: | Train Loss: 0.06982 | Val Loss: 1.59886 | Train Acc: 76.889| Val Acc: 36.719\n",
      "Epoch 286: | Train Loss: 0.06343 | Val Loss: 1.66824 | Train Acc: 76.556| Val Acc: 39.844\n",
      "Epoch 287: | Train Loss: 0.05466 | Val Loss: 1.49878 | Train Acc: 76.139| Val Acc: 45.312\n",
      "Epoch 288: | Train Loss: 0.04952 | Val Loss: 1.47005 | Train Acc: 78.639| Val Acc: 43.750\n",
      "Epoch 289: | Train Loss: 0.07357 | Val Loss: 1.43769 | Train Acc: 76.292| Val Acc: 49.219\n",
      "Epoch 290: | Train Loss: 0.05256 | Val Loss: 1.48193 | Train Acc: 79.403| Val Acc: 42.969\n",
      "Epoch 291: | Train Loss: 0.06981 | Val Loss: 1.54190 | Train Acc: 75.625| Val Acc: 42.969\n",
      "Epoch 292: | Train Loss: 0.06651 | Val Loss: 1.52770 | Train Acc: 77.569| Val Acc: 42.969\n",
      "Epoch 293: | Train Loss: 0.06361 | Val Loss: 1.50020 | Train Acc: 78.583| Val Acc: 42.969\n",
      "Epoch 294: | Train Loss: 0.06221 | Val Loss: 1.49211 | Train Acc: 78.000| Val Acc: 39.844\n",
      "Epoch 295: | Train Loss: 0.05420 | Val Loss: 1.47795 | Train Acc: 77.389| Val Acc: 44.531\n",
      "Epoch 296: | Train Loss: 0.05390 | Val Loss: 1.43749 | Train Acc: 77.542| Val Acc: 46.094\n",
      "Epoch 297: | Train Loss: 0.04552 | Val Loss: 1.51868 | Train Acc: 79.667| Val Acc: 43.750\n",
      "Epoch 298: | Train Loss: 0.05514 | Val Loss: 1.50681 | Train Acc: 78.069| Val Acc: 40.625\n",
      "Epoch 299: | Train Loss: 0.07102 | Val Loss: 1.41203 | Train Acc: 77.917| Val Acc: 40.625\n",
      "Epoch 300: | Train Loss: 0.05452 | Val Loss: 1.60254 | Train Acc: 79.194| Val Acc: 39.844\n"
     ]
    }
   ],
   "source": [
    "print(\"Begin training.\")\n",
    "for e in tqdm(range(1, EPOCHS+1)):\n",
    "    \n",
    "    # TRAINING\n",
    "    train_epoch_loss = 0\n",
    "    train_epoch_acc = 0\n",
    "    model.train()\n",
    "    for X_train_batch, y_train_batch in train_loader:\n",
    "        X_train_batch, y_train_batch = X_train_batch.to(device), y_train_batch.to(device)\n",
    "        optimizer.zero_grad()\n",
    "        \n",
    "        y_train_pred = model(X_train_batch)\n",
    "        \n",
    "        train_loss = criterion(y_train_pred, y_train_batch)\n",
    "        train_acc = multi_acc(y_train_pred, y_train_batch)\n",
    "        \n",
    "        train_loss.backward()\n",
    "        optimizer.step()\n",
    "        \n",
    "        train_epoch_loss += train_loss.item()\n",
    "        train_epoch_acc += train_acc.item()\n",
    "        \n",
    "        \n",
    "    # VALIDATION    \n",
    "    with torch.no_grad():\n",
    "        \n",
    "        val_epoch_loss = 0\n",
    "        val_epoch_acc = 0\n",
    "        \n",
    "        model.eval()\n",
    "        for X_val_batch, y_val_batch in val_loader:\n",
    "            X_val_batch, y_val_batch = X_val_batch.to(device), y_val_batch.to(device)\n",
    "            \n",
    "            y_val_pred = model(X_val_batch)\n",
    "                        \n",
    "            val_loss = criterion(y_val_pred, y_val_batch)\n",
    "            val_acc = multi_acc(y_val_pred, y_val_batch)\n",
    "            \n",
    "            val_epoch_loss += val_loss.item()\n",
    "            val_epoch_acc += val_acc.item()\n",
    "    loss_stats['train'].append(train_epoch_loss/len(train_loader))\n",
    "    loss_stats['val'].append(val_epoch_loss/len(val_loader))\n",
    "    accuracy_stats['train'].append(train_epoch_acc/len(train_loader))\n",
    "    accuracy_stats['val'].append(val_epoch_acc/len(val_loader))\n",
    "                              \n",
    "    \n",
    "    print(f'Epoch {e+0:03}: | Train Loss: {train_epoch_loss/len(train_loader):.5f} | Val Loss: {val_epoch_loss/len(val_loader):.5f} | Train Acc: {train_epoch_acc/len(train_loader):.3f}| Val Acc: {val_epoch_acc/len(val_loader):.3f}')\n"
   ]
  },
  {
   "cell_type": "code",
   "execution_count": 24,
   "id": "61455bea",
   "metadata": {},
   "outputs": [
    {
     "data": {
      "text/plain": [
       "Text(0.5, 1.0, 'Train-Val Loss/Epoch')"
      ]
     },
     "execution_count": 24,
     "metadata": {},
     "output_type": "execute_result"
    },
    {
     "data": {
      "image/png": "[encoded data removed]",
      "text/plain": [
       "<Figure size 1440x504 with 2 Axes>"
      ]
     },
     "metadata": {
      "needs_background": "light"
     },
     "output_type": "display_data"
    }
   ],
   "source": [
    "# Create dataframes\n",
    "train_val_acc_df = pd.DataFrame.from_dict(accuracy_stats).reset_index().melt(id_vars=['index']).rename(columns={\"index\":\"epochs\"})\n",
    "train_val_loss_df = pd.DataFrame.from_dict(loss_stats).reset_index().melt(id_vars=['index']).rename(columns={\"index\":\"epochs\"})\n",
    "# Plot the dataframes\n",
    "fig, axes = plt.subplots(nrows=1, ncols=2, figsize=(20,7))\n",
    "sns.lineplot(data=train_val_acc_df, x = \"epochs\", y=\"value\", hue=\"variable\",  ax=axes[0]).set_title('Train-Val Accuracy/Epoch')\n",
    "sns.lineplot(data=train_val_loss_df, x = \"epochs\", y=\"value\", hue=\"variable\", ax=axes[1]).set_title('Train-Val Loss/Epoch')"
   ]
  },
  {
   "cell_type": "code",
   "execution_count": 25,
   "id": "9b605ea3",
   "metadata": {},
   "outputs": [],
   "source": [
    "y_pred_list = []\n",
    "with torch.no_grad():\n",
    "    model.eval()\n",
    "    for X_batch, _ in test_loader:\n",
    "        X_batch = X_batch.to(device)\n",
    "        y_test_pred = model(X_batch)\n",
    "        _, y_pred_tags = torch.max(y_test_pred, dim = 1)\n",
    "        y_pred_list.append(y_pred_tags.cpu().numpy())\n",
    "y_pred_list = [a.squeeze().tolist() for a in y_pred_list]"
   ]
  },
  {
   "cell_type": "code",
   "execution_count": 26,
   "id": "e27adb9b",
   "metadata": {},
   "outputs": [
    {
     "data": {
      "text/plain": [
       "<AxesSubplot:>"
      ]
     },
     "execution_count": 26,
     "metadata": {},
     "output_type": "execute_result"
    },
    {
     "data": {
      "image/png": "[encoded data removed]",
      "text/plain": [
       "<Figure size 432x288 with 2 Axes>"
      ]
     },
     "metadata": {
      "needs_background": "light"
     },
     "output_type": "display_data"
    }
   ],
   "source": [
    "confusion_matrix_df = pd.DataFrame(confusion_matrix(y_test, y_pred_list)).rename(columns=idx2class, index=idx2class)\n",
    "\n",
    "sns.heatmap(confusion_matrix_df, annot=True)"
   ]
  },
  {
   "cell_type": "code",
   "execution_count": 27,
   "id": "c711664d",
   "metadata": {},
   "outputs": [
    {
     "name": "stdout",
     "output_type": "stream",
     "text": [
      "              precision    recall  f1-score   support\n",
      "\n",
      "           0       0.00      0.00      0.00         2\n",
      "           1       0.10      0.36      0.15        11\n",
      "           2       0.73      0.43      0.54       136\n",
      "           3       0.39      0.10      0.16       128\n",
      "           4       0.25      0.88      0.39        40\n",
      "           5       0.00      0.00      0.00         3\n",
      "\n",
      "    accuracy                           0.35       320\n",
      "   macro avg       0.24      0.30      0.21       320\n",
      "weighted avg       0.50      0.35      0.35       320\n",
      "\n"
     ]
    }
   ],
   "source": [
    "print(classification_report(y_test, y_pred_list))"
   ]
  },
  {
   "cell_type": "code",
   "execution_count": null,
   "id": "c7b41138",
   "metadata": {},
   "outputs": [],
   "source": []
  }
 ],
 "metadata": {
  "kernelspec": {
   "display_name": "Python 3.9.13",
   "language": "python",
   "name": "python3"
  },
  "language_info": {
   "codemirror_mode": {
    "name": "ipython",
    "version": 3
   },
   "file_extension": ".py",
   "mimetype": "text/x-python",
   "name": "python",
   "nbconvert_exporter": "python",
   "pygments_lexer": "ipython3",
   "version": "3.9.13"
  },
  "vscode": {
   "interpreter": {
    "hash": "4bd624a0593993fe43ac4046b27b898fb2ef75c21c08f81e89e64ea0f51df676"
   }
  }
 },
 "nbformat": 4,
 "nbformat_minor": 5
}
