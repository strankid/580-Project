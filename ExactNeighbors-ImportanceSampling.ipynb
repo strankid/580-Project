{
 "cells": [
  {
   "cell_type": "markdown",
   "id": "e7da5dbd",
   "metadata": {},
   "source": [
    "### Tasks\n",
    "#### Replace Exact neighbors with LSH\n",
    "#### Try multiple datasets\n",
    "#### Create a script\n",
    "#### add degub data points and make sure everything is correct (norm calculation) - possibly wrong\n",
    "#### weird loss function could also lead to weird gradients\n",
    "#### understand norm behavior"
   ]
  },
  {
   "cell_type": "code",
   "execution_count": 1,
   "id": "40d5323f",
   "metadata": {
    "id": "40d5323f"
   },
   "outputs": [],
   "source": [
    "import numpy as np\n",
    "import pandas as pd\n",
    "import seaborn as sns\n",
    "from tqdm.notebook import tqdm\n",
    "import matplotlib.pyplot as plt\n",
    "import random\n",
    "import time\n",
    "import copy\n",
    "import os\n",
    "\n",
    "#replace with pytorch lightning\n",
    "import torch\n",
    "import torch.nn as nn\n",
    "import torch.optim as optim\n",
    "import wandb\n",
    "from torch.utils.data import Dataset, DataLoader, WeightedRandomSampler\n",
    "\n",
    "from sklearn.preprocessing import MinMaxScaler    \n",
    "from sklearn.model_selection import train_test_split\n",
    "from sklearn.metrics import confusion_matrix, classification_report\n",
    "from sklearn.utils import shuffle"
   ]
  },
  {
   "cell_type": "code",
   "execution_count": 2,
   "id": "7c8b4fa6",
   "metadata": {},
   "outputs": [],
   "source": [
    "torch.backends.cudnn.deterministic = True\n",
    "random.seed(123)\n",
    "torch.manual_seed(123)\n",
    "torch.cuda.manual_seed(123)\n",
    "np.random.seed(123)"
   ]
  },
  {
   "cell_type": "code",
   "execution_count": 3,
   "id": "568f1b75",
   "metadata": {
    "colab": {
     "base_uri": "https://localhost:8080/"
    },
    "id": "568f1b75",
    "outputId": "a4f50e7d-579d-436e-b750-9598b94801b9"
   },
   "outputs": [
    {
     "name": "stdout",
     "output_type": "stream",
     "text": [
      "cuda:5\n"
     ]
    }
   ],
   "source": [
    "os.environ['CUDA_LAUNCH_BLOCKING'] = \"1\"\n",
    "device = torch.device(\"cuda:5\" if torch.cuda.is_available() else \"cpu\")\n",
    "print(device)"
   ]
  },
  {
   "cell_type": "code",
   "execution_count": 4,
   "id": "492d34a9",
   "metadata": {
    "colab": {
     "base_uri": "https://localhost:8080/",
     "height": 297
    },
    "id": "492d34a9",
    "outputId": "5631b9ee-169d-4e11-ea07-ba9125ac5b6a"
   },
   "outputs": [],
   "source": [
    "dataset = 0 \n",
    "if dataset == 0:\n",
    "    df=pd.read_csv(\"HIGGS.csv\",header=None, nrows=600000)\n",
    "    df.head()\n",
    "elif dataset == 1:\n",
    "    df=pd.read_csv(\"SUSY.csv\",header=None, nrows=600000)\n",
    "    df.head()"
   ]
  },
  {
   "cell_type": "code",
   "execution_count": 5,
   "id": "c0da379c",
   "metadata": {},
   "outputs": [
    {
     "name": "stdout",
     "output_type": "stream",
     "text": [
      "17400000\n"
     ]
    }
   ],
   "source": [
    "print(df.size)"
   ]
  },
  {
   "cell_type": "code",
   "execution_count": 6,
   "id": "cdcc7247",
   "metadata": {
    "colab": {
     "base_uri": "https://localhost:8080/",
     "height": 307
    },
    "id": "cdcc7247",
    "outputId": "d2d3e8e0-e685-4869-c858-07e42e528ac0"
   },
   "outputs": [
    {
     "data": {
      "text/plain": [
       "<AxesSubplot: xlabel='0', ylabel='count'>"
      ]
     },
     "execution_count": 6,
     "metadata": {},
     "output_type": "execute_result"
    },
    {
     "data": {
      "image/png": "[encoded data removed]",
      "text/plain": [
       "<Figure size 640x480 with 1 Axes>"
      ]
     },
     "metadata": {},
     "output_type": "display_data"
    }
   ],
   "source": [
    "sns.countplot(x = 0, data=df)"
   ]
  },
  {
   "cell_type": "code",
   "execution_count": 7,
   "id": "b523ccaa",
   "metadata": {
    "id": "b523ccaa"
   },
   "outputs": [],
   "source": [
    "X = df.iloc[:, 1:]  \n",
    "y = df.iloc[:, 0]"
   ]
  },
  {
   "cell_type": "code",
   "execution_count": 8,
   "id": "a7c3fe72",
   "metadata": {
    "id": "fa8a3cda"
   },
   "outputs": [],
   "source": [
    "EPOCHS = 50\n",
    "BATCH_SIZE = 1024\n",
    "LEARNING_RATE = 0.0001\n",
    "NUM_FEATURES = len(X.columns)\n",
    "NUM_CLASSES = 2\n",
    "RANDOM_SIZE = [10, 20, 30, 40, 50, 0]"
   ]
  },
  {
   "cell_type": "code",
   "execution_count": 9,
   "id": "a611b4cc",
   "metadata": {},
   "outputs": [],
   "source": [
    "sweep_config = {\n",
    "    'method': 'grid'\n",
    "    }\n",
    "\n",
    "parameters_dict = {\n",
    "    \"LEARNING_RATE\": {\n",
    "        'value': LEARNING_RATE\n",
    "        },\n",
    "    \"NUM_FEATURES\": {\n",
    "        'value': NUM_FEATURES\n",
    "        },\n",
    "    \"NUM_CLASSES\": {\n",
    "        'value': NUM_CLASSES\n",
    "        },\n",
    "    \"EPOCHS\": {\n",
    "        'value': EPOCHS\n",
    "        },\n",
    "    \"RANDOM_SIZE\":{\n",
    "        'values':RANDOM_SIZE\n",
    "        }\n",
    "    }\n",
    "# \n",
    "sweep_config['parameters'] = parameters_dict"
   ]
  },
  {
   "cell_type": "code",
   "execution_count": 10,
   "id": "6d6b4e44",
   "metadata": {},
   "outputs": [
    {
     "name": "stdout",
     "output_type": "stream",
     "text": [
      "Create sweep with ID: x36ms5g3\n",
      "Sweep URL: https://wandb.ai/rice-and-shine/ExactNeighbors-ImportanceSampling/sweeps/x36ms5g3\n"
     ]
    }
   ],
   "source": [
    "sweep_id = wandb.sweep(sweep_config, project=\"ExactNeighbors-ImportanceSampling\")"
   ]
  },
  {
   "cell_type": "code",
   "execution_count": 11,
   "id": "a83d1de1",
   "metadata": {
    "id": "a83d1de1"
   },
   "outputs": [],
   "source": [
    "# Split into train+val and test\n",
    "X_trainval, X_test, y_trainval, y_test = train_test_split(X, y, test_size=0.2, stratify=y, random_state=69)\n",
    "\n",
    "# Split train into train-val\n",
    "X_train, X_val, y_train, y_val = train_test_split(X_trainval, y_trainval, test_size=0.1, stratify=y_trainval, random_state=21)"
   ]
  },
  {
   "cell_type": "code",
   "execution_count": 12,
   "id": "b43ca849",
   "metadata": {
    "id": "b43ca849"
   },
   "outputs": [],
   "source": [
    "scaler = MinMaxScaler()\n",
    "X_train = scaler.fit_transform(X_train)\n",
    "X_val = scaler.transform(X_val)\n",
    "X_test = scaler.transform(X_test)\n",
    "X_train, y_train = np.array(X_train), np.array(y_train)\n",
    "X_val, y_val = np.array(X_val), np.array(y_val)\n",
    "X_test, y_test = np.array(X_test), np.array(y_test)"
   ]
  },
  {
   "cell_type": "code",
   "execution_count": 13,
   "id": "ffd4c62e",
   "metadata": {
    "id": "ffd4c62e"
   },
   "outputs": [],
   "source": [
    "def get_class_distribution(obj):\n",
    "    count_dict = {\n",
    "        \"class_0\": 0,\n",
    "        \"class_1\": 0,\n",
    "    }\n",
    "    \n",
    "    for i in obj:\n",
    "        if i == 0: \n",
    "            count_dict['class_0'] += 1\n",
    "        elif i == 1: \n",
    "            count_dict['class_1'] += 1           \n",
    "        else:\n",
    "            print(\"Check classes.\")\n",
    "            \n",
    "    return count_dict"
   ]
  },
  {
   "cell_type": "code",
   "execution_count": 14,
   "id": "cf03d99d",
   "metadata": {
    "colab": {
     "base_uri": "https://localhost:8080/",
     "height": 365
    },
    "id": "cf03d99d",
    "outputId": "0bf23b71-21b4-42bd-8dc2-4e34dea641e4"
   },
   "outputs": [
    {
     "data": {
      "text/plain": [
       "Text(0.5, 1.0, 'Class Distribution in Test Set')"
      ]
     },
     "execution_count": 14,
     "metadata": {},
     "output_type": "execute_result"
    },
    {
     "data": {
      "image/png": "[encoded data removed]",
      "text/plain": [
       "<Figure size 2500x700 with 3 Axes>"
      ]
     },
     "metadata": {},
     "output_type": "display_data"
    }
   ],
   "source": [
    "fig, axes = plt.subplots(nrows=1, ncols=3, figsize=(25,7))\n",
    "# Train\n",
    "sns.barplot(data = pd.DataFrame.from_dict([get_class_distribution(y_train)]).melt(), x = \"variable\", y=\"value\", hue=\"variable\",  ax=axes[0]).set_title('Class Distribution in Train Set')\n",
    "# Validation\n",
    "sns.barplot(data = pd.DataFrame.from_dict([get_class_distribution(y_val)]).melt(), x = \"variable\", y=\"value\", hue=\"variable\",  ax=axes[1]).set_title('Class Distribution in Val Set')\n",
    "# Test\n",
    "sns.barplot(data = pd.DataFrame.from_dict([get_class_distribution(y_test)]).melt(), x = \"variable\", y=\"value\", hue=\"variable\",  ax=axes[2]).set_title('Class Distribution in Test Set')"
   ]
  },
  {
   "cell_type": "code",
   "execution_count": 15,
   "id": "b6b2dea1",
   "metadata": {
    "id": "b6b2dea1"
   },
   "outputs": [],
   "source": [
    "class ClassifierDataset(Dataset):\n",
    "    \n",
    "    def __init__(self, X_data, y_data):\n",
    "        self.X_data = X_data\n",
    "        self.y_data = y_data\n",
    "        \n",
    "    def __getitem__(self, index):\n",
    "        return self.X_data[index], self.y_data[index]\n",
    "        \n",
    "    def __len__ (self):\n",
    "        return len(self.X_data)\n",
    "    \n",
    "    def getBatch(self, indices, yclass = -1):\n",
    "        if yclass >= 0:\n",
    "            return self.X_data[self.y_data == yclass], self.y_data[self.y_data == yclass]\n",
    "        else:\n",
    "            return self.X_data[(indices)], self.y_data[(indices)]\n",
    "    \n",
    "    def getSplitbyClass(self, indices, yclass):\n",
    "        return self.X_data[self.y_data == yclass][indices], self.y_data[self.y_data == yclass][indices]\n",
    "    \n",
    "\n",
    "train_dataset = ClassifierDataset(torch.tensor(X_train, dtype=torch.float32 ,device=device), torch.tensor(y_train, dtype=torch.long, device=device))\n",
    "val_dataset = ClassifierDataset(torch.tensor(X_val, dtype=torch.float32, device=device), torch.tensor(y_val, dtype=torch.long, device=device))\n",
    "test_dataset = ClassifierDataset(torch.tensor(X_test, dtype=torch.float32, device=device), torch.tensor(y_test, dtype=torch.long, device=device))"
   ]
  },
  {
   "cell_type": "code",
   "execution_count": 16,
   "id": "e5221ef0",
   "metadata": {
    "id": "e5221ef0"
   },
   "outputs": [],
   "source": [
    "class MulticlassClassification(nn.Module):\n",
    "    def __init__(self, num_feature, num_class):\n",
    "        super(MulticlassClassification, self).__init__()\n",
    "        \n",
    "        self.layer_1 = nn.Linear(num_feature, 2048)\n",
    "        self.layer_2 = nn.Linear(2048, 512)\n",
    "        self.layer_3 = nn.Linear(512, 128)\n",
    "        self.layer_out = nn.Linear(128, num_class)\n",
    "        \n",
    "        self.relu = nn.ReLU()\n",
    "        \n",
    "        self.batchnorm1 = nn.InstanceNorm1d(2048)\n",
    "        self.batchnorm2 = nn.InstanceNorm1d(512)\n",
    "        self.batchnorm3 = nn.InstanceNorm1d(128)\n",
    "        \n",
    "    def forward(self, x):\n",
    "        x = self.layer_1(x)\n",
    "        x = self.batchnorm1(x)\n",
    "        x = self.relu(x)\n",
    "        \n",
    "        x = self.layer_2(x)\n",
    "        x = self.batchnorm2(x)\n",
    "        x = self.relu(x)\n",
    "        \n",
    "        x = self.layer_3(x)\n",
    "        x = self.batchnorm3(x)\n",
    "        x = self.relu(x)\n",
    "\n",
    "        \n",
    "        x = self.layer_out(x)\n",
    "        \n",
    "        return x"
   ]
  },
  {
   "cell_type": "code",
   "execution_count": 17,
   "id": "98ddd48f",
   "metadata": {},
   "outputs": [],
   "source": [
    "class CrossEntropyLoss(nn.Module):\n",
    "    \"\"\"\n",
    "    This criterion (`CrossEntropyLoss`) combines `LogSoftMax` and `NLLLoss` in one single class.\n",
    "    \n",
    "    NOTE: Computes per-element losses for a mini-batch (instead of the average loss over the entire mini-batch).\n",
    "    \"\"\"\n",
    "    log_softmax = nn.LogSoftmax()\n",
    "\n",
    "    def __init__(self):\n",
    "        super().__init__()\n",
    "        \n",
    "    def forward(self, x, target, weights=[]):\n",
    "        log_softmax =  x - x.exp().sum(-1).log().unsqueeze(-1)\n",
    "        loss = -log_softmax[range(target.shape[0]), target]\n",
    "        \n",
    "        if len(weights) > 0:\n",
    "            return (loss*weights/weights.sum()).sum()\n",
    "        else:\n",
    "            return loss.mean()"
   ]
  },
  {
   "cell_type": "code",
   "execution_count": 18,
   "id": "21e8ba5c",
   "metadata": {},
   "outputs": [],
   "source": [
    "def multi_acc(y_pred, y_test):\n",
    "    y_pred_softmax = torch.log_softmax(y_pred, dim = 1)\n",
    "    _, y_pred_tags = torch.max(y_pred_softmax, dim = 1)    \n",
    "    \n",
    "    correct_pred = (y_pred_tags == y_test).float()\n",
    "    acc = correct_pred.sum() / len(correct_pred)\n",
    "    \n",
    "    acc = torch.round(acc * 100)\n",
    "    \n",
    "    return acc"
   ]
  },
  {
   "cell_type": "code",
   "execution_count": 19,
   "id": "c8ea1bee",
   "metadata": {},
   "outputs": [],
   "source": [
    "def compute_loss_stateless_model (params, buffers, sample, target):\n",
    "    batch = sample.unsqueeze(0)\n",
    "    targets = target.unsqueeze(0)\n",
    "\n",
    "    predictions = fmodel(params, buffers, batch) \n",
    "    loss = torch.nn.functional.cross_entropy(predictions, targets)\n",
    "\n",
    "    return loss"
   ]
  },
  {
   "cell_type": "code",
   "execution_count": 20,
   "id": "cd8c4592",
   "metadata": {},
   "outputs": [],
   "source": [
    "def compute_next_batch(batch, y, dataset, batch_norm, random_size):\n",
    "       \n",
    "    full_data_0 = dataset.getBatch(list(range(len(dataset))), yclass = 0)[0]\n",
    "    full_data_1 = dataset.getBatch(list(range(len(dataset))), yclass = 1)[0]\n",
    "    \n",
    "    ## concatenate all top neighors into single tensor            \n",
    "    next_batch_0 = torch.cat(tuple([torch.linalg.norm(full_data_0 - x, dim = 1).argsort()[1:33].cpu() \\\n",
    "                                   for sample, x in enumerate(batch) if y[sample] == 0]))\n",
    "    next_batch_1 = torch.cat(tuple([torch.linalg.norm(full_data_1 - x, dim = 1).argsort()[1:33].cpu() \\\n",
    "                                   for sample, x in enumerate(batch) if y[sample] == 1]))\n",
    "    \n",
    "    ## assign probability of selection to all candidates in next batch\n",
    "    next_batch_weights_0 = torch.cat(tuple([torch.tensor([x.item()]*32) for sample, x in enumerate(batch_norm) if y[sample] == 0]))\n",
    "    next_batch_weights_1 = torch.cat(tuple([torch.tensor([x.item()]*32) for sample, x in enumerate(batch_norm) if y[sample] == 1]))\n",
    "    \n",
    "    ## weighted selection of next batch.\n",
    "    next_batch_0 = next_batch_0[next_batch_weights_0.multinomial(int(BATCH_SIZE*random_size/200))]\n",
    "    next_batch_1 = next_batch_1[next_batch_weights_1.multinomial(int(BATCH_SIZE*random_size/200))]\n",
    "    \n",
    "    #track clustering\n",
    "    cluster[random_size][next_batch_0] += 1\n",
    "    \n",
    "    #concatenate points from both class\n",
    "    X_0, y_0 = dataset.getSplitbyClass(next_batch_0, yclass = 0)\n",
    "    X_1, y_1 = dataset.getSplitbyClass(next_batch_1, yclass = 1)\n",
    "    \n",
    "    return torch.cat((X_0, X_1)), torch.cat((y_0, y_1))\n",
    "   "
   ]
  },
  {
   "cell_type": "code",
   "execution_count": 21,
   "id": "d43a900e",
   "metadata": {
    "colab": {
     "base_uri": "https://localhost:8080/"
    },
    "id": "d43a900e",
    "outputId": "bf276d23-640e-4aaa-f39c-e58d44c32dd0"
   },
   "outputs": [
    {
     "data": {
      "text/plain": [
       "MulticlassClassification(\n",
       "  (layer_1): Linear(in_features=28, out_features=2048, bias=True)\n",
       "  (layer_2): Linear(in_features=2048, out_features=512, bias=True)\n",
       "  (layer_3): Linear(in_features=512, out_features=128, bias=True)\n",
       "  (layer_out): Linear(in_features=128, out_features=2, bias=True)\n",
       "  (relu): ReLU()\n",
       "  (batchnorm1): InstanceNorm1d(2048, eps=1e-05, momentum=0.1, affine=False, track_running_stats=False)\n",
       "  (batchnorm2): InstanceNorm1d(512, eps=1e-05, momentum=0.1, affine=False, track_running_stats=False)\n",
       "  (batchnorm3): InstanceNorm1d(128, eps=1e-05, momentum=0.1, affine=False, track_running_stats=False)\n",
       ")"
      ]
     },
     "execution_count": 21,
     "metadata": {},
     "output_type": "execute_result"
    }
   ],
   "source": [
    "from functorch import make_functional_with_buffers, vmap, grad\n",
    "\n",
    "base_model = MulticlassClassification(num_feature = NUM_FEATURES, num_class=NUM_CLASSES)\n",
    "base_model.to(device)"
   ]
  },
  {
   "cell_type": "code",
   "execution_count": 22,
   "id": "60ed5996",
   "metadata": {},
   "outputs": [],
   "source": [
    "ft_compute_grad = grad(compute_loss_stateless_model)\n",
    "ft_compute_sample_grad = vmap(ft_compute_grad, in_dims=(None, None, 0, 0))"
   ]
  },
  {
   "cell_type": "code",
   "execution_count": 23,
   "id": "d8e8026d",
   "metadata": {
    "id": "d8e8026d"
   },
   "outputs": [],
   "source": [
    "global cluster\n",
    "cluster = dict()\n",
    "\n",
    "accuracy_stats = {\n",
    "    'train': [],\n",
    "    \"val\": []\n",
    "}\n",
    "loss_stats = {\n",
    "    'train': [],\n",
    "    \"val\": [],\n",
    "    \"grad\": []\n",
    "}"
   ]
  },
  {
   "cell_type": "code",
   "execution_count": 24,
   "id": "f21622a1",
   "metadata": {
    "colab": {
     "base_uri": "https://localhost:8080/",
     "height": 117,
     "referenced_widgets": [
      "9cf079f05026475e949bc9909c26ac4b",
      "e1a5170c7e284904811c6cb9daa748ce",
      "03b0a771528a43559cd4c95fc009d1c6",
      "e78fced828634e9abd058143bcb30539",
      "f1f8156d4bd94407a75f8f258ec935ef",
      "0c937caa944a4ffda96e13d9d7ac7b53",
      "58c25c1c191146adb2cd8b4b2c41775b",
      "2bc8698031124895919e5a37c01bb789",
      "40d942a93fd94b28a6b8973db1264a4e",
      "9304cd86b1dc48fca04ba88a32a2f78f",
      "99934b4afe20413fbfad45d3e366e0b7",
      "d249b9cd5a4a4589a1d6f29ea7ae485d"
     ]
    },
    "id": "f21622a1",
    "outputId": "fe5612ed-aab0-4987-e139-cac857364522",
    "scrolled": true
   },
   "outputs": [],
   "source": [
    "def wandb_trainer_function(config=None):\n",
    "    # INITIALIZE NEW WANDB RUN\n",
    "    with wandb.init(config=config) as run:\n",
    "        #USING THE CONFIG TO SET THE HYPERPARAMETERS FOR EACH RUN\n",
    "        config = wandb.config\n",
    "        wandb.define_metric(\"custom_step\")\n",
    "        wandb.define_metric(\"Train Loss\", step_metric='custom_step')\n",
    "        wandb.define_metric(\"Val Loss\", step_metric='custom_step')\n",
    "        wandb.define_metric(\"Train Accuracy\", step_metric='custom_step')\n",
    "        wandb.define_metric(\"Val Accuracy\", step_metric='custom_step')\n",
    "        wandb.define_metric(\"Gradient Norm\", step_metric='custom_step')\n",
    "        if config.RANDOM_SIZE > 0:\n",
    "            run.name = \"NN-\"+str(config.RANDOM_SIZE)\n",
    "        else:\n",
    "            run.name = \"RANDOM\"\n",
    "        \n",
    "        torch.cuda.empty_cache()\n",
    "        model = copy.deepcopy(base_model)\n",
    "\n",
    "        criterion = torch.nn.CrossEntropyLoss()\n",
    "        optimizer = optim.Adam(model.parameters(), lr=LEARNING_RATE)\n",
    "        \n",
    "        train_loader = DataLoader(dataset=train_dataset, batch_size=BATCH_SIZE - int(config.RANDOM_SIZE*BATCH_SIZE/100), shuffle=True)\n",
    "        val_loader = DataLoader(dataset=val_dataset, batch_size=BATCH_SIZE, shuffle=True)\n",
    "        \n",
    "        print(\"Begin training.\")\n",
    "        for e in tqdm(range(1, EPOCHS+1)):\n",
    "            train_epoch_loss=0\n",
    "            train_epoch_acc=0\n",
    "            val_epoch_loss = 0\n",
    "            val_epoch_acc = 0\n",
    "            gradient_norm_epoch = 0\n",
    "            \n",
    "            cluster[config.RANDOM_SIZE] = torch.zeros(len(train_dataset))\n",
    "\n",
    "            model.train()\n",
    "            pre_X, pre_y = next(iter(train_loader))\n",
    "            for X, y in train_loader:\n",
    "                \n",
    "                optimizer.zero_grad()\n",
    "                \n",
    "                global fmodel\n",
    "                fmodel, params, buffers = make_functional_with_buffers(model)\n",
    "                \n",
    "                if config.RANDOM_SIZE > 0:\n",
    "                    #append near neighbors to current batch\n",
    "                    X, y = torch.cat((pre_X, X)), torch.cat((pre_y, y)) \n",
    "\n",
    "                    \n",
    "                pred = model(X)\n",
    "                \n",
    "                ### use functorch to calculate per sample gradient\n",
    "                ft_per_sample_grads = ft_compute_sample_grad(params, buffers, X, y)\n",
    "\n",
    "                ### calculate norm of the gradient and use it to compute next batch\n",
    "                batch_norm = torch.zeros(X.size(0), device=device)\n",
    "                for item in ft_per_sample_grads:\n",
    "                    batch_norm +=  torch.linalg.norm(item, dim=tuple(range(1,len(item.shape))))\n",
    "                gradient_norm_epoch += batch_norm.sum().item()/X.size(0)\n",
    "                \n",
    "                if config.RANDOM_SIZE > 0:\n",
    "                    pre_X, pre_y = compute_next_batch(X, y, train_dataset, batch_norm, config.RANDOM_SIZE)\n",
    "\n",
    "                train_loss = criterion(pred, y)\n",
    "                train_loss.backward()\n",
    "                optimizer.step()\n",
    "\n",
    "\n",
    "            with torch.no_grad():\n",
    "                model.eval()\n",
    "                for X_val, y_val in val_loader:\n",
    "                    val_pred = model(X_val)\n",
    "\n",
    "                    val_loss = criterion(val_pred, y_val)\n",
    "                    val_acc = multi_acc(val_pred, y_val)\n",
    "\n",
    "                    val_epoch_loss += val_loss.item()\n",
    "                    val_epoch_acc += val_acc.item()\n",
    "                \n",
    "                X_train_test, y_train_test = train_dataset.getBatch(list(range(20000)))\n",
    "                train_test_pred = model(X_train_test)\n",
    "                train_epoch_loss = criterion(train_test_pred, y_train_test).item()\n",
    "                train_epoch_acc = multi_acc(train_test_pred, y_train_test).item()\n",
    "\n",
    "\n",
    "            # TRAIN LOSS AND ACCURACY\n",
    "            loss_stats['train'].append(train_epoch_loss)\n",
    "            loss_stats['val'].append(val_epoch_loss/(len(val_loader)))\n",
    "            loss_stats['grad'].append(gradient_norm_epoch/len(train_loader))\n",
    "\n",
    "            accuracy_stats['train'].append(train_epoch_acc)\n",
    "            accuracy_stats['val'].append(val_epoch_acc/(len(val_loader)))\n",
    "\n",
    "            ## plot val loss and accuracy here. For train, standardise a subset for loss/accuracy\n",
    "            print(f'Epoch {e+0:03}: | Train Loss: {loss_stats[\"train\"][-1]:.5f} | Val Loss: {loss_stats[\"val\"][-1]:.5f} | Train Acc: {accuracy_stats[\"train\"][-1]:.3f} | Val Acc: {accuracy_stats[\"val\"][-1]:.3f}')\n",
    "            wandb.log({\"Train Loss\":loss_stats[\"train\"][-1], \"Val Loss\":loss_stats[\"val\"][-1],\"Train Accuracy\":accuracy_stats[\"train\"][-1],\"Val Accuracy\":accuracy_stats[\"val\"][-1], \"Gradient Norm\":loss_stats[\"grad\"][-1], 'custom_step':e})\n",
    "\n",
    "        plt.plot(cluster.sort(descending=True).values)"
   ]
  },
  {
   "cell_type": "code",
   "execution_count": null,
   "id": "dfb2ff3f",
   "metadata": {},
   "outputs": [
    {
     "name": "stderr",
     "output_type": "stream",
     "text": [
      "\u001b[34m\u001b[1mwandb\u001b[0m: Agent Starting Run: srh6nlnl with config:\n",
      "\u001b[34m\u001b[1mwandb\u001b[0m: \tEPOCHS: 50\n",
      "\u001b[34m\u001b[1mwandb\u001b[0m: \tLEARNING_RATE: 0.0001\n",
      "\u001b[34m\u001b[1mwandb\u001b[0m: \tNUM_CLASSES: 2\n",
      "\u001b[34m\u001b[1mwandb\u001b[0m: \tNUM_FEATURES: 28\n",
      "\u001b[34m\u001b[1mwandb\u001b[0m: \tRANDOM_SIZE: 10\n",
      "\u001b[34m\u001b[1mwandb\u001b[0m: Currently logged in as: \u001b[33maw82\u001b[0m (\u001b[33mrice-and-shine\u001b[0m). Use \u001b[1m`wandb login --relogin`\u001b[0m to force relogin\n"
     ]
    },
    {
     "data": {
      "text/html": [
       "wandb version 0.13.10 is available!  To upgrade, please run:\n",
       " $ pip install wandb --upgrade"
      ],
      "text/plain": [
       "<IPython.core.display.HTML object>"
      ]
     },
     "metadata": {},
     "output_type": "display_data"
    },
    {
     "data": {
      "text/html": [
       "Tracking run with wandb version 0.13.6"
      ],
      "text/plain": [
       "<IPython.core.display.HTML object>"
      ]
     },
     "metadata": {},
     "output_type": "display_data"
    },
    {
     "data": {
      "text/html": [
       "Run data is saved locally in <code>/home/aw82/LSHBatching/wandb/run-20230302_000415-srh6nlnl</code>"
      ],
      "text/plain": [
       "<IPython.core.display.HTML object>"
      ]
     },
     "metadata": {},
     "output_type": "display_data"
    },
    {
     "data": {
      "text/html": [
       "Syncing run <strong><a href=\"https://wandb.ai/rice-and-shine/ExactNeighbors-ImportanceSampling/runs/srh6nlnl\" target=\"_blank\">still-sweep-1</a></strong> to <a href=\"https://wandb.ai/rice-and-shine/ExactNeighbors-ImportanceSampling\" target=\"_blank\">Weights & Biases</a> (<a href=\"https://wandb.me/run\" target=\"_blank\">docs</a>)<br/>Sweep page:  <a href=\"https://wandb.ai/rice-and-shine/ExactNeighbors-ImportanceSampling/sweeps/x36ms5g3\" target=\"_blank\">https://wandb.ai/rice-and-shine/ExactNeighbors-ImportanceSampling/sweeps/x36ms5g3</a>"
      ],
      "text/plain": [
       "<IPython.core.display.HTML object>"
      ]
     },
     "metadata": {},
     "output_type": "display_data"
    },
    {
     "name": "stdout",
     "output_type": "stream",
     "text": [
      "Begin training.\n"
     ]
    },
    {
     "data": {
      "application/json": {
       "ascii": false,
       "bar_format": null,
       "colour": null,
       "elapsed": 0.012781143188476562,
       "initial": 0,
       "n": 0,
       "ncols": null,
       "nrows": 43,
       "postfix": null,
       "prefix": "",
       "rate": null,
       "total": 50,
       "unit": "it",
       "unit_divisor": 1000,
       "unit_scale": false
      },
      "application/vnd.jupyter.widget-view+json": {
       "model_id": "418a6a7647be4377a24970be3c66fd1b",
       "version_major": 2,
       "version_minor": 0
      },
      "text/plain": [
       "  0%|          | 0/50 [00:00<?, ?it/s]"
      ]
     },
     "metadata": {},
     "output_type": "display_data"
    },
    {
     "name": "stdout",
     "output_type": "stream",
     "text": [
      "torch.Size([1844, 28])\n",
      "there\n",
      "torch.Size([1024, 28])\n",
      "there\n",
      "torch.Size([1024, 28])\n",
      "there\n",
      "torch.Size([1024, 28])\n",
      "there\n",
      "torch.Size([1024, 28])\n",
      "there\n",
      "torch.Size([1024, 28])\n",
      "there\n",
      "torch.Size([1024, 28])\n",
      "there\n",
      "torch.Size([1024, 28])\n",
      "there\n",
      "torch.Size([1024, 28])\n",
      "there\n",
      "torch.Size([1024, 28])\n",
      "there\n",
      "torch.Size([1024, 28])\n",
      "there\n",
      "torch.Size([1024, 28])\n",
      "there\n",
      "torch.Size([1024, 28])\n",
      "there\n",
      "torch.Size([1024, 28])\n",
      "there\n",
      "torch.Size([1024, 28])\n",
      "there\n",
      "torch.Size([1024, 28])\n",
      "there\n",
      "torch.Size([1024, 28])\n",
      "there\n",
      "torch.Size([1024, 28])\n",
      "there\n",
      "torch.Size([1024, 28])\n",
      "there\n",
      "torch.Size([1024, 28])\n",
      "there\n",
      "torch.Size([1024, 28])\n",
      "there\n",
      "torch.Size([1024, 28])\n",
      "there\n",
      "torch.Size([1024, 28])\n",
      "there\n",
      "torch.Size([1024, 28])\n",
      "there\n",
      "torch.Size([1024, 28])\n",
      "there\n",
      "torch.Size([1024, 28])\n",
      "there\n",
      "torch.Size([1024, 28])\n",
      "there\n",
      "torch.Size([1024, 28])\n",
      "there\n",
      "torch.Size([1024, 28])\n",
      "there\n",
      "torch.Size([1024, 28])\n",
      "there\n",
      "torch.Size([1024, 28])\n",
      "there\n",
      "torch.Size([1024, 28])\n",
      "there\n",
      "torch.Size([1024, 28])\n",
      "there\n",
      "torch.Size([1024, 28])\n",
      "there\n",
      "torch.Size([1024, 28])\n",
      "there\n",
      "torch.Size([1024, 28])\n",
      "there\n",
      "torch.Size([1024, 28])\n",
      "there\n",
      "torch.Size([1024, 28])\n",
      "there\n",
      "torch.Size([1024, 28])\n",
      "there\n",
      "torch.Size([1024, 28])\n",
      "there\n",
      "torch.Size([1024, 28])\n",
      "there\n",
      "torch.Size([1024, 28])\n",
      "there\n",
      "torch.Size([1024, 28])\n",
      "there\n",
      "torch.Size([1024, 28])\n",
      "there\n",
      "torch.Size([1024, 28])\n",
      "there\n",
      "torch.Size([1024, 28])\n",
      "there\n",
      "torch.Size([1024, 28])\n",
      "there\n",
      "torch.Size([1024, 28])\n",
      "there\n",
      "torch.Size([1024, 28])\n",
      "there\n",
      "torch.Size([1024, 28])\n",
      "there\n",
      "torch.Size([1024, 28])\n",
      "there\n",
      "torch.Size([1024, 28])\n",
      "there\n",
      "torch.Size([1024, 28])\n",
      "there\n",
      "torch.Size([1024, 28])\n",
      "there\n",
      "torch.Size([1024, 28])\n",
      "there\n",
      "torch.Size([1024, 28])\n",
      "there\n",
      "torch.Size([1024, 28])\n",
      "there\n",
      "torch.Size([1024, 28])\n",
      "there\n",
      "torch.Size([1024, 28])\n",
      "there\n",
      "torch.Size([1024, 28])\n",
      "there\n",
      "torch.Size([1024, 28])\n",
      "there\n",
      "torch.Size([1024, 28])\n",
      "there\n",
      "torch.Size([1024, 28])\n",
      "there\n",
      "torch.Size([1024, 28])\n",
      "there\n",
      "torch.Size([1024, 28])\n",
      "there\n",
      "torch.Size([1024, 28])\n",
      "there\n",
      "torch.Size([1024, 28])\n",
      "there\n",
      "torch.Size([1024, 28])\n",
      "there\n",
      "torch.Size([1024, 28])\n",
      "there\n",
      "torch.Size([1024, 28])\n",
      "there\n",
      "torch.Size([1024, 28])\n",
      "there\n",
      "torch.Size([1024, 28])\n",
      "there\n",
      "torch.Size([1024, 28])\n",
      "there\n",
      "torch.Size([1024, 28])\n",
      "there\n",
      "torch.Size([1024, 28])\n",
      "there\n",
      "torch.Size([1024, 28])\n",
      "there\n",
      "torch.Size([1024, 28])\n",
      "there\n",
      "torch.Size([1024, 28])\n",
      "there\n",
      "torch.Size([1024, 28])\n",
      "there\n",
      "torch.Size([1024, 28])\n",
      "there\n",
      "torch.Size([1024, 28])\n",
      "there\n",
      "torch.Size([1024, 28])\n",
      "there\n",
      "torch.Size([1024, 28])\n",
      "there\n",
      "torch.Size([1024, 28])\n",
      "there\n",
      "torch.Size([1024, 28])\n",
      "there\n",
      "torch.Size([1024, 28])\n",
      "there\n",
      "torch.Size([1024, 28])\n",
      "there\n",
      "torch.Size([1024, 28])\n",
      "there\n",
      "torch.Size([1024, 28])\n",
      "there\n",
      "torch.Size([1024, 28])\n",
      "there\n",
      "torch.Size([1024, 28])\n",
      "there\n",
      "torch.Size([1024, 28])\n",
      "there\n",
      "torch.Size([1024, 28])\n",
      "there\n",
      "torch.Size([1024, 28])\n",
      "there\n",
      "torch.Size([1024, 28])\n",
      "there\n",
      "torch.Size([1024, 28])\n",
      "there\n",
      "torch.Size([1024, 28])\n",
      "there\n",
      "torch.Size([1024, 28])\n",
      "there\n",
      "torch.Size([1024, 28])\n",
      "there\n",
      "torch.Size([1024, 28])\n",
      "there\n",
      "torch.Size([1024, 28])\n",
      "there\n",
      "torch.Size([1024, 28])\n",
      "there\n",
      "torch.Size([1024, 28])\n",
      "there\n",
      "torch.Size([1024, 28])\n",
      "there\n",
      "torch.Size([1024, 28])\n",
      "there\n",
      "torch.Size([1024, 28])\n",
      "there\n",
      "torch.Size([1024, 28])\n",
      "there\n",
      "torch.Size([1024, 28])\n",
      "there\n",
      "torch.Size([1024, 28])\n",
      "there\n",
      "torch.Size([1024, 28])\n",
      "there\n",
      "torch.Size([1024, 28])\n",
      "there\n",
      "torch.Size([1024, 28])\n",
      "there\n",
      "torch.Size([1024, 28])\n",
      "there\n",
      "torch.Size([1024, 28])\n",
      "there\n",
      "torch.Size([1024, 28])\n",
      "there\n",
      "torch.Size([1024, 28])\n",
      "there\n",
      "torch.Size([1024, 28])\n",
      "there\n",
      "torch.Size([1024, 28])\n",
      "there\n",
      "torch.Size([1024, 28])\n",
      "there\n",
      "torch.Size([1024, 28])\n",
      "there\n",
      "torch.Size([1024, 28])\n",
      "there\n",
      "torch.Size([1024, 28])\n",
      "there\n",
      "torch.Size([1024, 28])\n",
      "there\n",
      "torch.Size([1024, 28])\n",
      "there\n",
      "torch.Size([1024, 28])\n",
      "there\n",
      "torch.Size([1024, 28])\n",
      "there\n",
      "torch.Size([1024, 28])\n",
      "there\n",
      "torch.Size([1024, 28])\n"
     ]
    }
   ],
   "source": [
    "wandb.agent(sweep_id, wandb_trainer_function)"
   ]
  },
  {
   "cell_type": "code",
   "execution_count": 26,
   "id": "66423086",
   "metadata": {},
   "outputs": [
    {
     "ename": "AttributeError",
     "evalue": "'dict' object has no attribute 'sort'",
     "output_type": "error",
     "traceback": [
      "\u001b[0;31m---------------------------------------------------------------------------\u001b[0m",
      "\u001b[0;31mAttributeError\u001b[0m                            Traceback (most recent call last)",
      "Cell \u001b[0;32mIn [26], line 1\u001b[0m\n\u001b[0;32m----> 1\u001b[0m plt\u001b[38;5;241m.\u001b[39mplot(\u001b[43mcluster\u001b[49m\u001b[38;5;241;43m.\u001b[39;49m\u001b[43msort\u001b[49m(descending\u001b[38;5;241m=\u001b[39m\u001b[38;5;28;01mTrue\u001b[39;00m)\u001b[38;5;241m.\u001b[39mvalues)\n\u001b[1;32m      2\u001b[0m plt\u001b[38;5;241m.\u001b[39maxhline(y \u001b[38;5;241m=\u001b[39m \u001b[38;5;28mlen\u001b[39m(train_loader), color \u001b[38;5;241m=\u001b[39m \u001b[38;5;124m'\u001b[39m\u001b[38;5;124mr\u001b[39m\u001b[38;5;124m'\u001b[39m, linestyle \u001b[38;5;241m=\u001b[39m \u001b[38;5;124m'\u001b[39m\u001b[38;5;124m-\u001b[39m\u001b[38;5;124m'\u001b[39m)\n",
      "\u001b[0;31mAttributeError\u001b[0m: 'dict' object has no attribute 'sort'"
     ]
    }
   ],
   "source": [
    "plt.plot(cluster.sort(descending=True).values)\n",
    "plt.axhline(y = len(train_loader), color = 'r', linestyle = '-')"
   ]
  },
  {
   "cell_type": "code",
   "execution_count": null,
   "id": "ad23137d",
   "metadata": {},
   "outputs": [],
   "source": [
    "total_unique_calls = cluster.sum().int().item()\n",
    "total_possible_calls = len(train_loader)*EPOCHS*(512)\n",
    "overlapping_neighbors = total_possible_calls - total_unique_calls\n",
    "total_unique_calls, total_possible_calls, overlapping_neighbors, max(cluster).int().item()"
   ]
  },
  {
   "cell_type": "code",
   "execution_count": null,
   "id": "fe61ff94",
   "metadata": {},
   "outputs": [],
   "source": [
    "plt.plot(cluster.sort(descending=True).values)"
   ]
  }
 ],
 "metadata": {
  "colab": {
   "provenance": []
  },
  "kernelspec": {
   "display_name": "Python 3 (ipykernel)",
   "language": "python",
   "name": "python3"
  },
  "language_info": {
   "codemirror_mode": {
    "name": "ipython",
    "version": 3
   },
   "file_extension": ".py",
   "mimetype": "text/x-python",
   "name": "python",
   "nbconvert_exporter": "python",
   "pygments_lexer": "ipython3",
   "version": "3.9.12"
  },
  "vscode": {
   "interpreter": {
    "hash": "4bd624a0593993fe43ac4046b27b898fb2ef75c21c08f81e89e64ea0f51df676"
   }
  },
  "widgets": {
   "application/vnd.jupyter.widget-state+json": {
    "03b0a771528a43559cd4c95fc009d1c6": {
     "model_module": "@jupyter-widgets/controls",
     "model_module_version": "1.5.0",
     "model_name": "FloatProgressModel",
     "state": {
      "_dom_classes": [],
      "_model_module": "@jupyter-widgets/controls",
      "_model_module_version": "1.5.0",
      "_model_name": "FloatProgressModel",
      "_view_count": null,
      "_view_module": "@jupyter-widgets/controls",
      "_view_module_version": "1.5.0",
      "_view_name": "ProgressView",
      "bar_style": "success",
      "description": "",
      "description_tooltip": null,
      "layout": "IPY_MODEL_2bc8698031124895919e5a37c01bb789",
      "max": 3,
      "min": 0,
      "orientation": "horizontal",
      "style": "IPY_MODEL_40d942a93fd94b28a6b8973db1264a4e",
      "value": 3
     }
    },
    "0c937caa944a4ffda96e13d9d7ac7b53": {
     "model_module": "@jupyter-widgets/base",
     "model_module_version": "1.2.0",
     "model_name": "LayoutModel",
     "state": {
      "_model_module": "@jupyter-widgets/base",
      "_model_module_version": "1.2.0",
      "_model_name": "LayoutModel",
      "_view_count": null,
      "_view_module": "@jupyter-widgets/base",
      "_view_module_version": "1.2.0",
      "_view_name": "LayoutView",
      "align_content": null,
      "align_items": null,
      "align_self": null,
      "border": null,
      "bottom": null,
      "display": null,
      "flex": null,
      "flex_flow": null,
      "grid_area": null,
      "grid_auto_columns": null,
      "grid_auto_flow": null,
      "grid_auto_rows": null,
      "grid_column": null,
      "grid_gap": null,
      "grid_row": null,
      "grid_template_areas": null,
      "grid_template_columns": null,
      "grid_template_rows": null,
      "height": null,
      "justify_content": null,
      "justify_items": null,
      "left": null,
      "margin": null,
      "max_height": null,
      "max_width": null,
      "min_height": null,
      "min_width": null,
      "object_fit": null,
      "object_position": null,
      "order": null,
      "overflow": null,
      "overflow_x": null,
      "overflow_y": null,
      "padding": null,
      "right": null,
      "top": null,
      "visibility": null,
      "width": null
     }
    },
    "2bc8698031124895919e5a37c01bb789": {
     "model_module": "@jupyter-widgets/base",
     "model_module_version": "1.2.0",
     "model_name": "LayoutModel",
     "state": {
      "_model_module": "@jupyter-widgets/base",
      "_model_module_version": "1.2.0",
      "_model_name": "LayoutModel",
      "_view_count": null,
      "_view_module": "@jupyter-widgets/base",
      "_view_module_version": "1.2.0",
      "_view_name": "LayoutView",
      "align_content": null,
      "align_items": null,
      "align_self": null,
      "border": null,
      "bottom": null,
      "display": null,
      "flex": null,
      "flex_flow": null,
      "grid_area": null,
      "grid_auto_columns": null,
      "grid_auto_flow": null,
      "grid_auto_rows": null,
      "grid_column": null,
      "grid_gap": null,
      "grid_row": null,
      "grid_template_areas": null,
      "grid_template_columns": null,
      "grid_template_rows": null,
      "height": null,
      "justify_content": null,
      "justify_items": null,
      "left": null,
      "margin": null,
      "max_height": null,
      "max_width": null,
      "min_height": null,
      "min_width": null,
      "object_fit": null,
      "object_position": null,
      "order": null,
      "overflow": null,
      "overflow_x": null,
      "overflow_y": null,
      "padding": null,
      "right": null,
      "top": null,
      "visibility": null,
      "width": null
     }
    },
    "40d942a93fd94b28a6b8973db1264a4e": {
     "model_module": "@jupyter-widgets/controls",
     "model_module_version": "1.5.0",
     "model_name": "ProgressStyleModel",
     "state": {
      "_model_module": "@jupyter-widgets/controls",
      "_model_module_version": "1.5.0",
      "_model_name": "ProgressStyleModel",
      "_view_count": null,
      "_view_module": "@jupyter-widgets/base",
      "_view_module_version": "1.2.0",
      "_view_name": "StyleView",
      "bar_color": null,
      "description_width": ""
     }
    },
    "58c25c1c191146adb2cd8b4b2c41775b": {
     "model_module": "@jupyter-widgets/controls",
     "model_module_version": "1.5.0",
     "model_name": "DescriptionStyleModel",
     "state": {
      "_model_module": "@jupyter-widgets/controls",
      "_model_module_version": "1.5.0",
      "_model_name": "DescriptionStyleModel",
      "_view_count": null,
      "_view_module": "@jupyter-widgets/base",
      "_view_module_version": "1.2.0",
      "_view_name": "StyleView",
      "description_width": ""
     }
    },
    "9304cd86b1dc48fca04ba88a32a2f78f": {
     "model_module": "@jupyter-widgets/base",
     "model_module_version": "1.2.0",
     "model_name": "LayoutModel",
     "state": {
      "_model_module": "@jupyter-widgets/base",
      "_model_module_version": "1.2.0",
      "_model_name": "LayoutModel",
      "_view_count": null,
      "_view_module": "@jupyter-widgets/base",
      "_view_module_version": "1.2.0",
      "_view_name": "LayoutView",
      "align_content": null,
      "align_items": null,
      "align_self": null,
      "border": null,
      "bottom": null,
      "display": null,
      "flex": null,
      "flex_flow": null,
      "grid_area": null,
      "grid_auto_columns": null,
      "grid_auto_flow": null,
      "grid_auto_rows": null,
      "grid_column": null,
      "grid_gap": null,
      "grid_row": null,
      "grid_template_areas": null,
      "grid_template_columns": null,
      "grid_template_rows": null,
      "height": null,
      "justify_content": null,
      "justify_items": null,
      "left": null,
      "margin": null,
      "max_height": null,
      "max_width": null,
      "min_height": null,
      "min_width": null,
      "object_fit": null,
      "object_position": null,
      "order": null,
      "overflow": null,
      "overflow_x": null,
      "overflow_y": null,
      "padding": null,
      "right": null,
      "top": null,
      "visibility": null,
      "width": null
     }
    },
    "99934b4afe20413fbfad45d3e366e0b7": {
     "model_module": "@jupyter-widgets/controls",
     "model_module_version": "1.5.0",
     "model_name": "DescriptionStyleModel",
     "state": {
      "_model_module": "@jupyter-widgets/controls",
      "_model_module_version": "1.5.0",
      "_model_name": "DescriptionStyleModel",
      "_view_count": null,
      "_view_module": "@jupyter-widgets/base",
      "_view_module_version": "1.2.0",
      "_view_name": "StyleView",
      "description_width": ""
     }
    },
    "9cf079f05026475e949bc9909c26ac4b": {
     "model_module": "@jupyter-widgets/controls",
     "model_module_version": "1.5.0",
     "model_name": "HBoxModel",
     "state": {
      "_dom_classes": [],
      "_model_module": "@jupyter-widgets/controls",
      "_model_module_version": "1.5.0",
      "_model_name": "HBoxModel",
      "_view_count": null,
      "_view_module": "@jupyter-widgets/controls",
      "_view_module_version": "1.5.0",
      "_view_name": "HBoxView",
      "box_style": "",
      "children": [
       "IPY_MODEL_e1a5170c7e284904811c6cb9daa748ce",
       "IPY_MODEL_03b0a771528a43559cd4c95fc009d1c6",
       "IPY_MODEL_e78fced828634e9abd058143bcb30539"
      ],
      "layout": "IPY_MODEL_f1f8156d4bd94407a75f8f258ec935ef"
     }
    },
    "e1a5170c7e284904811c6cb9daa748ce": {
     "model_module": "@jupyter-widgets/controls",
     "model_module_version": "1.5.0",
     "model_name": "HTMLModel",
     "state": {
      "_dom_classes": [],
      "_model_module": "@jupyter-widgets/controls",
      "_model_module_version": "1.5.0",
      "_model_name": "HTMLModel",
      "_view_count": null,
      "_view_module": "@jupyter-widgets/controls",
      "_view_module_version": "1.5.0",
      "_view_name": "HTMLView",
      "description": "",
      "description_tooltip": null,
      "layout": "IPY_MODEL_0c937caa944a4ffda96e13d9d7ac7b53",
      "placeholder": "​",
      "style": "IPY_MODEL_58c25c1c191146adb2cd8b4b2c41775b",
      "value": "100%"
     }
    },
    "e78fced828634e9abd058143bcb30539": {
     "model_module": "@jupyter-widgets/controls",
     "model_module_version": "1.5.0",
     "model_name": "HTMLModel",
     "state": {
      "_dom_classes": [],
      "_model_module": "@jupyter-widgets/controls",
      "_model_module_version": "1.5.0",
      "_model_name": "HTMLModel",
      "_view_count": null,
      "_view_module": "@jupyter-widgets/controls",
      "_view_module_version": "1.5.0",
      "_view_name": "HTMLView",
      "description": "",
      "description_tooltip": null,
      "layout": "IPY_MODEL_9304cd86b1dc48fca04ba88a32a2f78f",
      "placeholder": "​",
      "style": "IPY_MODEL_99934b4afe20413fbfad45d3e366e0b7",
      "value": " 3/3 [00:00&lt;00:00,  7.18it/s]"
     }
    },
    "f1f8156d4bd94407a75f8f258ec935ef": {
     "model_module": "@jupyter-widgets/base",
     "model_module_version": "1.2.0",
     "model_name": "LayoutModel",
     "state": {
      "_model_module": "@jupyter-widgets/base",
      "_model_module_version": "1.2.0",
      "_model_name": "LayoutModel",
      "_view_count": null,
      "_view_module": "@jupyter-widgets/base",
      "_view_module_version": "1.2.0",
      "_view_name": "LayoutView",
      "align_content": null,
      "align_items": null,
      "align_self": null,
      "border": null,
      "bottom": null,
      "display": null,
      "flex": null,
      "flex_flow": null,
      "grid_area": null,
      "grid_auto_columns": null,
      "grid_auto_flow": null,
      "grid_auto_rows": null,
      "grid_column": null,
      "grid_gap": null,
      "grid_row": null,
      "grid_template_areas": null,
      "grid_template_columns": null,
      "grid_template_rows": null,
      "height": null,
      "justify_content": null,
      "justify_items": null,
      "left": null,
      "margin": null,
      "max_height": null,
      "max_width": null,
      "min_height": null,
      "min_width": null,
      "object_fit": null,
      "object_position": null,
      "order": null,
      "overflow": null,
      "overflow_x": null,
      "overflow_y": null,
      "padding": null,
      "right": null,
      "top": null,
      "visibility": null,
      "width": null
     }
    }
   }
  }
 },
 "nbformat": 4,
 "nbformat_minor": 5
}
